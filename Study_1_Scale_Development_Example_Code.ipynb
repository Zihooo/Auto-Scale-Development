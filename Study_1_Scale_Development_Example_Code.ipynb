{
  "nbformat": 4,
  "nbformat_minor": 0,
  "metadata": {
    "colab": {
      "provenance": [],
      "machine_shape": "hm",
      "gpuType": "T4",
      "collapsed_sections": [
        "1o2rdf3P0n3X",
        "3vqQv4S60qwv"
      ],
      "include_colab_link": true
    },
    "kernelspec": {
      "name": "python3",
      "display_name": "Python 3"
    },
    "language_info": {
      "name": "python"
    },
    "accelerator": "GPU",
    "widgets": {
      "application/vnd.jupyter.widget-state+json": {
        "009200f5e8fc4488811ca2c0cbb5af44": {
          "model_module": "@jupyter-widgets/controls",
          "model_name": "HBoxModel",
          "model_module_version": "1.5.0",
          "state": {
            "_dom_classes": [],
            "_model_module": "@jupyter-widgets/controls",
            "_model_module_version": "1.5.0",
            "_model_name": "HBoxModel",
            "_view_count": null,
            "_view_module": "@jupyter-widgets/controls",
            "_view_module_version": "1.5.0",
            "_view_name": "HBoxView",
            "box_style": "",
            "children": [
              "IPY_MODEL_f7e066dac90b4f169ab34ba984735691",
              "IPY_MODEL_9d4df07ba29c415e8f2ee967316b0bb2",
              "IPY_MODEL_f2df8c6b4b3b49758ad1c3ed147beac3"
            ],
            "layout": "IPY_MODEL_54d62d034fb5416f81ce96ac3c74fc6d"
          }
        },
        "f7e066dac90b4f169ab34ba984735691": {
          "model_module": "@jupyter-widgets/controls",
          "model_name": "HTMLModel",
          "model_module_version": "1.5.0",
          "state": {
            "_dom_classes": [],
            "_model_module": "@jupyter-widgets/controls",
            "_model_module_version": "1.5.0",
            "_model_name": "HTMLModel",
            "_view_count": null,
            "_view_module": "@jupyter-widgets/controls",
            "_view_module_version": "1.5.0",
            "_view_name": "HTMLView",
            "description": "",
            "description_tooltip": null,
            "layout": "IPY_MODEL_6aeefac21e6748269a3da704f2c22062",
            "placeholder": "​",
            "style": "IPY_MODEL_0af608a6a0af42d981c65692158243de",
            "value": "tokenizer_config.json: 100%"
          }
        },
        "9d4df07ba29c415e8f2ee967316b0bb2": {
          "model_module": "@jupyter-widgets/controls",
          "model_name": "FloatProgressModel",
          "model_module_version": "1.5.0",
          "state": {
            "_dom_classes": [],
            "_model_module": "@jupyter-widgets/controls",
            "_model_module_version": "1.5.0",
            "_model_name": "FloatProgressModel",
            "_view_count": null,
            "_view_module": "@jupyter-widgets/controls",
            "_view_module_version": "1.5.0",
            "_view_name": "ProgressView",
            "bar_style": "success",
            "description": "",
            "description_tooltip": null,
            "layout": "IPY_MODEL_9561dc76e78546bfb74c28cdfcfefb5d",
            "max": 3071,
            "min": 0,
            "orientation": "horizontal",
            "style": "IPY_MODEL_e6e933affcdb46c9942544c42edd0306",
            "value": 3071
          }
        },
        "f2df8c6b4b3b49758ad1c3ed147beac3": {
          "model_module": "@jupyter-widgets/controls",
          "model_name": "HTMLModel",
          "model_module_version": "1.5.0",
          "state": {
            "_dom_classes": [],
            "_model_module": "@jupyter-widgets/controls",
            "_model_module_version": "1.5.0",
            "_model_name": "HTMLModel",
            "_view_count": null,
            "_view_module": "@jupyter-widgets/controls",
            "_view_module_version": "1.5.0",
            "_view_name": "HTMLView",
            "description": "",
            "description_tooltip": null,
            "layout": "IPY_MODEL_e3d3820c1bc64aa79f290ff8ee2ce621",
            "placeholder": "​",
            "style": "IPY_MODEL_bebcb58d1c2d4cf6a1f93aacd049f02d",
            "value": " 3.07k/3.07k [00:00&lt;00:00, 234kB/s]"
          }
        },
        "54d62d034fb5416f81ce96ac3c74fc6d": {
          "model_module": "@jupyter-widgets/base",
          "model_name": "LayoutModel",
          "model_module_version": "1.2.0",
          "state": {
            "_model_module": "@jupyter-widgets/base",
            "_model_module_version": "1.2.0",
            "_model_name": "LayoutModel",
            "_view_count": null,
            "_view_module": "@jupyter-widgets/base",
            "_view_module_version": "1.2.0",
            "_view_name": "LayoutView",
            "align_content": null,
            "align_items": null,
            "align_self": null,
            "border": null,
            "bottom": null,
            "display": null,
            "flex": null,
            "flex_flow": null,
            "grid_area": null,
            "grid_auto_columns": null,
            "grid_auto_flow": null,
            "grid_auto_rows": null,
            "grid_column": null,
            "grid_gap": null,
            "grid_row": null,
            "grid_template_areas": null,
            "grid_template_columns": null,
            "grid_template_rows": null,
            "height": null,
            "justify_content": null,
            "justify_items": null,
            "left": null,
            "margin": null,
            "max_height": null,
            "max_width": null,
            "min_height": null,
            "min_width": null,
            "object_fit": null,
            "object_position": null,
            "order": null,
            "overflow": null,
            "overflow_x": null,
            "overflow_y": null,
            "padding": null,
            "right": null,
            "top": null,
            "visibility": null,
            "width": null
          }
        },
        "6aeefac21e6748269a3da704f2c22062": {
          "model_module": "@jupyter-widgets/base",
          "model_name": "LayoutModel",
          "model_module_version": "1.2.0",
          "state": {
            "_model_module": "@jupyter-widgets/base",
            "_model_module_version": "1.2.0",
            "_model_name": "LayoutModel",
            "_view_count": null,
            "_view_module": "@jupyter-widgets/base",
            "_view_module_version": "1.2.0",
            "_view_name": "LayoutView",
            "align_content": null,
            "align_items": null,
            "align_self": null,
            "border": null,
            "bottom": null,
            "display": null,
            "flex": null,
            "flex_flow": null,
            "grid_area": null,
            "grid_auto_columns": null,
            "grid_auto_flow": null,
            "grid_auto_rows": null,
            "grid_column": null,
            "grid_gap": null,
            "grid_row": null,
            "grid_template_areas": null,
            "grid_template_columns": null,
            "grid_template_rows": null,
            "height": null,
            "justify_content": null,
            "justify_items": null,
            "left": null,
            "margin": null,
            "max_height": null,
            "max_width": null,
            "min_height": null,
            "min_width": null,
            "object_fit": null,
            "object_position": null,
            "order": null,
            "overflow": null,
            "overflow_x": null,
            "overflow_y": null,
            "padding": null,
            "right": null,
            "top": null,
            "visibility": null,
            "width": null
          }
        },
        "0af608a6a0af42d981c65692158243de": {
          "model_module": "@jupyter-widgets/controls",
          "model_name": "DescriptionStyleModel",
          "model_module_version": "1.5.0",
          "state": {
            "_model_module": "@jupyter-widgets/controls",
            "_model_module_version": "1.5.0",
            "_model_name": "DescriptionStyleModel",
            "_view_count": null,
            "_view_module": "@jupyter-widgets/base",
            "_view_module_version": "1.2.0",
            "_view_name": "StyleView",
            "description_width": ""
          }
        },
        "9561dc76e78546bfb74c28cdfcfefb5d": {
          "model_module": "@jupyter-widgets/base",
          "model_name": "LayoutModel",
          "model_module_version": "1.2.0",
          "state": {
            "_model_module": "@jupyter-widgets/base",
            "_model_module_version": "1.2.0",
            "_model_name": "LayoutModel",
            "_view_count": null,
            "_view_module": "@jupyter-widgets/base",
            "_view_module_version": "1.2.0",
            "_view_name": "LayoutView",
            "align_content": null,
            "align_items": null,
            "align_self": null,
            "border": null,
            "bottom": null,
            "display": null,
            "flex": null,
            "flex_flow": null,
            "grid_area": null,
            "grid_auto_columns": null,
            "grid_auto_flow": null,
            "grid_auto_rows": null,
            "grid_column": null,
            "grid_gap": null,
            "grid_row": null,
            "grid_template_areas": null,
            "grid_template_columns": null,
            "grid_template_rows": null,
            "height": null,
            "justify_content": null,
            "justify_items": null,
            "left": null,
            "margin": null,
            "max_height": null,
            "max_width": null,
            "min_height": null,
            "min_width": null,
            "object_fit": null,
            "object_position": null,
            "order": null,
            "overflow": null,
            "overflow_x": null,
            "overflow_y": null,
            "padding": null,
            "right": null,
            "top": null,
            "visibility": null,
            "width": null
          }
        },
        "e6e933affcdb46c9942544c42edd0306": {
          "model_module": "@jupyter-widgets/controls",
          "model_name": "ProgressStyleModel",
          "model_module_version": "1.5.0",
          "state": {
            "_model_module": "@jupyter-widgets/controls",
            "_model_module_version": "1.5.0",
            "_model_name": "ProgressStyleModel",
            "_view_count": null,
            "_view_module": "@jupyter-widgets/base",
            "_view_module_version": "1.2.0",
            "_view_name": "StyleView",
            "bar_color": null,
            "description_width": ""
          }
        },
        "e3d3820c1bc64aa79f290ff8ee2ce621": {
          "model_module": "@jupyter-widgets/base",
          "model_name": "LayoutModel",
          "model_module_version": "1.2.0",
          "state": {
            "_model_module": "@jupyter-widgets/base",
            "_model_module_version": "1.2.0",
            "_model_name": "LayoutModel",
            "_view_count": null,
            "_view_module": "@jupyter-widgets/base",
            "_view_module_version": "1.2.0",
            "_view_name": "LayoutView",
            "align_content": null,
            "align_items": null,
            "align_self": null,
            "border": null,
            "bottom": null,
            "display": null,
            "flex": null,
            "flex_flow": null,
            "grid_area": null,
            "grid_auto_columns": null,
            "grid_auto_flow": null,
            "grid_auto_rows": null,
            "grid_column": null,
            "grid_gap": null,
            "grid_row": null,
            "grid_template_areas": null,
            "grid_template_columns": null,
            "grid_template_rows": null,
            "height": null,
            "justify_content": null,
            "justify_items": null,
            "left": null,
            "margin": null,
            "max_height": null,
            "max_width": null,
            "min_height": null,
            "min_width": null,
            "object_fit": null,
            "object_position": null,
            "order": null,
            "overflow": null,
            "overflow_x": null,
            "overflow_y": null,
            "padding": null,
            "right": null,
            "top": null,
            "visibility": null,
            "width": null
          }
        },
        "bebcb58d1c2d4cf6a1f93aacd049f02d": {
          "model_module": "@jupyter-widgets/controls",
          "model_name": "DescriptionStyleModel",
          "model_module_version": "1.5.0",
          "state": {
            "_model_module": "@jupyter-widgets/controls",
            "_model_module_version": "1.5.0",
            "_model_name": "DescriptionStyleModel",
            "_view_count": null,
            "_view_module": "@jupyter-widgets/base",
            "_view_module_version": "1.2.0",
            "_view_name": "StyleView",
            "description_width": ""
          }
        },
        "59c51d53b13d44c3bd7f299193b92c7c": {
          "model_module": "@jupyter-widgets/controls",
          "model_name": "HBoxModel",
          "model_module_version": "1.5.0",
          "state": {
            "_dom_classes": [],
            "_model_module": "@jupyter-widgets/controls",
            "_model_module_version": "1.5.0",
            "_model_name": "HBoxModel",
            "_view_count": null,
            "_view_module": "@jupyter-widgets/controls",
            "_view_module_version": "1.5.0",
            "_view_name": "HBoxView",
            "box_style": "",
            "children": [
              "IPY_MODEL_f5a382917bde4e5789fd7a69960d38d7",
              "IPY_MODEL_2ab9793d3e8946d89dc27e9ba63b8525",
              "IPY_MODEL_f97e881c4e424ad7b0f16cf2d60a30e1"
            ],
            "layout": "IPY_MODEL_88ca66d178b54f179bff787b8d2da088"
          }
        },
        "f5a382917bde4e5789fd7a69960d38d7": {
          "model_module": "@jupyter-widgets/controls",
          "model_name": "HTMLModel",
          "model_module_version": "1.5.0",
          "state": {
            "_dom_classes": [],
            "_model_module": "@jupyter-widgets/controls",
            "_model_module_version": "1.5.0",
            "_model_name": "HTMLModel",
            "_view_count": null,
            "_view_module": "@jupyter-widgets/controls",
            "_view_module_version": "1.5.0",
            "_view_name": "HTMLView",
            "description": "",
            "description_tooltip": null,
            "layout": "IPY_MODEL_daa0d9ce50ff4c7b9cf19618d67b2f6d",
            "placeholder": "​",
            "style": "IPY_MODEL_2398f81af392490bb56f3a0928fc4aaf",
            "value": "tokenizer.json: 100%"
          }
        },
        "2ab9793d3e8946d89dc27e9ba63b8525": {
          "model_module": "@jupyter-widgets/controls",
          "model_name": "FloatProgressModel",
          "model_module_version": "1.5.0",
          "state": {
            "_dom_classes": [],
            "_model_module": "@jupyter-widgets/controls",
            "_model_module_version": "1.5.0",
            "_model_name": "FloatProgressModel",
            "_view_count": null,
            "_view_module": "@jupyter-widgets/controls",
            "_view_module_version": "1.5.0",
            "_view_name": "ProgressView",
            "bar_style": "success",
            "description": "",
            "description_tooltip": null,
            "layout": "IPY_MODEL_ba2df8ca80754a16ac98fcaf1e2aefef",
            "max": 9084480,
            "min": 0,
            "orientation": "horizontal",
            "style": "IPY_MODEL_54c3e1e8a2984ec5beebda90e77af13b",
            "value": 9084480
          }
        },
        "f97e881c4e424ad7b0f16cf2d60a30e1": {
          "model_module": "@jupyter-widgets/controls",
          "model_name": "HTMLModel",
          "model_module_version": "1.5.0",
          "state": {
            "_dom_classes": [],
            "_model_module": "@jupyter-widgets/controls",
            "_model_module_version": "1.5.0",
            "_model_name": "HTMLModel",
            "_view_count": null,
            "_view_module": "@jupyter-widgets/controls",
            "_view_module_version": "1.5.0",
            "_view_name": "HTMLView",
            "description": "",
            "description_tooltip": null,
            "layout": "IPY_MODEL_8de2522154ec4161973bce827805180d",
            "placeholder": "​",
            "style": "IPY_MODEL_5716314482c14532b6812c3502cf7a7f",
            "value": " 9.08M/9.08M [00:00&lt;00:00, 10.4MB/s]"
          }
        },
        "88ca66d178b54f179bff787b8d2da088": {
          "model_module": "@jupyter-widgets/base",
          "model_name": "LayoutModel",
          "model_module_version": "1.2.0",
          "state": {
            "_model_module": "@jupyter-widgets/base",
            "_model_module_version": "1.2.0",
            "_model_name": "LayoutModel",
            "_view_count": null,
            "_view_module": "@jupyter-widgets/base",
            "_view_module_version": "1.2.0",
            "_view_name": "LayoutView",
            "align_content": null,
            "align_items": null,
            "align_self": null,
            "border": null,
            "bottom": null,
            "display": null,
            "flex": null,
            "flex_flow": null,
            "grid_area": null,
            "grid_auto_columns": null,
            "grid_auto_flow": null,
            "grid_auto_rows": null,
            "grid_column": null,
            "grid_gap": null,
            "grid_row": null,
            "grid_template_areas": null,
            "grid_template_columns": null,
            "grid_template_rows": null,
            "height": null,
            "justify_content": null,
            "justify_items": null,
            "left": null,
            "margin": null,
            "max_height": null,
            "max_width": null,
            "min_height": null,
            "min_width": null,
            "object_fit": null,
            "object_position": null,
            "order": null,
            "overflow": null,
            "overflow_x": null,
            "overflow_y": null,
            "padding": null,
            "right": null,
            "top": null,
            "visibility": null,
            "width": null
          }
        },
        "daa0d9ce50ff4c7b9cf19618d67b2f6d": {
          "model_module": "@jupyter-widgets/base",
          "model_name": "LayoutModel",
          "model_module_version": "1.2.0",
          "state": {
            "_model_module": "@jupyter-widgets/base",
            "_model_module_version": "1.2.0",
            "_model_name": "LayoutModel",
            "_view_count": null,
            "_view_module": "@jupyter-widgets/base",
            "_view_module_version": "1.2.0",
            "_view_name": "LayoutView",
            "align_content": null,
            "align_items": null,
            "align_self": null,
            "border": null,
            "bottom": null,
            "display": null,
            "flex": null,
            "flex_flow": null,
            "grid_area": null,
            "grid_auto_columns": null,
            "grid_auto_flow": null,
            "grid_auto_rows": null,
            "grid_column": null,
            "grid_gap": null,
            "grid_row": null,
            "grid_template_areas": null,
            "grid_template_columns": null,
            "grid_template_rows": null,
            "height": null,
            "justify_content": null,
            "justify_items": null,
            "left": null,
            "margin": null,
            "max_height": null,
            "max_width": null,
            "min_height": null,
            "min_width": null,
            "object_fit": null,
            "object_position": null,
            "order": null,
            "overflow": null,
            "overflow_x": null,
            "overflow_y": null,
            "padding": null,
            "right": null,
            "top": null,
            "visibility": null,
            "width": null
          }
        },
        "2398f81af392490bb56f3a0928fc4aaf": {
          "model_module": "@jupyter-widgets/controls",
          "model_name": "DescriptionStyleModel",
          "model_module_version": "1.5.0",
          "state": {
            "_model_module": "@jupyter-widgets/controls",
            "_model_module_version": "1.5.0",
            "_model_name": "DescriptionStyleModel",
            "_view_count": null,
            "_view_module": "@jupyter-widgets/base",
            "_view_module_version": "1.2.0",
            "_view_name": "StyleView",
            "description_width": ""
          }
        },
        "ba2df8ca80754a16ac98fcaf1e2aefef": {
          "model_module": "@jupyter-widgets/base",
          "model_name": "LayoutModel",
          "model_module_version": "1.2.0",
          "state": {
            "_model_module": "@jupyter-widgets/base",
            "_model_module_version": "1.2.0",
            "_model_name": "LayoutModel",
            "_view_count": null,
            "_view_module": "@jupyter-widgets/base",
            "_view_module_version": "1.2.0",
            "_view_name": "LayoutView",
            "align_content": null,
            "align_items": null,
            "align_self": null,
            "border": null,
            "bottom": null,
            "display": null,
            "flex": null,
            "flex_flow": null,
            "grid_area": null,
            "grid_auto_columns": null,
            "grid_auto_flow": null,
            "grid_auto_rows": null,
            "grid_column": null,
            "grid_gap": null,
            "grid_row": null,
            "grid_template_areas": null,
            "grid_template_columns": null,
            "grid_template_rows": null,
            "height": null,
            "justify_content": null,
            "justify_items": null,
            "left": null,
            "margin": null,
            "max_height": null,
            "max_width": null,
            "min_height": null,
            "min_width": null,
            "object_fit": null,
            "object_position": null,
            "order": null,
            "overflow": null,
            "overflow_x": null,
            "overflow_y": null,
            "padding": null,
            "right": null,
            "top": null,
            "visibility": null,
            "width": null
          }
        },
        "54c3e1e8a2984ec5beebda90e77af13b": {
          "model_module": "@jupyter-widgets/controls",
          "model_name": "ProgressStyleModel",
          "model_module_version": "1.5.0",
          "state": {
            "_model_module": "@jupyter-widgets/controls",
            "_model_module_version": "1.5.0",
            "_model_name": "ProgressStyleModel",
            "_view_count": null,
            "_view_module": "@jupyter-widgets/base",
            "_view_module_version": "1.2.0",
            "_view_name": "StyleView",
            "bar_color": null,
            "description_width": ""
          }
        },
        "8de2522154ec4161973bce827805180d": {
          "model_module": "@jupyter-widgets/base",
          "model_name": "LayoutModel",
          "model_module_version": "1.2.0",
          "state": {
            "_model_module": "@jupyter-widgets/base",
            "_model_module_version": "1.2.0",
            "_model_name": "LayoutModel",
            "_view_count": null,
            "_view_module": "@jupyter-widgets/base",
            "_view_module_version": "1.2.0",
            "_view_name": "LayoutView",
            "align_content": null,
            "align_items": null,
            "align_self": null,
            "border": null,
            "bottom": null,
            "display": null,
            "flex": null,
            "flex_flow": null,
            "grid_area": null,
            "grid_auto_columns": null,
            "grid_auto_flow": null,
            "grid_auto_rows": null,
            "grid_column": null,
            "grid_gap": null,
            "grid_row": null,
            "grid_template_areas": null,
            "grid_template_columns": null,
            "grid_template_rows": null,
            "height": null,
            "justify_content": null,
            "justify_items": null,
            "left": null,
            "margin": null,
            "max_height": null,
            "max_width": null,
            "min_height": null,
            "min_width": null,
            "object_fit": null,
            "object_position": null,
            "order": null,
            "overflow": null,
            "overflow_x": null,
            "overflow_y": null,
            "padding": null,
            "right": null,
            "top": null,
            "visibility": null,
            "width": null
          }
        },
        "5716314482c14532b6812c3502cf7a7f": {
          "model_module": "@jupyter-widgets/controls",
          "model_name": "DescriptionStyleModel",
          "model_module_version": "1.5.0",
          "state": {
            "_model_module": "@jupyter-widgets/controls",
            "_model_module_version": "1.5.0",
            "_model_name": "DescriptionStyleModel",
            "_view_count": null,
            "_view_module": "@jupyter-widgets/base",
            "_view_module_version": "1.2.0",
            "_view_name": "StyleView",
            "description_width": ""
          }
        },
        "ba004a87d2b542939f65ef4732feb778": {
          "model_module": "@jupyter-widgets/controls",
          "model_name": "HBoxModel",
          "model_module_version": "1.5.0",
          "state": {
            "_dom_classes": [],
            "_model_module": "@jupyter-widgets/controls",
            "_model_module_version": "1.5.0",
            "_model_name": "HBoxModel",
            "_view_count": null,
            "_view_module": "@jupyter-widgets/controls",
            "_view_module_version": "1.5.0",
            "_view_name": "HBoxView",
            "box_style": "",
            "children": [
              "IPY_MODEL_59471301de6a4e3c99c9a231ac674b24",
              "IPY_MODEL_a169a2baa06045389ee817732d8ba922",
              "IPY_MODEL_828e0f29175e4f23aa697d950f0cad0b"
            ],
            "layout": "IPY_MODEL_4c7a960e828f46d99ede84b7b471538e"
          }
        },
        "59471301de6a4e3c99c9a231ac674b24": {
          "model_module": "@jupyter-widgets/controls",
          "model_name": "HTMLModel",
          "model_module_version": "1.5.0",
          "state": {
            "_dom_classes": [],
            "_model_module": "@jupyter-widgets/controls",
            "_model_module_version": "1.5.0",
            "_model_name": "HTMLModel",
            "_view_count": null,
            "_view_module": "@jupyter-widgets/controls",
            "_view_module_version": "1.5.0",
            "_view_name": "HTMLView",
            "description": "",
            "description_tooltip": null,
            "layout": "IPY_MODEL_ba413a2e7cec4aa0a59329f6d6524e11",
            "placeholder": "​",
            "style": "IPY_MODEL_e958e439120c4342896eefac59e87808",
            "value": "config.json: 100%"
          }
        },
        "a169a2baa06045389ee817732d8ba922": {
          "model_module": "@jupyter-widgets/controls",
          "model_name": "FloatProgressModel",
          "model_module_version": "1.5.0",
          "state": {
            "_dom_classes": [],
            "_model_module": "@jupyter-widgets/controls",
            "_model_module_version": "1.5.0",
            "_model_name": "FloatProgressModel",
            "_view_count": null,
            "_view_module": "@jupyter-widgets/controls",
            "_view_module_version": "1.5.0",
            "_view_name": "ProgressView",
            "bar_style": "success",
            "description": "",
            "description_tooltip": null,
            "layout": "IPY_MODEL_e8bbc565111a453ea4b97f375bcb16f4",
            "max": 826,
            "min": 0,
            "orientation": "horizontal",
            "style": "IPY_MODEL_df4f3002549e42f28970b41bb9c5646a",
            "value": 826
          }
        },
        "828e0f29175e4f23aa697d950f0cad0b": {
          "model_module": "@jupyter-widgets/controls",
          "model_name": "HTMLModel",
          "model_module_version": "1.5.0",
          "state": {
            "_dom_classes": [],
            "_model_module": "@jupyter-widgets/controls",
            "_model_module_version": "1.5.0",
            "_model_name": "HTMLModel",
            "_view_count": null,
            "_view_module": "@jupyter-widgets/controls",
            "_view_module_version": "1.5.0",
            "_view_name": "HTMLView",
            "description": "",
            "description_tooltip": null,
            "layout": "IPY_MODEL_81568de0482d4e0f80b407af5544ae5f",
            "placeholder": "​",
            "style": "IPY_MODEL_3b3260a2370345bdbfdd6305cca180ad",
            "value": " 826/826 [00:00&lt;00:00, 52.4kB/s]"
          }
        },
        "4c7a960e828f46d99ede84b7b471538e": {
          "model_module": "@jupyter-widgets/base",
          "model_name": "LayoutModel",
          "model_module_version": "1.2.0",
          "state": {
            "_model_module": "@jupyter-widgets/base",
            "_model_module_version": "1.2.0",
            "_model_name": "LayoutModel",
            "_view_count": null,
            "_view_module": "@jupyter-widgets/base",
            "_view_module_version": "1.2.0",
            "_view_name": "LayoutView",
            "align_content": null,
            "align_items": null,
            "align_self": null,
            "border": null,
            "bottom": null,
            "display": null,
            "flex": null,
            "flex_flow": null,
            "grid_area": null,
            "grid_auto_columns": null,
            "grid_auto_flow": null,
            "grid_auto_rows": null,
            "grid_column": null,
            "grid_gap": null,
            "grid_row": null,
            "grid_template_areas": null,
            "grid_template_columns": null,
            "grid_template_rows": null,
            "height": null,
            "justify_content": null,
            "justify_items": null,
            "left": null,
            "margin": null,
            "max_height": null,
            "max_width": null,
            "min_height": null,
            "min_width": null,
            "object_fit": null,
            "object_position": null,
            "order": null,
            "overflow": null,
            "overflow_x": null,
            "overflow_y": null,
            "padding": null,
            "right": null,
            "top": null,
            "visibility": null,
            "width": null
          }
        },
        "ba413a2e7cec4aa0a59329f6d6524e11": {
          "model_module": "@jupyter-widgets/base",
          "model_name": "LayoutModel",
          "model_module_version": "1.2.0",
          "state": {
            "_model_module": "@jupyter-widgets/base",
            "_model_module_version": "1.2.0",
            "_model_name": "LayoutModel",
            "_view_count": null,
            "_view_module": "@jupyter-widgets/base",
            "_view_module_version": "1.2.0",
            "_view_name": "LayoutView",
            "align_content": null,
            "align_items": null,
            "align_self": null,
            "border": null,
            "bottom": null,
            "display": null,
            "flex": null,
            "flex_flow": null,
            "grid_area": null,
            "grid_auto_columns": null,
            "grid_auto_flow": null,
            "grid_auto_rows": null,
            "grid_column": null,
            "grid_gap": null,
            "grid_row": null,
            "grid_template_areas": null,
            "grid_template_columns": null,
            "grid_template_rows": null,
            "height": null,
            "justify_content": null,
            "justify_items": null,
            "left": null,
            "margin": null,
            "max_height": null,
            "max_width": null,
            "min_height": null,
            "min_width": null,
            "object_fit": null,
            "object_position": null,
            "order": null,
            "overflow": null,
            "overflow_x": null,
            "overflow_y": null,
            "padding": null,
            "right": null,
            "top": null,
            "visibility": null,
            "width": null
          }
        },
        "e958e439120c4342896eefac59e87808": {
          "model_module": "@jupyter-widgets/controls",
          "model_name": "DescriptionStyleModel",
          "model_module_version": "1.5.0",
          "state": {
            "_model_module": "@jupyter-widgets/controls",
            "_model_module_version": "1.5.0",
            "_model_name": "DescriptionStyleModel",
            "_view_count": null,
            "_view_module": "@jupyter-widgets/base",
            "_view_module_version": "1.2.0",
            "_view_name": "StyleView",
            "description_width": ""
          }
        },
        "e8bbc565111a453ea4b97f375bcb16f4": {
          "model_module": "@jupyter-widgets/base",
          "model_name": "LayoutModel",
          "model_module_version": "1.2.0",
          "state": {
            "_model_module": "@jupyter-widgets/base",
            "_model_module_version": "1.2.0",
            "_model_name": "LayoutModel",
            "_view_count": null,
            "_view_module": "@jupyter-widgets/base",
            "_view_module_version": "1.2.0",
            "_view_name": "LayoutView",
            "align_content": null,
            "align_items": null,
            "align_self": null,
            "border": null,
            "bottom": null,
            "display": null,
            "flex": null,
            "flex_flow": null,
            "grid_area": null,
            "grid_auto_columns": null,
            "grid_auto_flow": null,
            "grid_auto_rows": null,
            "grid_column": null,
            "grid_gap": null,
            "grid_row": null,
            "grid_template_areas": null,
            "grid_template_columns": null,
            "grid_template_rows": null,
            "height": null,
            "justify_content": null,
            "justify_items": null,
            "left": null,
            "margin": null,
            "max_height": null,
            "max_width": null,
            "min_height": null,
            "min_width": null,
            "object_fit": null,
            "object_position": null,
            "order": null,
            "overflow": null,
            "overflow_x": null,
            "overflow_y": null,
            "padding": null,
            "right": null,
            "top": null,
            "visibility": null,
            "width": null
          }
        },
        "df4f3002549e42f28970b41bb9c5646a": {
          "model_module": "@jupyter-widgets/controls",
          "model_name": "ProgressStyleModel",
          "model_module_version": "1.5.0",
          "state": {
            "_model_module": "@jupyter-widgets/controls",
            "_model_module_version": "1.5.0",
            "_model_name": "ProgressStyleModel",
            "_view_count": null,
            "_view_module": "@jupyter-widgets/base",
            "_view_module_version": "1.2.0",
            "_view_name": "StyleView",
            "bar_color": null,
            "description_width": ""
          }
        },
        "81568de0482d4e0f80b407af5544ae5f": {
          "model_module": "@jupyter-widgets/base",
          "model_name": "LayoutModel",
          "model_module_version": "1.2.0",
          "state": {
            "_model_module": "@jupyter-widgets/base",
            "_model_module_version": "1.2.0",
            "_model_name": "LayoutModel",
            "_view_count": null,
            "_view_module": "@jupyter-widgets/base",
            "_view_module_version": "1.2.0",
            "_view_name": "LayoutView",
            "align_content": null,
            "align_items": null,
            "align_self": null,
            "border": null,
            "bottom": null,
            "display": null,
            "flex": null,
            "flex_flow": null,
            "grid_area": null,
            "grid_auto_columns": null,
            "grid_auto_flow": null,
            "grid_auto_rows": null,
            "grid_column": null,
            "grid_gap": null,
            "grid_row": null,
            "grid_template_areas": null,
            "grid_template_columns": null,
            "grid_template_rows": null,
            "height": null,
            "justify_content": null,
            "justify_items": null,
            "left": null,
            "margin": null,
            "max_height": null,
            "max_width": null,
            "min_height": null,
            "min_width": null,
            "object_fit": null,
            "object_position": null,
            "order": null,
            "overflow": null,
            "overflow_x": null,
            "overflow_y": null,
            "padding": null,
            "right": null,
            "top": null,
            "visibility": null,
            "width": null
          }
        },
        "3b3260a2370345bdbfdd6305cca180ad": {
          "model_module": "@jupyter-widgets/controls",
          "model_name": "DescriptionStyleModel",
          "model_module_version": "1.5.0",
          "state": {
            "_model_module": "@jupyter-widgets/controls",
            "_model_module_version": "1.5.0",
            "_model_name": "DescriptionStyleModel",
            "_view_count": null,
            "_view_module": "@jupyter-widgets/base",
            "_view_module_version": "1.2.0",
            "_view_name": "StyleView",
            "description_width": ""
          }
        },
        "6a7a5635d8fc4e3e854c1bad04d5fab0": {
          "model_module": "@jupyter-widgets/controls",
          "model_name": "HBoxModel",
          "model_module_version": "1.5.0",
          "state": {
            "_dom_classes": [],
            "_model_module": "@jupyter-widgets/controls",
            "_model_module_version": "1.5.0",
            "_model_name": "HBoxModel",
            "_view_count": null,
            "_view_module": "@jupyter-widgets/controls",
            "_view_module_version": "1.5.0",
            "_view_name": "HBoxView",
            "box_style": "",
            "children": [
              "IPY_MODEL_a222467367344853a6c6a89b7d6e93d4",
              "IPY_MODEL_71f347b6f3034021b2fd00ce0c545115",
              "IPY_MODEL_075e10da7a0d4087b55c1a30600a8e02"
            ],
            "layout": "IPY_MODEL_e1d23d3798c04a469adbd3fd1ffc930c"
          }
        },
        "a222467367344853a6c6a89b7d6e93d4": {
          "model_module": "@jupyter-widgets/controls",
          "model_name": "HTMLModel",
          "model_module_version": "1.5.0",
          "state": {
            "_dom_classes": [],
            "_model_module": "@jupyter-widgets/controls",
            "_model_module_version": "1.5.0",
            "_model_name": "HTMLModel",
            "_view_count": null,
            "_view_module": "@jupyter-widgets/controls",
            "_view_module_version": "1.5.0",
            "_view_name": "HTMLView",
            "description": "",
            "description_tooltip": null,
            "layout": "IPY_MODEL_ee530dbe48d1404092f063244c96c55a",
            "placeholder": "​",
            "style": "IPY_MODEL_f5db35911a9f45bca891d3869b2305cf",
            "value": "model.safetensors.index.json: 100%"
          }
        },
        "71f347b6f3034021b2fd00ce0c545115": {
          "model_module": "@jupyter-widgets/controls",
          "model_name": "FloatProgressModel",
          "model_module_version": "1.5.0",
          "state": {
            "_dom_classes": [],
            "_model_module": "@jupyter-widgets/controls",
            "_model_module_version": "1.5.0",
            "_model_name": "FloatProgressModel",
            "_view_count": null,
            "_view_module": "@jupyter-widgets/controls",
            "_view_module_version": "1.5.0",
            "_view_name": "ProgressView",
            "bar_style": "success",
            "description": "",
            "description_tooltip": null,
            "layout": "IPY_MODEL_c99cfedb2e56488c827dea1c5c480503",
            "max": 24240,
            "min": 0,
            "orientation": "horizontal",
            "style": "IPY_MODEL_3716f745b25c49c68f0dc879e0ae69b1",
            "value": 24240
          }
        },
        "075e10da7a0d4087b55c1a30600a8e02": {
          "model_module": "@jupyter-widgets/controls",
          "model_name": "HTMLModel",
          "model_module_version": "1.5.0",
          "state": {
            "_dom_classes": [],
            "_model_module": "@jupyter-widgets/controls",
            "_model_module_version": "1.5.0",
            "_model_name": "HTMLModel",
            "_view_count": null,
            "_view_module": "@jupyter-widgets/controls",
            "_view_module_version": "1.5.0",
            "_view_name": "HTMLView",
            "description": "",
            "description_tooltip": null,
            "layout": "IPY_MODEL_71073e137eba45ecaa8d7784ceab3ac8",
            "placeholder": "​",
            "style": "IPY_MODEL_e03c053ae3b5460b9c07edbbc547c510",
            "value": " 24.2k/24.2k [00:00&lt;00:00, 1.73MB/s]"
          }
        },
        "e1d23d3798c04a469adbd3fd1ffc930c": {
          "model_module": "@jupyter-widgets/base",
          "model_name": "LayoutModel",
          "model_module_version": "1.2.0",
          "state": {
            "_model_module": "@jupyter-widgets/base",
            "_model_module_version": "1.2.0",
            "_model_name": "LayoutModel",
            "_view_count": null,
            "_view_module": "@jupyter-widgets/base",
            "_view_module_version": "1.2.0",
            "_view_name": "LayoutView",
            "align_content": null,
            "align_items": null,
            "align_self": null,
            "border": null,
            "bottom": null,
            "display": null,
            "flex": null,
            "flex_flow": null,
            "grid_area": null,
            "grid_auto_columns": null,
            "grid_auto_flow": null,
            "grid_auto_rows": null,
            "grid_column": null,
            "grid_gap": null,
            "grid_row": null,
            "grid_template_areas": null,
            "grid_template_columns": null,
            "grid_template_rows": null,
            "height": null,
            "justify_content": null,
            "justify_items": null,
            "left": null,
            "margin": null,
            "max_height": null,
            "max_width": null,
            "min_height": null,
            "min_width": null,
            "object_fit": null,
            "object_position": null,
            "order": null,
            "overflow": null,
            "overflow_x": null,
            "overflow_y": null,
            "padding": null,
            "right": null,
            "top": null,
            "visibility": null,
            "width": null
          }
        },
        "ee530dbe48d1404092f063244c96c55a": {
          "model_module": "@jupyter-widgets/base",
          "model_name": "LayoutModel",
          "model_module_version": "1.2.0",
          "state": {
            "_model_module": "@jupyter-widgets/base",
            "_model_module_version": "1.2.0",
            "_model_name": "LayoutModel",
            "_view_count": null,
            "_view_module": "@jupyter-widgets/base",
            "_view_module_version": "1.2.0",
            "_view_name": "LayoutView",
            "align_content": null,
            "align_items": null,
            "align_self": null,
            "border": null,
            "bottom": null,
            "display": null,
            "flex": null,
            "flex_flow": null,
            "grid_area": null,
            "grid_auto_columns": null,
            "grid_auto_flow": null,
            "grid_auto_rows": null,
            "grid_column": null,
            "grid_gap": null,
            "grid_row": null,
            "grid_template_areas": null,
            "grid_template_columns": null,
            "grid_template_rows": null,
            "height": null,
            "justify_content": null,
            "justify_items": null,
            "left": null,
            "margin": null,
            "max_height": null,
            "max_width": null,
            "min_height": null,
            "min_width": null,
            "object_fit": null,
            "object_position": null,
            "order": null,
            "overflow": null,
            "overflow_x": null,
            "overflow_y": null,
            "padding": null,
            "right": null,
            "top": null,
            "visibility": null,
            "width": null
          }
        },
        "f5db35911a9f45bca891d3869b2305cf": {
          "model_module": "@jupyter-widgets/controls",
          "model_name": "DescriptionStyleModel",
          "model_module_version": "1.5.0",
          "state": {
            "_model_module": "@jupyter-widgets/controls",
            "_model_module_version": "1.5.0",
            "_model_name": "DescriptionStyleModel",
            "_view_count": null,
            "_view_module": "@jupyter-widgets/base",
            "_view_module_version": "1.2.0",
            "_view_name": "StyleView",
            "description_width": ""
          }
        },
        "c99cfedb2e56488c827dea1c5c480503": {
          "model_module": "@jupyter-widgets/base",
          "model_name": "LayoutModel",
          "model_module_version": "1.2.0",
          "state": {
            "_model_module": "@jupyter-widgets/base",
            "_model_module_version": "1.2.0",
            "_model_name": "LayoutModel",
            "_view_count": null,
            "_view_module": "@jupyter-widgets/base",
            "_view_module_version": "1.2.0",
            "_view_name": "LayoutView",
            "align_content": null,
            "align_items": null,
            "align_self": null,
            "border": null,
            "bottom": null,
            "display": null,
            "flex": null,
            "flex_flow": null,
            "grid_area": null,
            "grid_auto_columns": null,
            "grid_auto_flow": null,
            "grid_auto_rows": null,
            "grid_column": null,
            "grid_gap": null,
            "grid_row": null,
            "grid_template_areas": null,
            "grid_template_columns": null,
            "grid_template_rows": null,
            "height": null,
            "justify_content": null,
            "justify_items": null,
            "left": null,
            "margin": null,
            "max_height": null,
            "max_width": null,
            "min_height": null,
            "min_width": null,
            "object_fit": null,
            "object_position": null,
            "order": null,
            "overflow": null,
            "overflow_x": null,
            "overflow_y": null,
            "padding": null,
            "right": null,
            "top": null,
            "visibility": null,
            "width": null
          }
        },
        "3716f745b25c49c68f0dc879e0ae69b1": {
          "model_module": "@jupyter-widgets/controls",
          "model_name": "ProgressStyleModel",
          "model_module_version": "1.5.0",
          "state": {
            "_model_module": "@jupyter-widgets/controls",
            "_model_module_version": "1.5.0",
            "_model_name": "ProgressStyleModel",
            "_view_count": null,
            "_view_module": "@jupyter-widgets/base",
            "_view_module_version": "1.2.0",
            "_view_name": "StyleView",
            "bar_color": null,
            "description_width": ""
          }
        },
        "71073e137eba45ecaa8d7784ceab3ac8": {
          "model_module": "@jupyter-widgets/base",
          "model_name": "LayoutModel",
          "model_module_version": "1.2.0",
          "state": {
            "_model_module": "@jupyter-widgets/base",
            "_model_module_version": "1.2.0",
            "_model_name": "LayoutModel",
            "_view_count": null,
            "_view_module": "@jupyter-widgets/base",
            "_view_module_version": "1.2.0",
            "_view_name": "LayoutView",
            "align_content": null,
            "align_items": null,
            "align_self": null,
            "border": null,
            "bottom": null,
            "display": null,
            "flex": null,
            "flex_flow": null,
            "grid_area": null,
            "grid_auto_columns": null,
            "grid_auto_flow": null,
            "grid_auto_rows": null,
            "grid_column": null,
            "grid_gap": null,
            "grid_row": null,
            "grid_template_areas": null,
            "grid_template_columns": null,
            "grid_template_rows": null,
            "height": null,
            "justify_content": null,
            "justify_items": null,
            "left": null,
            "margin": null,
            "max_height": null,
            "max_width": null,
            "min_height": null,
            "min_width": null,
            "object_fit": null,
            "object_position": null,
            "order": null,
            "overflow": null,
            "overflow_x": null,
            "overflow_y": null,
            "padding": null,
            "right": null,
            "top": null,
            "visibility": null,
            "width": null
          }
        },
        "e03c053ae3b5460b9c07edbbc547c510": {
          "model_module": "@jupyter-widgets/controls",
          "model_name": "DescriptionStyleModel",
          "model_module_version": "1.5.0",
          "state": {
            "_model_module": "@jupyter-widgets/controls",
            "_model_module_version": "1.5.0",
            "_model_name": "DescriptionStyleModel",
            "_view_count": null,
            "_view_module": "@jupyter-widgets/base",
            "_view_module_version": "1.2.0",
            "_view_name": "StyleView",
            "description_width": ""
          }
        },
        "a374ce0cc73e47e09aa34a84fd3d2ccb": {
          "model_module": "@jupyter-widgets/controls",
          "model_name": "HBoxModel",
          "model_module_version": "1.5.0",
          "state": {
            "_dom_classes": [],
            "_model_module": "@jupyter-widgets/controls",
            "_model_module_version": "1.5.0",
            "_model_name": "HBoxModel",
            "_view_count": null,
            "_view_module": "@jupyter-widgets/controls",
            "_view_module_version": "1.5.0",
            "_view_name": "HBoxView",
            "box_style": "",
            "children": [
              "IPY_MODEL_c2a51c3003244609ab20ef618d82567a",
              "IPY_MODEL_a75057c3e96e40148a04731b5474e94a",
              "IPY_MODEL_1e9bdb1d2d594d009b947f0ca7c94acc"
            ],
            "layout": "IPY_MODEL_6646e5fbf7864b438ccf33a0b906964b"
          }
        },
        "c2a51c3003244609ab20ef618d82567a": {
          "model_module": "@jupyter-widgets/controls",
          "model_name": "HTMLModel",
          "model_module_version": "1.5.0",
          "state": {
            "_dom_classes": [],
            "_model_module": "@jupyter-widgets/controls",
            "_model_module_version": "1.5.0",
            "_model_name": "HTMLModel",
            "_view_count": null,
            "_view_module": "@jupyter-widgets/controls",
            "_view_module_version": "1.5.0",
            "_view_name": "HTMLView",
            "description": "",
            "description_tooltip": null,
            "layout": "IPY_MODEL_a3b4b23e59834a378d68463eb96de11b",
            "placeholder": "​",
            "style": "IPY_MODEL_b3eeb9fffd7e4424810ae772e59e4b95",
            "value": "Downloading shards: 100%"
          }
        },
        "a75057c3e96e40148a04731b5474e94a": {
          "model_module": "@jupyter-widgets/controls",
          "model_name": "FloatProgressModel",
          "model_module_version": "1.5.0",
          "state": {
            "_dom_classes": [],
            "_model_module": "@jupyter-widgets/controls",
            "_model_module_version": "1.5.0",
            "_model_name": "FloatProgressModel",
            "_view_count": null,
            "_view_module": "@jupyter-widgets/controls",
            "_view_module_version": "1.5.0",
            "_view_name": "ProgressView",
            "bar_style": "success",
            "description": "",
            "description_tooltip": null,
            "layout": "IPY_MODEL_1c6dc77de4984322a92e0e94d0265c69",
            "max": 2,
            "min": 0,
            "orientation": "horizontal",
            "style": "IPY_MODEL_540edb8e60534fff9bdf64936c1c4b13",
            "value": 2
          }
        },
        "1e9bdb1d2d594d009b947f0ca7c94acc": {
          "model_module": "@jupyter-widgets/controls",
          "model_name": "HTMLModel",
          "model_module_version": "1.5.0",
          "state": {
            "_dom_classes": [],
            "_model_module": "@jupyter-widgets/controls",
            "_model_module_version": "1.5.0",
            "_model_name": "HTMLModel",
            "_view_count": null,
            "_view_module": "@jupyter-widgets/controls",
            "_view_module_version": "1.5.0",
            "_view_name": "HTMLView",
            "description": "",
            "description_tooltip": null,
            "layout": "IPY_MODEL_3fc551f4f91e4f4487a1a03d5cf08e42",
            "placeholder": "​",
            "style": "IPY_MODEL_3a3fa880558942f8baf9e162dea46b7c",
            "value": " 2/2 [06:22&lt;00:00, 188.50s/it]"
          }
        },
        "6646e5fbf7864b438ccf33a0b906964b": {
          "model_module": "@jupyter-widgets/base",
          "model_name": "LayoutModel",
          "model_module_version": "1.2.0",
          "state": {
            "_model_module": "@jupyter-widgets/base",
            "_model_module_version": "1.2.0",
            "_model_name": "LayoutModel",
            "_view_count": null,
            "_view_module": "@jupyter-widgets/base",
            "_view_module_version": "1.2.0",
            "_view_name": "LayoutView",
            "align_content": null,
            "align_items": null,
            "align_self": null,
            "border": null,
            "bottom": null,
            "display": null,
            "flex": null,
            "flex_flow": null,
            "grid_area": null,
            "grid_auto_columns": null,
            "grid_auto_flow": null,
            "grid_auto_rows": null,
            "grid_column": null,
            "grid_gap": null,
            "grid_row": null,
            "grid_template_areas": null,
            "grid_template_columns": null,
            "grid_template_rows": null,
            "height": null,
            "justify_content": null,
            "justify_items": null,
            "left": null,
            "margin": null,
            "max_height": null,
            "max_width": null,
            "min_height": null,
            "min_width": null,
            "object_fit": null,
            "object_position": null,
            "order": null,
            "overflow": null,
            "overflow_x": null,
            "overflow_y": null,
            "padding": null,
            "right": null,
            "top": null,
            "visibility": null,
            "width": null
          }
        },
        "a3b4b23e59834a378d68463eb96de11b": {
          "model_module": "@jupyter-widgets/base",
          "model_name": "LayoutModel",
          "model_module_version": "1.2.0",
          "state": {
            "_model_module": "@jupyter-widgets/base",
            "_model_module_version": "1.2.0",
            "_model_name": "LayoutModel",
            "_view_count": null,
            "_view_module": "@jupyter-widgets/base",
            "_view_module_version": "1.2.0",
            "_view_name": "LayoutView",
            "align_content": null,
            "align_items": null,
            "align_self": null,
            "border": null,
            "bottom": null,
            "display": null,
            "flex": null,
            "flex_flow": null,
            "grid_area": null,
            "grid_auto_columns": null,
            "grid_auto_flow": null,
            "grid_auto_rows": null,
            "grid_column": null,
            "grid_gap": null,
            "grid_row": null,
            "grid_template_areas": null,
            "grid_template_columns": null,
            "grid_template_rows": null,
            "height": null,
            "justify_content": null,
            "justify_items": null,
            "left": null,
            "margin": null,
            "max_height": null,
            "max_width": null,
            "min_height": null,
            "min_width": null,
            "object_fit": null,
            "object_position": null,
            "order": null,
            "overflow": null,
            "overflow_x": null,
            "overflow_y": null,
            "padding": null,
            "right": null,
            "top": null,
            "visibility": null,
            "width": null
          }
        },
        "b3eeb9fffd7e4424810ae772e59e4b95": {
          "model_module": "@jupyter-widgets/controls",
          "model_name": "DescriptionStyleModel",
          "model_module_version": "1.5.0",
          "state": {
            "_model_module": "@jupyter-widgets/controls",
            "_model_module_version": "1.5.0",
            "_model_name": "DescriptionStyleModel",
            "_view_count": null,
            "_view_module": "@jupyter-widgets/base",
            "_view_module_version": "1.2.0",
            "_view_name": "StyleView",
            "description_width": ""
          }
        },
        "1c6dc77de4984322a92e0e94d0265c69": {
          "model_module": "@jupyter-widgets/base",
          "model_name": "LayoutModel",
          "model_module_version": "1.2.0",
          "state": {
            "_model_module": "@jupyter-widgets/base",
            "_model_module_version": "1.2.0",
            "_model_name": "LayoutModel",
            "_view_count": null,
            "_view_module": "@jupyter-widgets/base",
            "_view_module_version": "1.2.0",
            "_view_name": "LayoutView",
            "align_content": null,
            "align_items": null,
            "align_self": null,
            "border": null,
            "bottom": null,
            "display": null,
            "flex": null,
            "flex_flow": null,
            "grid_area": null,
            "grid_auto_columns": null,
            "grid_auto_flow": null,
            "grid_auto_rows": null,
            "grid_column": null,
            "grid_gap": null,
            "grid_row": null,
            "grid_template_areas": null,
            "grid_template_columns": null,
            "grid_template_rows": null,
            "height": null,
            "justify_content": null,
            "justify_items": null,
            "left": null,
            "margin": null,
            "max_height": null,
            "max_width": null,
            "min_height": null,
            "min_width": null,
            "object_fit": null,
            "object_position": null,
            "order": null,
            "overflow": null,
            "overflow_x": null,
            "overflow_y": null,
            "padding": null,
            "right": null,
            "top": null,
            "visibility": null,
            "width": null
          }
        },
        "540edb8e60534fff9bdf64936c1c4b13": {
          "model_module": "@jupyter-widgets/controls",
          "model_name": "ProgressStyleModel",
          "model_module_version": "1.5.0",
          "state": {
            "_model_module": "@jupyter-widgets/controls",
            "_model_module_version": "1.5.0",
            "_model_name": "ProgressStyleModel",
            "_view_count": null,
            "_view_module": "@jupyter-widgets/base",
            "_view_module_version": "1.2.0",
            "_view_name": "StyleView",
            "bar_color": null,
            "description_width": ""
          }
        },
        "3fc551f4f91e4f4487a1a03d5cf08e42": {
          "model_module": "@jupyter-widgets/base",
          "model_name": "LayoutModel",
          "model_module_version": "1.2.0",
          "state": {
            "_model_module": "@jupyter-widgets/base",
            "_model_module_version": "1.2.0",
            "_model_name": "LayoutModel",
            "_view_count": null,
            "_view_module": "@jupyter-widgets/base",
            "_view_module_version": "1.2.0",
            "_view_name": "LayoutView",
            "align_content": null,
            "align_items": null,
            "align_self": null,
            "border": null,
            "bottom": null,
            "display": null,
            "flex": null,
            "flex_flow": null,
            "grid_area": null,
            "grid_auto_columns": null,
            "grid_auto_flow": null,
            "grid_auto_rows": null,
            "grid_column": null,
            "grid_gap": null,
            "grid_row": null,
            "grid_template_areas": null,
            "grid_template_columns": null,
            "grid_template_rows": null,
            "height": null,
            "justify_content": null,
            "justify_items": null,
            "left": null,
            "margin": null,
            "max_height": null,
            "max_width": null,
            "min_height": null,
            "min_width": null,
            "object_fit": null,
            "object_position": null,
            "order": null,
            "overflow": null,
            "overflow_x": null,
            "overflow_y": null,
            "padding": null,
            "right": null,
            "top": null,
            "visibility": null,
            "width": null
          }
        },
        "3a3fa880558942f8baf9e162dea46b7c": {
          "model_module": "@jupyter-widgets/controls",
          "model_name": "DescriptionStyleModel",
          "model_module_version": "1.5.0",
          "state": {
            "_model_module": "@jupyter-widgets/controls",
            "_model_module_version": "1.5.0",
            "_model_name": "DescriptionStyleModel",
            "_view_count": null,
            "_view_module": "@jupyter-widgets/base",
            "_view_module_version": "1.2.0",
            "_view_name": "StyleView",
            "description_width": ""
          }
        },
        "ad279cc77a54438c91af97768b6a56f7": {
          "model_module": "@jupyter-widgets/controls",
          "model_name": "HBoxModel",
          "model_module_version": "1.5.0",
          "state": {
            "_dom_classes": [],
            "_model_module": "@jupyter-widgets/controls",
            "_model_module_version": "1.5.0",
            "_model_name": "HBoxModel",
            "_view_count": null,
            "_view_module": "@jupyter-widgets/controls",
            "_view_module_version": "1.5.0",
            "_view_name": "HBoxView",
            "box_style": "",
            "children": [
              "IPY_MODEL_9c5bc7c2e97341dca0baf4427012530c",
              "IPY_MODEL_c5352c430c304779abe5e7283f1c835c",
              "IPY_MODEL_c8e6d026c7e341a5ae16f85ff057d10b"
            ],
            "layout": "IPY_MODEL_e4b4be8e79814803b228e5c6a7426ddb"
          }
        },
        "9c5bc7c2e97341dca0baf4427012530c": {
          "model_module": "@jupyter-widgets/controls",
          "model_name": "HTMLModel",
          "model_module_version": "1.5.0",
          "state": {
            "_dom_classes": [],
            "_model_module": "@jupyter-widgets/controls",
            "_model_module_version": "1.5.0",
            "_model_name": "HTMLModel",
            "_view_count": null,
            "_view_module": "@jupyter-widgets/controls",
            "_view_module_version": "1.5.0",
            "_view_name": "HTMLView",
            "description": "",
            "description_tooltip": null,
            "layout": "IPY_MODEL_e7a3a47598414fc2900f53c67e1866e2",
            "placeholder": "​",
            "style": "IPY_MODEL_9eda8655d2b84446a0fa57b74a0fa79f",
            "value": "model-00001-of-000002.safetensors: 100%"
          }
        },
        "c5352c430c304779abe5e7283f1c835c": {
          "model_module": "@jupyter-widgets/controls",
          "model_name": "FloatProgressModel",
          "model_module_version": "1.5.0",
          "state": {
            "_dom_classes": [],
            "_model_module": "@jupyter-widgets/controls",
            "_model_module_version": "1.5.0",
            "_model_name": "FloatProgressModel",
            "_view_count": null,
            "_view_module": "@jupyter-widgets/controls",
            "_view_module_version": "1.5.0",
            "_view_name": "ProgressView",
            "bar_style": "success",
            "description": "",
            "description_tooltip": null,
            "layout": "IPY_MODEL_e71f9136caad4b8ca509ab0b668d5fc3",
            "max": 8667826246,
            "min": 0,
            "orientation": "horizontal",
            "style": "IPY_MODEL_2bb42a32eeff4036a9ba87f6bbff526d",
            "value": 8667826246
          }
        },
        "c8e6d026c7e341a5ae16f85ff057d10b": {
          "model_module": "@jupyter-widgets/controls",
          "model_name": "HTMLModel",
          "model_module_version": "1.5.0",
          "state": {
            "_dom_classes": [],
            "_model_module": "@jupyter-widgets/controls",
            "_model_module_version": "1.5.0",
            "_model_name": "HTMLModel",
            "_view_count": null,
            "_view_module": "@jupyter-widgets/controls",
            "_view_module_version": "1.5.0",
            "_view_name": "HTMLView",
            "description": "",
            "description_tooltip": null,
            "layout": "IPY_MODEL_f4f6c9975eaa42bb85e17280440d84f2",
            "placeholder": "​",
            "style": "IPY_MODEL_18c055947b454c87b9d25a8fafe9b559",
            "value": " 8.67G/8.67G [03:26&lt;00:00, 42.4MB/s]"
          }
        },
        "e4b4be8e79814803b228e5c6a7426ddb": {
          "model_module": "@jupyter-widgets/base",
          "model_name": "LayoutModel",
          "model_module_version": "1.2.0",
          "state": {
            "_model_module": "@jupyter-widgets/base",
            "_model_module_version": "1.2.0",
            "_model_name": "LayoutModel",
            "_view_count": null,
            "_view_module": "@jupyter-widgets/base",
            "_view_module_version": "1.2.0",
            "_view_name": "LayoutView",
            "align_content": null,
            "align_items": null,
            "align_self": null,
            "border": null,
            "bottom": null,
            "display": null,
            "flex": null,
            "flex_flow": null,
            "grid_area": null,
            "grid_auto_columns": null,
            "grid_auto_flow": null,
            "grid_auto_rows": null,
            "grid_column": null,
            "grid_gap": null,
            "grid_row": null,
            "grid_template_areas": null,
            "grid_template_columns": null,
            "grid_template_rows": null,
            "height": null,
            "justify_content": null,
            "justify_items": null,
            "left": null,
            "margin": null,
            "max_height": null,
            "max_width": null,
            "min_height": null,
            "min_width": null,
            "object_fit": null,
            "object_position": null,
            "order": null,
            "overflow": null,
            "overflow_x": null,
            "overflow_y": null,
            "padding": null,
            "right": null,
            "top": null,
            "visibility": null,
            "width": null
          }
        },
        "e7a3a47598414fc2900f53c67e1866e2": {
          "model_module": "@jupyter-widgets/base",
          "model_name": "LayoutModel",
          "model_module_version": "1.2.0",
          "state": {
            "_model_module": "@jupyter-widgets/base",
            "_model_module_version": "1.2.0",
            "_model_name": "LayoutModel",
            "_view_count": null,
            "_view_module": "@jupyter-widgets/base",
            "_view_module_version": "1.2.0",
            "_view_name": "LayoutView",
            "align_content": null,
            "align_items": null,
            "align_self": null,
            "border": null,
            "bottom": null,
            "display": null,
            "flex": null,
            "flex_flow": null,
            "grid_area": null,
            "grid_auto_columns": null,
            "grid_auto_flow": null,
            "grid_auto_rows": null,
            "grid_column": null,
            "grid_gap": null,
            "grid_row": null,
            "grid_template_areas": null,
            "grid_template_columns": null,
            "grid_template_rows": null,
            "height": null,
            "justify_content": null,
            "justify_items": null,
            "left": null,
            "margin": null,
            "max_height": null,
            "max_width": null,
            "min_height": null,
            "min_width": null,
            "object_fit": null,
            "object_position": null,
            "order": null,
            "overflow": null,
            "overflow_x": null,
            "overflow_y": null,
            "padding": null,
            "right": null,
            "top": null,
            "visibility": null,
            "width": null
          }
        },
        "9eda8655d2b84446a0fa57b74a0fa79f": {
          "model_module": "@jupyter-widgets/controls",
          "model_name": "DescriptionStyleModel",
          "model_module_version": "1.5.0",
          "state": {
            "_model_module": "@jupyter-widgets/controls",
            "_model_module_version": "1.5.0",
            "_model_name": "DescriptionStyleModel",
            "_view_count": null,
            "_view_module": "@jupyter-widgets/base",
            "_view_module_version": "1.2.0",
            "_view_name": "StyleView",
            "description_width": ""
          }
        },
        "e71f9136caad4b8ca509ab0b668d5fc3": {
          "model_module": "@jupyter-widgets/base",
          "model_name": "LayoutModel",
          "model_module_version": "1.2.0",
          "state": {
            "_model_module": "@jupyter-widgets/base",
            "_model_module_version": "1.2.0",
            "_model_name": "LayoutModel",
            "_view_count": null,
            "_view_module": "@jupyter-widgets/base",
            "_view_module_version": "1.2.0",
            "_view_name": "LayoutView",
            "align_content": null,
            "align_items": null,
            "align_self": null,
            "border": null,
            "bottom": null,
            "display": null,
            "flex": null,
            "flex_flow": null,
            "grid_area": null,
            "grid_auto_columns": null,
            "grid_auto_flow": null,
            "grid_auto_rows": null,
            "grid_column": null,
            "grid_gap": null,
            "grid_row": null,
            "grid_template_areas": null,
            "grid_template_columns": null,
            "grid_template_rows": null,
            "height": null,
            "justify_content": null,
            "justify_items": null,
            "left": null,
            "margin": null,
            "max_height": null,
            "max_width": null,
            "min_height": null,
            "min_width": null,
            "object_fit": null,
            "object_position": null,
            "order": null,
            "overflow": null,
            "overflow_x": null,
            "overflow_y": null,
            "padding": null,
            "right": null,
            "top": null,
            "visibility": null,
            "width": null
          }
        },
        "2bb42a32eeff4036a9ba87f6bbff526d": {
          "model_module": "@jupyter-widgets/controls",
          "model_name": "ProgressStyleModel",
          "model_module_version": "1.5.0",
          "state": {
            "_model_module": "@jupyter-widgets/controls",
            "_model_module_version": "1.5.0",
            "_model_name": "ProgressStyleModel",
            "_view_count": null,
            "_view_module": "@jupyter-widgets/base",
            "_view_module_version": "1.2.0",
            "_view_name": "StyleView",
            "bar_color": null,
            "description_width": ""
          }
        },
        "f4f6c9975eaa42bb85e17280440d84f2": {
          "model_module": "@jupyter-widgets/base",
          "model_name": "LayoutModel",
          "model_module_version": "1.2.0",
          "state": {
            "_model_module": "@jupyter-widgets/base",
            "_model_module_version": "1.2.0",
            "_model_name": "LayoutModel",
            "_view_count": null,
            "_view_module": "@jupyter-widgets/base",
            "_view_module_version": "1.2.0",
            "_view_name": "LayoutView",
            "align_content": null,
            "align_items": null,
            "align_self": null,
            "border": null,
            "bottom": null,
            "display": null,
            "flex": null,
            "flex_flow": null,
            "grid_area": null,
            "grid_auto_columns": null,
            "grid_auto_flow": null,
            "grid_auto_rows": null,
            "grid_column": null,
            "grid_gap": null,
            "grid_row": null,
            "grid_template_areas": null,
            "grid_template_columns": null,
            "grid_template_rows": null,
            "height": null,
            "justify_content": null,
            "justify_items": null,
            "left": null,
            "margin": null,
            "max_height": null,
            "max_width": null,
            "min_height": null,
            "min_width": null,
            "object_fit": null,
            "object_position": null,
            "order": null,
            "overflow": null,
            "overflow_x": null,
            "overflow_y": null,
            "padding": null,
            "right": null,
            "top": null,
            "visibility": null,
            "width": null
          }
        },
        "18c055947b454c87b9d25a8fafe9b559": {
          "model_module": "@jupyter-widgets/controls",
          "model_name": "DescriptionStyleModel",
          "model_module_version": "1.5.0",
          "state": {
            "_model_module": "@jupyter-widgets/controls",
            "_model_module_version": "1.5.0",
            "_model_name": "DescriptionStyleModel",
            "_view_count": null,
            "_view_module": "@jupyter-widgets/base",
            "_view_module_version": "1.2.0",
            "_view_name": "StyleView",
            "description_width": ""
          }
        },
        "901bc4261ef54c47bee583372191009c": {
          "model_module": "@jupyter-widgets/controls",
          "model_name": "HBoxModel",
          "model_module_version": "1.5.0",
          "state": {
            "_dom_classes": [],
            "_model_module": "@jupyter-widgets/controls",
            "_model_module_version": "1.5.0",
            "_model_name": "HBoxModel",
            "_view_count": null,
            "_view_module": "@jupyter-widgets/controls",
            "_view_module_version": "1.5.0",
            "_view_name": "HBoxView",
            "box_style": "",
            "children": [
              "IPY_MODEL_8f901c5cc4c14fc1a941d9e284beb6a5",
              "IPY_MODEL_3b1436733bd04ca7b33cc052b7a4fde7",
              "IPY_MODEL_f0fb9b12f1634929be473345982fe0cd"
            ],
            "layout": "IPY_MODEL_b9a0aab0130b4d949a7288cc03c397b2"
          }
        },
        "8f901c5cc4c14fc1a941d9e284beb6a5": {
          "model_module": "@jupyter-widgets/controls",
          "model_name": "HTMLModel",
          "model_module_version": "1.5.0",
          "state": {
            "_dom_classes": [],
            "_model_module": "@jupyter-widgets/controls",
            "_model_module_version": "1.5.0",
            "_model_name": "HTMLModel",
            "_view_count": null,
            "_view_module": "@jupyter-widgets/controls",
            "_view_module_version": "1.5.0",
            "_view_name": "HTMLView",
            "description": "",
            "description_tooltip": null,
            "layout": "IPY_MODEL_c81407a7207f4b5dba3f25458e12f1c9",
            "placeholder": "​",
            "style": "IPY_MODEL_40a5a2e5cfa840e8bca365582e74a784",
            "value": "model-00002-of-000002.safetensors: 100%"
          }
        },
        "3b1436733bd04ca7b33cc052b7a4fde7": {
          "model_module": "@jupyter-widgets/controls",
          "model_name": "FloatProgressModel",
          "model_module_version": "1.5.0",
          "state": {
            "_dom_classes": [],
            "_model_module": "@jupyter-widgets/controls",
            "_model_module_version": "1.5.0",
            "_model_name": "FloatProgressModel",
            "_view_count": null,
            "_view_module": "@jupyter-widgets/controls",
            "_view_module_version": "1.5.0",
            "_view_name": "ProgressView",
            "bar_style": "success",
            "description": "",
            "description_tooltip": null,
            "layout": "IPY_MODEL_c6493867e7da4310bee37991a7e302d6",
            "max": 7392730108,
            "min": 0,
            "orientation": "horizontal",
            "style": "IPY_MODEL_aadb779d77ba46d7af3140854d9b215b",
            "value": 7392730108
          }
        },
        "f0fb9b12f1634929be473345982fe0cd": {
          "model_module": "@jupyter-widgets/controls",
          "model_name": "HTMLModel",
          "model_module_version": "1.5.0",
          "state": {
            "_dom_classes": [],
            "_model_module": "@jupyter-widgets/controls",
            "_model_module_version": "1.5.0",
            "_model_name": "HTMLModel",
            "_view_count": null,
            "_view_module": "@jupyter-widgets/controls",
            "_view_module_version": "1.5.0",
            "_view_name": "HTMLView",
            "description": "",
            "description_tooltip": null,
            "layout": "IPY_MODEL_484fb02f532c4217b8cba86f82353bf9",
            "placeholder": "​",
            "style": "IPY_MODEL_f0b40122ce76465dad134df74e6c018f",
            "value": " 7.39G/7.39G [02:55&lt;00:00, 41.9MB/s]"
          }
        },
        "b9a0aab0130b4d949a7288cc03c397b2": {
          "model_module": "@jupyter-widgets/base",
          "model_name": "LayoutModel",
          "model_module_version": "1.2.0",
          "state": {
            "_model_module": "@jupyter-widgets/base",
            "_model_module_version": "1.2.0",
            "_model_name": "LayoutModel",
            "_view_count": null,
            "_view_module": "@jupyter-widgets/base",
            "_view_module_version": "1.2.0",
            "_view_name": "LayoutView",
            "align_content": null,
            "align_items": null,
            "align_self": null,
            "border": null,
            "bottom": null,
            "display": null,
            "flex": null,
            "flex_flow": null,
            "grid_area": null,
            "grid_auto_columns": null,
            "grid_auto_flow": null,
            "grid_auto_rows": null,
            "grid_column": null,
            "grid_gap": null,
            "grid_row": null,
            "grid_template_areas": null,
            "grid_template_columns": null,
            "grid_template_rows": null,
            "height": null,
            "justify_content": null,
            "justify_items": null,
            "left": null,
            "margin": null,
            "max_height": null,
            "max_width": null,
            "min_height": null,
            "min_width": null,
            "object_fit": null,
            "object_position": null,
            "order": null,
            "overflow": null,
            "overflow_x": null,
            "overflow_y": null,
            "padding": null,
            "right": null,
            "top": null,
            "visibility": null,
            "width": null
          }
        },
        "c81407a7207f4b5dba3f25458e12f1c9": {
          "model_module": "@jupyter-widgets/base",
          "model_name": "LayoutModel",
          "model_module_version": "1.2.0",
          "state": {
            "_model_module": "@jupyter-widgets/base",
            "_model_module_version": "1.2.0",
            "_model_name": "LayoutModel",
            "_view_count": null,
            "_view_module": "@jupyter-widgets/base",
            "_view_module_version": "1.2.0",
            "_view_name": "LayoutView",
            "align_content": null,
            "align_items": null,
            "align_self": null,
            "border": null,
            "bottom": null,
            "display": null,
            "flex": null,
            "flex_flow": null,
            "grid_area": null,
            "grid_auto_columns": null,
            "grid_auto_flow": null,
            "grid_auto_rows": null,
            "grid_column": null,
            "grid_gap": null,
            "grid_row": null,
            "grid_template_areas": null,
            "grid_template_columns": null,
            "grid_template_rows": null,
            "height": null,
            "justify_content": null,
            "justify_items": null,
            "left": null,
            "margin": null,
            "max_height": null,
            "max_width": null,
            "min_height": null,
            "min_width": null,
            "object_fit": null,
            "object_position": null,
            "order": null,
            "overflow": null,
            "overflow_x": null,
            "overflow_y": null,
            "padding": null,
            "right": null,
            "top": null,
            "visibility": null,
            "width": null
          }
        },
        "40a5a2e5cfa840e8bca365582e74a784": {
          "model_module": "@jupyter-widgets/controls",
          "model_name": "DescriptionStyleModel",
          "model_module_version": "1.5.0",
          "state": {
            "_model_module": "@jupyter-widgets/controls",
            "_model_module_version": "1.5.0",
            "_model_name": "DescriptionStyleModel",
            "_view_count": null,
            "_view_module": "@jupyter-widgets/base",
            "_view_module_version": "1.2.0",
            "_view_name": "StyleView",
            "description_width": ""
          }
        },
        "c6493867e7da4310bee37991a7e302d6": {
          "model_module": "@jupyter-widgets/base",
          "model_name": "LayoutModel",
          "model_module_version": "1.2.0",
          "state": {
            "_model_module": "@jupyter-widgets/base",
            "_model_module_version": "1.2.0",
            "_model_name": "LayoutModel",
            "_view_count": null,
            "_view_module": "@jupyter-widgets/base",
            "_view_module_version": "1.2.0",
            "_view_name": "LayoutView",
            "align_content": null,
            "align_items": null,
            "align_self": null,
            "border": null,
            "bottom": null,
            "display": null,
            "flex": null,
            "flex_flow": null,
            "grid_area": null,
            "grid_auto_columns": null,
            "grid_auto_flow": null,
            "grid_auto_rows": null,
            "grid_column": null,
            "grid_gap": null,
            "grid_row": null,
            "grid_template_areas": null,
            "grid_template_columns": null,
            "grid_template_rows": null,
            "height": null,
            "justify_content": null,
            "justify_items": null,
            "left": null,
            "margin": null,
            "max_height": null,
            "max_width": null,
            "min_height": null,
            "min_width": null,
            "object_fit": null,
            "object_position": null,
            "order": null,
            "overflow": null,
            "overflow_x": null,
            "overflow_y": null,
            "padding": null,
            "right": null,
            "top": null,
            "visibility": null,
            "width": null
          }
        },
        "aadb779d77ba46d7af3140854d9b215b": {
          "model_module": "@jupyter-widgets/controls",
          "model_name": "ProgressStyleModel",
          "model_module_version": "1.5.0",
          "state": {
            "_model_module": "@jupyter-widgets/controls",
            "_model_module_version": "1.5.0",
            "_model_name": "ProgressStyleModel",
            "_view_count": null,
            "_view_module": "@jupyter-widgets/base",
            "_view_module_version": "1.2.0",
            "_view_name": "StyleView",
            "bar_color": null,
            "description_width": ""
          }
        },
        "484fb02f532c4217b8cba86f82353bf9": {
          "model_module": "@jupyter-widgets/base",
          "model_name": "LayoutModel",
          "model_module_version": "1.2.0",
          "state": {
            "_model_module": "@jupyter-widgets/base",
            "_model_module_version": "1.2.0",
            "_model_name": "LayoutModel",
            "_view_count": null,
            "_view_module": "@jupyter-widgets/base",
            "_view_module_version": "1.2.0",
            "_view_name": "LayoutView",
            "align_content": null,
            "align_items": null,
            "align_self": null,
            "border": null,
            "bottom": null,
            "display": null,
            "flex": null,
            "flex_flow": null,
            "grid_area": null,
            "grid_auto_columns": null,
            "grid_auto_flow": null,
            "grid_auto_rows": null,
            "grid_column": null,
            "grid_gap": null,
            "grid_row": null,
            "grid_template_areas": null,
            "grid_template_columns": null,
            "grid_template_rows": null,
            "height": null,
            "justify_content": null,
            "justify_items": null,
            "left": null,
            "margin": null,
            "max_height": null,
            "max_width": null,
            "min_height": null,
            "min_width": null,
            "object_fit": null,
            "object_position": null,
            "order": null,
            "overflow": null,
            "overflow_x": null,
            "overflow_y": null,
            "padding": null,
            "right": null,
            "top": null,
            "visibility": null,
            "width": null
          }
        },
        "f0b40122ce76465dad134df74e6c018f": {
          "model_module": "@jupyter-widgets/controls",
          "model_name": "DescriptionStyleModel",
          "model_module_version": "1.5.0",
          "state": {
            "_model_module": "@jupyter-widgets/controls",
            "_model_module_version": "1.5.0",
            "_model_name": "DescriptionStyleModel",
            "_view_count": null,
            "_view_module": "@jupyter-widgets/base",
            "_view_module_version": "1.2.0",
            "_view_name": "StyleView",
            "description_width": ""
          }
        },
        "110ee19ad6af44839a42e32547651a14": {
          "model_module": "@jupyter-widgets/controls",
          "model_name": "HBoxModel",
          "model_module_version": "1.5.0",
          "state": {
            "_dom_classes": [],
            "_model_module": "@jupyter-widgets/controls",
            "_model_module_version": "1.5.0",
            "_model_name": "HBoxModel",
            "_view_count": null,
            "_view_module": "@jupyter-widgets/controls",
            "_view_module_version": "1.5.0",
            "_view_name": "HBoxView",
            "box_style": "",
            "children": [
              "IPY_MODEL_2158e11aafc741d5b1c96a2b865f3c10",
              "IPY_MODEL_f40f44e10b9d4966bfc5210a5cf9f99c",
              "IPY_MODEL_892de0997fc249f0b8c0f2f6807649f2"
            ],
            "layout": "IPY_MODEL_0c27aee677b64507813d1b596e83b0e6"
          }
        },
        "2158e11aafc741d5b1c96a2b865f3c10": {
          "model_module": "@jupyter-widgets/controls",
          "model_name": "HTMLModel",
          "model_module_version": "1.5.0",
          "state": {
            "_dom_classes": [],
            "_model_module": "@jupyter-widgets/controls",
            "_model_module_version": "1.5.0",
            "_model_name": "HTMLModel",
            "_view_count": null,
            "_view_module": "@jupyter-widgets/controls",
            "_view_module_version": "1.5.0",
            "_view_name": "HTMLView",
            "description": "",
            "description_tooltip": null,
            "layout": "IPY_MODEL_cc8626c515ee4f87897e51c70e754e4e",
            "placeholder": "​",
            "style": "IPY_MODEL_4bc7efb96ee04ca4ab838b222236c5ca",
            "value": "Loading checkpoint shards: 100%"
          }
        },
        "f40f44e10b9d4966bfc5210a5cf9f99c": {
          "model_module": "@jupyter-widgets/controls",
          "model_name": "FloatProgressModel",
          "model_module_version": "1.5.0",
          "state": {
            "_dom_classes": [],
            "_model_module": "@jupyter-widgets/controls",
            "_model_module_version": "1.5.0",
            "_model_name": "FloatProgressModel",
            "_view_count": null,
            "_view_module": "@jupyter-widgets/controls",
            "_view_module_version": "1.5.0",
            "_view_name": "ProgressView",
            "bar_style": "success",
            "description": "",
            "description_tooltip": null,
            "layout": "IPY_MODEL_baec212a518a4209905d1d1a3f9ad2a1",
            "max": 2,
            "min": 0,
            "orientation": "horizontal",
            "style": "IPY_MODEL_22a7e3ef3d6f498ea425727abc817693",
            "value": 2
          }
        },
        "892de0997fc249f0b8c0f2f6807649f2": {
          "model_module": "@jupyter-widgets/controls",
          "model_name": "HTMLModel",
          "model_module_version": "1.5.0",
          "state": {
            "_dom_classes": [],
            "_model_module": "@jupyter-widgets/controls",
            "_model_module_version": "1.5.0",
            "_model_name": "HTMLModel",
            "_view_count": null,
            "_view_module": "@jupyter-widgets/controls",
            "_view_module_version": "1.5.0",
            "_view_name": "HTMLView",
            "description": "",
            "description_tooltip": null,
            "layout": "IPY_MODEL_6c6d25f15d634ec8ba62e8ec66536270",
            "placeholder": "​",
            "style": "IPY_MODEL_53d12e001e4b491ab261fe5640fee0c9",
            "value": " 2/2 [01:33&lt;00:00, 45.91s/it]"
          }
        },
        "0c27aee677b64507813d1b596e83b0e6": {
          "model_module": "@jupyter-widgets/base",
          "model_name": "LayoutModel",
          "model_module_version": "1.2.0",
          "state": {
            "_model_module": "@jupyter-widgets/base",
            "_model_module_version": "1.2.0",
            "_model_name": "LayoutModel",
            "_view_count": null,
            "_view_module": "@jupyter-widgets/base",
            "_view_module_version": "1.2.0",
            "_view_name": "LayoutView",
            "align_content": null,
            "align_items": null,
            "align_self": null,
            "border": null,
            "bottom": null,
            "display": null,
            "flex": null,
            "flex_flow": null,
            "grid_area": null,
            "grid_auto_columns": null,
            "grid_auto_flow": null,
            "grid_auto_rows": null,
            "grid_column": null,
            "grid_gap": null,
            "grid_row": null,
            "grid_template_areas": null,
            "grid_template_columns": null,
            "grid_template_rows": null,
            "height": null,
            "justify_content": null,
            "justify_items": null,
            "left": null,
            "margin": null,
            "max_height": null,
            "max_width": null,
            "min_height": null,
            "min_width": null,
            "object_fit": null,
            "object_position": null,
            "order": null,
            "overflow": null,
            "overflow_x": null,
            "overflow_y": null,
            "padding": null,
            "right": null,
            "top": null,
            "visibility": null,
            "width": null
          }
        },
        "cc8626c515ee4f87897e51c70e754e4e": {
          "model_module": "@jupyter-widgets/base",
          "model_name": "LayoutModel",
          "model_module_version": "1.2.0",
          "state": {
            "_model_module": "@jupyter-widgets/base",
            "_model_module_version": "1.2.0",
            "_model_name": "LayoutModel",
            "_view_count": null,
            "_view_module": "@jupyter-widgets/base",
            "_view_module_version": "1.2.0",
            "_view_name": "LayoutView",
            "align_content": null,
            "align_items": null,
            "align_self": null,
            "border": null,
            "bottom": null,
            "display": null,
            "flex": null,
            "flex_flow": null,
            "grid_area": null,
            "grid_auto_columns": null,
            "grid_auto_flow": null,
            "grid_auto_rows": null,
            "grid_column": null,
            "grid_gap": null,
            "grid_row": null,
            "grid_template_areas": null,
            "grid_template_columns": null,
            "grid_template_rows": null,
            "height": null,
            "justify_content": null,
            "justify_items": null,
            "left": null,
            "margin": null,
            "max_height": null,
            "max_width": null,
            "min_height": null,
            "min_width": null,
            "object_fit": null,
            "object_position": null,
            "order": null,
            "overflow": null,
            "overflow_x": null,
            "overflow_y": null,
            "padding": null,
            "right": null,
            "top": null,
            "visibility": null,
            "width": null
          }
        },
        "4bc7efb96ee04ca4ab838b222236c5ca": {
          "model_module": "@jupyter-widgets/controls",
          "model_name": "DescriptionStyleModel",
          "model_module_version": "1.5.0",
          "state": {
            "_model_module": "@jupyter-widgets/controls",
            "_model_module_version": "1.5.0",
            "_model_name": "DescriptionStyleModel",
            "_view_count": null,
            "_view_module": "@jupyter-widgets/base",
            "_view_module_version": "1.2.0",
            "_view_name": "StyleView",
            "description_width": ""
          }
        },
        "baec212a518a4209905d1d1a3f9ad2a1": {
          "model_module": "@jupyter-widgets/base",
          "model_name": "LayoutModel",
          "model_module_version": "1.2.0",
          "state": {
            "_model_module": "@jupyter-widgets/base",
            "_model_module_version": "1.2.0",
            "_model_name": "LayoutModel",
            "_view_count": null,
            "_view_module": "@jupyter-widgets/base",
            "_view_module_version": "1.2.0",
            "_view_name": "LayoutView",
            "align_content": null,
            "align_items": null,
            "align_self": null,
            "border": null,
            "bottom": null,
            "display": null,
            "flex": null,
            "flex_flow": null,
            "grid_area": null,
            "grid_auto_columns": null,
            "grid_auto_flow": null,
            "grid_auto_rows": null,
            "grid_column": null,
            "grid_gap": null,
            "grid_row": null,
            "grid_template_areas": null,
            "grid_template_columns": null,
            "grid_template_rows": null,
            "height": null,
            "justify_content": null,
            "justify_items": null,
            "left": null,
            "margin": null,
            "max_height": null,
            "max_width": null,
            "min_height": null,
            "min_width": null,
            "object_fit": null,
            "object_position": null,
            "order": null,
            "overflow": null,
            "overflow_x": null,
            "overflow_y": null,
            "padding": null,
            "right": null,
            "top": null,
            "visibility": null,
            "width": null
          }
        },
        "22a7e3ef3d6f498ea425727abc817693": {
          "model_module": "@jupyter-widgets/controls",
          "model_name": "ProgressStyleModel",
          "model_module_version": "1.5.0",
          "state": {
            "_model_module": "@jupyter-widgets/controls",
            "_model_module_version": "1.5.0",
            "_model_name": "ProgressStyleModel",
            "_view_count": null,
            "_view_module": "@jupyter-widgets/base",
            "_view_module_version": "1.2.0",
            "_view_name": "StyleView",
            "bar_color": null,
            "description_width": ""
          }
        },
        "6c6d25f15d634ec8ba62e8ec66536270": {
          "model_module": "@jupyter-widgets/base",
          "model_name": "LayoutModel",
          "model_module_version": "1.2.0",
          "state": {
            "_model_module": "@jupyter-widgets/base",
            "_model_module_version": "1.2.0",
            "_model_name": "LayoutModel",
            "_view_count": null,
            "_view_module": "@jupyter-widgets/base",
            "_view_module_version": "1.2.0",
            "_view_name": "LayoutView",
            "align_content": null,
            "align_items": null,
            "align_self": null,
            "border": null,
            "bottom": null,
            "display": null,
            "flex": null,
            "flex_flow": null,
            "grid_area": null,
            "grid_auto_columns": null,
            "grid_auto_flow": null,
            "grid_auto_rows": null,
            "grid_column": null,
            "grid_gap": null,
            "grid_row": null,
            "grid_template_areas": null,
            "grid_template_columns": null,
            "grid_template_rows": null,
            "height": null,
            "justify_content": null,
            "justify_items": null,
            "left": null,
            "margin": null,
            "max_height": null,
            "max_width": null,
            "min_height": null,
            "min_width": null,
            "object_fit": null,
            "object_position": null,
            "order": null,
            "overflow": null,
            "overflow_x": null,
            "overflow_y": null,
            "padding": null,
            "right": null,
            "top": null,
            "visibility": null,
            "width": null
          }
        },
        "53d12e001e4b491ab261fe5640fee0c9": {
          "model_module": "@jupyter-widgets/controls",
          "model_name": "DescriptionStyleModel",
          "model_module_version": "1.5.0",
          "state": {
            "_model_module": "@jupyter-widgets/controls",
            "_model_module_version": "1.5.0",
            "_model_name": "DescriptionStyleModel",
            "_view_count": null,
            "_view_module": "@jupyter-widgets/base",
            "_view_module_version": "1.2.0",
            "_view_name": "StyleView",
            "description_width": ""
          }
        },
        "75c1951dbab34e6ba87c9adf6e6df9d5": {
          "model_module": "@jupyter-widgets/controls",
          "model_name": "HBoxModel",
          "model_module_version": "1.5.0",
          "state": {
            "_dom_classes": [],
            "_model_module": "@jupyter-widgets/controls",
            "_model_module_version": "1.5.0",
            "_model_name": "HBoxModel",
            "_view_count": null,
            "_view_module": "@jupyter-widgets/controls",
            "_view_module_version": "1.5.0",
            "_view_name": "HBoxView",
            "box_style": "",
            "children": [
              "IPY_MODEL_d83e7b1314b34473b2017fca77e9e851",
              "IPY_MODEL_9a2ceeb3e7cf40d791c504ec8a2d88b8",
              "IPY_MODEL_b8c0e4b2fd694179a0ecb3fde1acf373"
            ],
            "layout": "IPY_MODEL_d7bc78d0a71c4ebfb2ec2a40547db50b"
          }
        },
        "d83e7b1314b34473b2017fca77e9e851": {
          "model_module": "@jupyter-widgets/controls",
          "model_name": "HTMLModel",
          "model_module_version": "1.5.0",
          "state": {
            "_dom_classes": [],
            "_model_module": "@jupyter-widgets/controls",
            "_model_module_version": "1.5.0",
            "_model_name": "HTMLModel",
            "_view_count": null,
            "_view_module": "@jupyter-widgets/controls",
            "_view_module_version": "1.5.0",
            "_view_name": "HTMLView",
            "description": "",
            "description_tooltip": null,
            "layout": "IPY_MODEL_1e9c210e6f6f4884bfe79d50471febff",
            "placeholder": "​",
            "style": "IPY_MODEL_e6c0a72c363f410fae744a05eb4e4ad0",
            "value": "generation_config.json: 100%"
          }
        },
        "9a2ceeb3e7cf40d791c504ec8a2d88b8": {
          "model_module": "@jupyter-widgets/controls",
          "model_name": "FloatProgressModel",
          "model_module_version": "1.5.0",
          "state": {
            "_dom_classes": [],
            "_model_module": "@jupyter-widgets/controls",
            "_model_module_version": "1.5.0",
            "_model_name": "FloatProgressModel",
            "_view_count": null,
            "_view_module": "@jupyter-widgets/controls",
            "_view_module_version": "1.5.0",
            "_view_name": "ProgressView",
            "bar_style": "success",
            "description": "",
            "description_tooltip": null,
            "layout": "IPY_MODEL_9f181084c62a4086bcb2c3305ebbcbf5",
            "max": 181,
            "min": 0,
            "orientation": "horizontal",
            "style": "IPY_MODEL_1cd67eceb4514e7fb3362d43969f7044",
            "value": 181
          }
        },
        "b8c0e4b2fd694179a0ecb3fde1acf373": {
          "model_module": "@jupyter-widgets/controls",
          "model_name": "HTMLModel",
          "model_module_version": "1.5.0",
          "state": {
            "_dom_classes": [],
            "_model_module": "@jupyter-widgets/controls",
            "_model_module_version": "1.5.0",
            "_model_name": "HTMLModel",
            "_view_count": null,
            "_view_module": "@jupyter-widgets/controls",
            "_view_module_version": "1.5.0",
            "_view_name": "HTMLView",
            "description": "",
            "description_tooltip": null,
            "layout": "IPY_MODEL_c51858657d074e46a89d10ff9b0f2e77",
            "placeholder": "​",
            "style": "IPY_MODEL_95430799e2a64c418d7cfd898a661f14",
            "value": " 181/181 [00:00&lt;00:00, 13.6kB/s]"
          }
        },
        "d7bc78d0a71c4ebfb2ec2a40547db50b": {
          "model_module": "@jupyter-widgets/base",
          "model_name": "LayoutModel",
          "model_module_version": "1.2.0",
          "state": {
            "_model_module": "@jupyter-widgets/base",
            "_model_module_version": "1.2.0",
            "_model_name": "LayoutModel",
            "_view_count": null,
            "_view_module": "@jupyter-widgets/base",
            "_view_module_version": "1.2.0",
            "_view_name": "LayoutView",
            "align_content": null,
            "align_items": null,
            "align_self": null,
            "border": null,
            "bottom": null,
            "display": null,
            "flex": null,
            "flex_flow": null,
            "grid_area": null,
            "grid_auto_columns": null,
            "grid_auto_flow": null,
            "grid_auto_rows": null,
            "grid_column": null,
            "grid_gap": null,
            "grid_row": null,
            "grid_template_areas": null,
            "grid_template_columns": null,
            "grid_template_rows": null,
            "height": null,
            "justify_content": null,
            "justify_items": null,
            "left": null,
            "margin": null,
            "max_height": null,
            "max_width": null,
            "min_height": null,
            "min_width": null,
            "object_fit": null,
            "object_position": null,
            "order": null,
            "overflow": null,
            "overflow_x": null,
            "overflow_y": null,
            "padding": null,
            "right": null,
            "top": null,
            "visibility": null,
            "width": null
          }
        },
        "1e9c210e6f6f4884bfe79d50471febff": {
          "model_module": "@jupyter-widgets/base",
          "model_name": "LayoutModel",
          "model_module_version": "1.2.0",
          "state": {
            "_model_module": "@jupyter-widgets/base",
            "_model_module_version": "1.2.0",
            "_model_name": "LayoutModel",
            "_view_count": null,
            "_view_module": "@jupyter-widgets/base",
            "_view_module_version": "1.2.0",
            "_view_name": "LayoutView",
            "align_content": null,
            "align_items": null,
            "align_self": null,
            "border": null,
            "bottom": null,
            "display": null,
            "flex": null,
            "flex_flow": null,
            "grid_area": null,
            "grid_auto_columns": null,
            "grid_auto_flow": null,
            "grid_auto_rows": null,
            "grid_column": null,
            "grid_gap": null,
            "grid_row": null,
            "grid_template_areas": null,
            "grid_template_columns": null,
            "grid_template_rows": null,
            "height": null,
            "justify_content": null,
            "justify_items": null,
            "left": null,
            "margin": null,
            "max_height": null,
            "max_width": null,
            "min_height": null,
            "min_width": null,
            "object_fit": null,
            "object_position": null,
            "order": null,
            "overflow": null,
            "overflow_x": null,
            "overflow_y": null,
            "padding": null,
            "right": null,
            "top": null,
            "visibility": null,
            "width": null
          }
        },
        "e6c0a72c363f410fae744a05eb4e4ad0": {
          "model_module": "@jupyter-widgets/controls",
          "model_name": "DescriptionStyleModel",
          "model_module_version": "1.5.0",
          "state": {
            "_model_module": "@jupyter-widgets/controls",
            "_model_module_version": "1.5.0",
            "_model_name": "DescriptionStyleModel",
            "_view_count": null,
            "_view_module": "@jupyter-widgets/base",
            "_view_module_version": "1.2.0",
            "_view_name": "StyleView",
            "description_width": ""
          }
        },
        "9f181084c62a4086bcb2c3305ebbcbf5": {
          "model_module": "@jupyter-widgets/base",
          "model_name": "LayoutModel",
          "model_module_version": "1.2.0",
          "state": {
            "_model_module": "@jupyter-widgets/base",
            "_model_module_version": "1.2.0",
            "_model_name": "LayoutModel",
            "_view_count": null,
            "_view_module": "@jupyter-widgets/base",
            "_view_module_version": "1.2.0",
            "_view_name": "LayoutView",
            "align_content": null,
            "align_items": null,
            "align_self": null,
            "border": null,
            "bottom": null,
            "display": null,
            "flex": null,
            "flex_flow": null,
            "grid_area": null,
            "grid_auto_columns": null,
            "grid_auto_flow": null,
            "grid_auto_rows": null,
            "grid_column": null,
            "grid_gap": null,
            "grid_row": null,
            "grid_template_areas": null,
            "grid_template_columns": null,
            "grid_template_rows": null,
            "height": null,
            "justify_content": null,
            "justify_items": null,
            "left": null,
            "margin": null,
            "max_height": null,
            "max_width": null,
            "min_height": null,
            "min_width": null,
            "object_fit": null,
            "object_position": null,
            "order": null,
            "overflow": null,
            "overflow_x": null,
            "overflow_y": null,
            "padding": null,
            "right": null,
            "top": null,
            "visibility": null,
            "width": null
          }
        },
        "1cd67eceb4514e7fb3362d43969f7044": {
          "model_module": "@jupyter-widgets/controls",
          "model_name": "ProgressStyleModel",
          "model_module_version": "1.5.0",
          "state": {
            "_model_module": "@jupyter-widgets/controls",
            "_model_module_version": "1.5.0",
            "_model_name": "ProgressStyleModel",
            "_view_count": null,
            "_view_module": "@jupyter-widgets/base",
            "_view_module_version": "1.2.0",
            "_view_name": "StyleView",
            "bar_color": null,
            "description_width": ""
          }
        },
        "c51858657d074e46a89d10ff9b0f2e77": {
          "model_module": "@jupyter-widgets/base",
          "model_name": "LayoutModel",
          "model_module_version": "1.2.0",
          "state": {
            "_model_module": "@jupyter-widgets/base",
            "_model_module_version": "1.2.0",
            "_model_name": "LayoutModel",
            "_view_count": null,
            "_view_module": "@jupyter-widgets/base",
            "_view_module_version": "1.2.0",
            "_view_name": "LayoutView",
            "align_content": null,
            "align_items": null,
            "align_self": null,
            "border": null,
            "bottom": null,
            "display": null,
            "flex": null,
            "flex_flow": null,
            "grid_area": null,
            "grid_auto_columns": null,
            "grid_auto_flow": null,
            "grid_auto_rows": null,
            "grid_column": null,
            "grid_gap": null,
            "grid_row": null,
            "grid_template_areas": null,
            "grid_template_columns": null,
            "grid_template_rows": null,
            "height": null,
            "justify_content": null,
            "justify_items": null,
            "left": null,
            "margin": null,
            "max_height": null,
            "max_width": null,
            "min_height": null,
            "min_width": null,
            "object_fit": null,
            "object_position": null,
            "order": null,
            "overflow": null,
            "overflow_x": null,
            "overflow_y": null,
            "padding": null,
            "right": null,
            "top": null,
            "visibility": null,
            "width": null
          }
        },
        "95430799e2a64c418d7cfd898a661f14": {
          "model_module": "@jupyter-widgets/controls",
          "model_name": "DescriptionStyleModel",
          "model_module_version": "1.5.0",
          "state": {
            "_model_module": "@jupyter-widgets/controls",
            "_model_module_version": "1.5.0",
            "_model_name": "DescriptionStyleModel",
            "_view_count": null,
            "_view_module": "@jupyter-widgets/base",
            "_view_module_version": "1.2.0",
            "_view_name": "StyleView",
            "description_width": ""
          }
        }
      }
    }
  },
  "cells": [
    {
      "cell_type": "markdown",
      "metadata": {
        "id": "view-in-github",
        "colab_type": "text"
      },
      "source": [
        "<a href=\"https://colab.research.google.com/github/Zihooo/Auto-Scale-Development/blob/main/Study_1_Scale_Development_Example_Code.ipynb\" target=\"_parent\"><img src=\"https://colab.research.google.com/assets/colab-badge.svg\" alt=\"Open In Colab\"/></a>"
      ]
    },
    {
      "cell_type": "markdown",
      "source": [
        "#Step 1: Item generation"
      ],
      "metadata": {
        "id": "1o2rdf3P0n3X"
      }
    },
    {
      "cell_type": "code",
      "source": [
        "from google.colab import drive\n",
        "drive.mount('/content/drive')"
      ],
      "metadata": {
        "colab": {
          "base_uri": "https://localhost:8080/"
        },
        "id": "4iEyoxZU0yk0",
        "outputId": "10d201e3-118b-47bb-e2ce-acea66284e23"
      },
      "execution_count": null,
      "outputs": [
        {
          "output_type": "stream",
          "name": "stdout",
          "text": [
            "Drive already mounted at /content/drive; to attempt to forcibly remount, call drive.mount(\"/content/drive\", force_remount=True).\n"
          ]
        }
      ]
    },
    {
      "cell_type": "code",
      "execution_count": null,
      "metadata": {
        "colab": {
          "base_uri": "https://localhost:8080/"
        },
        "id": "UbSBBQs10lql",
        "outputId": "b4058414-5446-4469-f069-4cd378638834"
      },
      "outputs": [
        {
          "output_type": "stream",
          "name": "stdout",
          "text": [
            "Requirement already satisfied: openai in /usr/local/lib/python3.11/dist-packages (1.61.1)\n",
            "Requirement already satisfied: anyio<5,>=3.5.0 in /usr/local/lib/python3.11/dist-packages (from openai) (3.7.1)\n",
            "Requirement already satisfied: distro<2,>=1.7.0 in /usr/local/lib/python3.11/dist-packages (from openai) (1.9.0)\n",
            "Requirement already satisfied: httpx<1,>=0.23.0 in /usr/local/lib/python3.11/dist-packages (from openai) (0.28.1)\n",
            "Requirement already satisfied: jiter<1,>=0.4.0 in /usr/local/lib/python3.11/dist-packages (from openai) (0.8.2)\n",
            "Requirement already satisfied: pydantic<3,>=1.9.0 in /usr/local/lib/python3.11/dist-packages (from openai) (2.10.6)\n",
            "Requirement already satisfied: sniffio in /usr/local/lib/python3.11/dist-packages (from openai) (1.3.1)\n",
            "Requirement already satisfied: tqdm>4 in /usr/local/lib/python3.11/dist-packages (from openai) (4.67.1)\n",
            "Requirement already satisfied: typing-extensions<5,>=4.11 in /usr/local/lib/python3.11/dist-packages (from openai) (4.12.2)\n",
            "Requirement already satisfied: idna>=2.8 in /usr/local/lib/python3.11/dist-packages (from anyio<5,>=3.5.0->openai) (3.10)\n",
            "Requirement already satisfied: certifi in /usr/local/lib/python3.11/dist-packages (from httpx<1,>=0.23.0->openai) (2025.1.31)\n",
            "Requirement already satisfied: httpcore==1.* in /usr/local/lib/python3.11/dist-packages (from httpx<1,>=0.23.0->openai) (1.0.7)\n",
            "Requirement already satisfied: h11<0.15,>=0.13 in /usr/local/lib/python3.11/dist-packages (from httpcore==1.*->httpx<1,>=0.23.0->openai) (0.14.0)\n",
            "Requirement already satisfied: annotated-types>=0.6.0 in /usr/local/lib/python3.11/dist-packages (from pydantic<3,>=1.9.0->openai) (0.7.0)\n",
            "Requirement already satisfied: pydantic-core==2.27.2 in /usr/local/lib/python3.11/dist-packages (from pydantic<3,>=1.9.0->openai) (2.27.2)\n"
          ]
        }
      ],
      "source": [
        "#Load pacakges\n",
        "!pip install openai\n",
        "import pandas as pd"
      ]
    },
    {
      "cell_type": "code",
      "source": [
        "import openai\n",
        "import os\n",
        "\n",
        "# insert your API here\n",
        "os.environ[\"OPENAI_API_KEY\"] = \"Your API key\"\n",
        "openai.api_key = 'Your API key'\n",
        "# Upload training data\n",
        "from openai import OpenAI\n",
        "\n",
        "client = OpenAI()"
      ],
      "metadata": {
        "id": "5X3HSOVc03wu"
      },
      "execution_count": null,
      "outputs": []
    },
    {
      "cell_type": "code",
      "source": [
        "# users need to change the construct definition.\n",
        "prompt_IDT = [{\"role\": \"system\", \"content\": \"\"\"You are ChatGPT, a large language model trained by OpenAI. You will use the following instructions to craft your response:\n",
        "\n",
        "1. **Task Overview**\n",
        "   - You need to create unique Likert-type measurement items related to a concept called *Interpersonal Distrust*.\n",
        "   - Interpersonal Distrust is An expectation of harmful, hostile, or other negative outcomes in interactions with another person, accompanied by negative affect and an intention to take protective actions based on these expectations.\n",
        "\n",
        "2. **Dimensions of Interpersonal Distrust**\n",
        "   - **Cognitive**: Rational beliefs or expectations about another party’s untrustworthiness, specifying in what respects and under which circumstances distrust may arise.\n",
        "   - **Behavioral**: The unwillingness or avoidance of future interactions or risk-taking actions based on these negative expectations and feelings toward the other person.\n",
        "   - **Affective**: Negative emotions directed at the distrusted person.\n",
        "\n",
        "3. **Specific Instructions**\n",
        "   - Each item belonging to one of the three dimensions above (*Awareness*, *Attention*, or *Acceptance*).\n",
        "   - Each statement should relate clearly to its assigned dimension.\n",
        "   - Provide each statement on a new line.\n",
        "   - All statement should be positively keyed.\n",
        "   - Do not strictly replicate the examples given; it is sufficient that each statement logically pertains to its dimension.\n",
        "   - Items should be in Likert-type format.\n",
        "   - Items should use short and simple language.\n",
        "   - Items should correctly measure the target construct.\n",
        "   - Items should not be double-barreled.\n",
        "   - Items should not be such that virtually everyone or no one will endorse them.\n",
        "   - Items should avoid colloquialisms that may not be familiar across age, ethnicity, region, gender, and so forth.\n",
        "   - Items should avoid vague words such as many, most, often, or sometimes.\n",
        "   - Items should be understandable to anyone who has graduated from high school.\n",
        "\n",
        "4. **Important Requirements**\n",
        "   - Avoid generate highly similar statements!!!Use different words. Avoid similar sentence structures.\n",
        "   - Generate exactly 40 item for each dimension.\n",
        "\n",
        "5. **Formatting Requirements**\n",
        "   - Create two columns:\n",
        "     1. The first column contains the statement.\n",
        "     2. The second column identifies the *target dimension* of that statement (i.e., *Cognitive*, *Behavioral*, or *Affective*).\n",
        "   - Each statement must be unique.\n",
        "\n",
        "6. **Examples (Do Not Copy Exactly)**\n",
        "   - Cognitive: “This person would behave in a deceptive and fraudulent way.”,\"I am suspicious of the way this person will act in the future.\", \"This person would use me for his/her own benefits.\"\n",
        "   - Behavioral: “I find it necessary to be cautious with this person.”,\"I will protect myself from being taken advantage of by this person.\",\"I will not count on this person for important things.\"\n",
        "   - Affective: “I feel tense when I am with this person.”,\"I experience anxiety when interacting with this person.\",\"I worry about future interactions with this person.\"\n",
        "\n",
        "7. **Final Output**\n",
        "   - Return only the list of statements with their corresponding dimensions in two columns.\n",
        "   - No additional commentary or explanation is needed.\n",
        "\n",
        "Follow these instructions precisely! and produce your final answer accordingly.\n",
        "\"\"\"},\n",
        "      {\"role\": \"user\", \"content\": \"Create exactly 40 items for each dimension in Interpersonal Distrust. Only provide the items, start a new line for each item.\"\n",
        "      }]"
      ],
      "metadata": {
        "id": "5vQQK52gLEVt"
      },
      "execution_count": null,
      "outputs": []
    },
    {
      "cell_type": "code",
      "source": [
        "completion = client.chat.completions.create(\n",
        "  model='gpt-4o-mini',\n",
        "  messages=prompt,\n",
        "  temperature=1.0,\n",
        "  top_p = 0.80,\n",
        "  frequency_penalty = 0.40,\n",
        "  presence_penalty = 0.55\n",
        ")"
      ],
      "metadata": {
        "id": "9bbtZ2F358tR"
      },
      "execution_count": null,
      "outputs": []
    },
    {
      "cell_type": "code",
      "source": [
        "completion.choices[0].message.content"
      ],
      "metadata": {
        "colab": {
          "base_uri": "https://localhost:8080/",
          "height": 106
        },
        "id": "15QgGuIe5C-X",
        "outputId": "79430299-f104-46d1-8bfc-908d0f044bb4"
      },
      "execution_count": null,
      "outputs": [
        {
          "output_type": "execute_result",
          "data": {
            "text/plain": [
              "\"I expect this person to hide important information., Cognitive  \\nI think this person may be deceitful., Cognitive  \\nI am convinced that this person is not reliable., Cognitive  \\nI believe this person is likely to have an ulterior motive., Cognitive  \\nI suspect that this person may act in a manipulative way., Cognitive  \\nI suspect that this person is driven by self-interest., Cognitive  \\nI think this person may take advantage of others., Cognitive  \\nI believe this person hides their true intentions., Cognitive  \\nI expect that this person will act against my interests., Cognitive  \\nI am convinced that this person prioritizes personal gain over fairness., Cognitive  \\nI believe this person might exploit my weaknesses., Cognitive  \\nI suspect that this person keeps secrets to harm others., Cognitive  \\nI think this person is likely to twist facts., Cognitive  \\nI expect that this person will not act with transparency., Cognitive  \\nI am convinced that this person has a hidden agenda., Cognitive  \\nI believe this person is not likely to be straightforward., Cognitive  \\nI suspect that this person may conceal their true aims., Cognitive  \\nI think this person will choose self-interest over loyalty., Cognitive  \\nI believe this person might deceive for personal benefit., Cognitive  \\nI expect this person to be guarded about their intentions., Cognitive  \\nI suspect this person would use others to fulfill their needs., Cognitive  \\nI think this person values their own benefit over honesty., Cognitive  \\nI believe this person may mislead others intentionally., Cognitive  \\nI expect this person to engage in untrustworthy behavior., Cognitive  \\nI suspect that this person has a tendency toward dishonesty., Cognitive  \\nI think this person prizes personal gain more than truth., Cognitive  \\nI believe this person acts with a concealed motive., Cognitive  \\nI expect this person to put self-interest ahead of others., Cognitive  \\nI suspect that this person may not honor their promises., Cognitive  \\nI believe this person harbors secret judgments about others., Cognitive  \\nI suspect that this person is inclined to pursue personal advantage., Cognitive  \\nI think this person will likely act in a self-serving way., Cognitive  \\nI expect that this person will disregard fairness for personal gain., Cognitive  \\nI suspect that this person is predisposed to withhold trust., Cognitive  \\nI believe this person chooses manipulation over sincerity., Cognitive  \\nI think this person makes decisions with hidden advantages in mind., Cognitive  \\nI expect that this person will be unpredictable in honest matters., Cognitive  \\nI suspect that this person may twist facts for their benefit., Cognitive  \\nI believe this person is not capable of full honesty., Cognitive  \\nI think this person’s actions prove a lack of genuine concern for others., Cognitive  \\n\\nI avoid sharing personal details with this person., Behavioral  \\nI keep my distance from this person in important matters., Behavioral  \\nI choose not to rely on this person for help., Behavioral  \\nI cancel plans with this person when possible., Behavioral  \\nI refrain from involving this person in confidential issues., Behavioral  \\nI guard my secrets when dealing with this person., Behavioral  \\nI am careful about letting this person into my personal life., Behavioral  \\nI limit my interactions with this person., Behavioral  \\nI prefer to keep communication with this person brief., Behavioral  \\nI protect myself by avoiding deep connections with this person., Behavioral  \\nI hesitate to trust this person in important decisions., Behavioral  \\nI resist sharing my true feelings with this person., Behavioral  \\nI steer away from relying on this person in risky situations., Behavioral  \\nI choose to monitor my actions when I am around this person., Behavioral  \\nI take steps to avoid potential harm from this person., Behavioral  \\nI withhold support from this person when it might put me at risk., Behavioral  \\nI decide against disclosing personal struggles to this person., Behavioral  \\nI remain cautious when inviting this person into my circle., Behavioral  \\nI prefer to handle challenges on my own with this person present., Behavioral  \\nI limit plans that involve future interactions with this person., Behavioral  \\nI refuse to depend on this person for critical tasks., Behavioral  \\nI actively reduce the time I spend with this person., Behavioral  \\nI take care not to expose vulnerabilities near this person., Behavioral  \\nI choose safe options when this person is involved., Behavioral  \\nI avoid risky situations that include this person., Behavioral  \\nI keep my guard up when interacting with this person., Behavioral  \\nI refrain from sharing extra details around this person., Behavioral  \\nI show reluctance to work jointly with this person., Behavioral  \\nI prefer independent routines over teamwork with this person., Behavioral  \\nI suppress my natural openness when I am with this person., Behavioral  \\nI opt for minimal engagement when this person is present., Behavioral  \\nI hide personal opinions to protect myself around this person., Behavioral  \\nI keep my personal projects private from this person., Behavioral  \\nI carefully choose what to share when this person is involved., Behavioral  \\nI diminish my collaboration with this person when it is possible., Behavioral  \\nI favor solitary actions over joint efforts with this person., Behavioral  \\nI plan alternative routes to avoid activities with this person., Behavioral  \\nI choose self-reliance when this person is part of a task., Behavioral  \\nI opt out of group events that involve this person., Behavioral  \\nI isolate myself from opportunities that include this person., Behavioral  \\n\\nI feel uneasy when interacting with this person., Affective  \\nI experience discomfort around this person., Affective  \\nI feel alarmed in the presence of this person., Affective  \\nI experience tension during our conversations., Affective  \\nI feel anxious at the thought of meeting this person., Affective  \\nI feel a constant sense of unease around this person., Affective  \\nI sense a deep worry when I am with this person., Affective  \\nI feel nervous about this person's actions., Affective  \\nI feel stress when I think about this person., Affective  \\nI experience a strong tension near this person., Affective  \\nI feel discomfort during my encounters with this person., Affective  \\nI become apprehensive when I see this person., Affective  \\nI feel nervous during conversations with this person., Affective  \\nI sense anxiety when I consider this person., Affective  \\nI feel a surge of apprehension when this person is near., Affective  \\nI experience unease when thinking about future meetings with this person., Affective  \\nI feel troubled by this person's presence., Affective  \\nI feel a strong worry when considering this person., Affective  \\nI feel unsettled when interacting with this person., Affective  \\nI sense a form of dread around this person., Affective  \\nI feel restless when I am around this person., Affective  \\nI experience a heightened state of alertness near this person., Affective  \\nI feel a surge of anxiety in this person's company., Affective  \\nI feel uneasy when I learn about this person's plans., Affective  \\nI sense a nervous energy when facing this person., Affective  \\nI feel disquiet when I am close to this person., Affective  \\nI experience distress when this person is present., Affective  \\nI feel a spike of nervousness during encounters with this person., Affective  \\nI sense a looming fear in my interactions with this person., Affective  \\nI feel jittery around this person., Affective  \\nI experience a quick surge of fear when I am with this person., Affective  \\nI feel a load of anxiety when expecting to meet this person., Affective  \\nI feel unsettled before meeting this person., Affective  \\nI experience distress when I consider being around this person., Affective  \\nI feel my heart race in the presence of this person., Affective  \\nI feel a consistent sense of worry when near this person., Affective  \\nI experience internal conflict when interacting with this person., Affective  \\nI feel a strong gut reaction of dislike when I think of this person., Affective  \\nI feel a palpable tension when this person enters the room., Affective  \\nI experience a rush of cautionary anxiety around this person., Affective\""
            ],
            "application/vnd.google.colaboratory.intrinsic+json": {
              "type": "string"
            }
          },
          "metadata": {},
          "execution_count": 5
        }
      ]
    },
    {
      "cell_type": "code",
      "source": [
        "texts = completion.choices[0].message.content.split('\\n')"
      ],
      "metadata": {
        "id": "Rb6vM5b8BVb7"
      },
      "execution_count": null,
      "outputs": []
    },
    {
      "cell_type": "code",
      "source": [
        "# one issue here is that GPT did not generate exactly 40 items for each dimension, which was stated in the prompt (I accidently deleted the output)\n",
        "# in my previous output, 37 items were generated for each dimension. I manually generated 3 more to make it 40 for each dimension.\n",
        "texts"
      ],
      "metadata": {
        "id": "dPcRMFVKBXB5"
      },
      "execution_count": null,
      "outputs": []
    },
    {
      "cell_type": "code",
      "source": [
        "#optional: save generated items to a csv file\n",
        "# Create a list to hold the processed rows\n",
        "rows = []\n",
        "\n",
        "for entry in texts:\n",
        "    entry = entry.strip()\n",
        "    if \",\" in entry:\n",
        "        # Try splitting on the last comma\n",
        "        parts = entry.rsplit(\",\", 1)\n",
        "        if len(parts) == 2:\n",
        "            text, label = parts[0].strip(), parts[1].strip()\n",
        "        else:\n",
        "            # Fallback if for some reason we don't get two parts\n",
        "            text, label = entry, \"\"\n",
        "    else:\n",
        "        # Decide how to handle entries without a comma\n",
        "        # Here we assign the whole entry as text and leave label empty\n",
        "        text, label = entry, \"\"\n",
        "        print(f\"Warning: No comma found in entry: '{entry}'\")\n",
        "\n",
        "    rows.append({\"Text\": text, \"Label\": label})\n",
        "\n",
        "# Create a DataFrame from the list of dictionaries\n",
        "df = pd.DataFrame(rows)\n",
        "\n",
        "# Save the DataFrame to a CSV file (without the index)\n",
        "#df.to_csv(\"output.csv\", index=False)"
      ],
      "metadata": {
        "colab": {
          "base_uri": "https://localhost:8080/"
        },
        "id": "LYON0QNwB0pm",
        "outputId": "f1eb8d41-0193-4e2b-ea7a-3d68a77b953b"
      },
      "execution_count": null,
      "outputs": [
        {
          "output_type": "stream",
          "name": "stdout",
          "text": [
            "Warning: No comma found in entry: ''\n",
            "Warning: No comma found in entry: ''\n"
          ]
        }
      ]
    },
    {
      "cell_type": "markdown",
      "source": [
        "# Step 2: remove redundant items"
      ],
      "metadata": {
        "id": "GreeWzPZ3vCD"
      }
    },
    {
      "cell_type": "code",
      "source": [
        "# I did this step on a seperate file. So I just put the example codes here."
      ],
      "metadata": {
        "id": "W7KsxuoO3u0D"
      },
      "execution_count": null,
      "outputs": []
    },
    {
      "cell_type": "code",
      "source": [
        "!pip install -U sentence-transformers"
      ],
      "metadata": {
        "id": "9eNRW9B336Gx"
      },
      "execution_count": null,
      "outputs": []
    },
    {
      "cell_type": "code",
      "source": [
        "from sentence_transformers import SentenceTransformer\n",
        "\n",
        "model_raw = SentenceTransformer(\"all-MiniLM-L6-v2\") # Replace with your actual model path\n"
      ],
      "metadata": {
        "id": "EMfWV7X537Y6"
      },
      "execution_count": null,
      "outputs": []
    },
    {
      "cell_type": "code",
      "source": [
        "# use cognitive dimension as an example\n",
        "sentences = [\n",
        "    \"I expect this person to hide important information.\",\n",
        "    \"I think this person may be deceitful.\",\n",
        "    \"I am convinced that this person is not reliable.\",\n",
        "    \"I believe this person is likely to have an ulterior motive.\",\n",
        "    \"I suspect that this person may act in a manipulative way.\",\n",
        "    \"I suspect that this person is driven by self-interest.\",\n",
        "    \"I think this person may take advantage of others.\",\n",
        "    \"I believe this person hides their true intentions.\",\n",
        "    \"I expect that this person will act against my interests.\",\n",
        "    \"I am convinced that this person prioritizes personal gain over fairness.\",\n",
        "    \"I believe this person might exploit my weaknesses.\",\n",
        "    \"I suspect that this person keeps secrets to harm others.\",\n",
        "    \"I think this person is likely to twist facts.\",\n",
        "    \"I expect that this person will not act with transparency.\",\n",
        "    \"I am convinced that this person has a hidden agenda.\",\n",
        "    \"I believe this person is not likely to be straightforward.\",\n",
        "    \"I suspect that this person may conceal their true aims.\",\n",
        "    \"I think this person will choose self-interest over loyalty.\",\n",
        "    \"I believe this person might deceive for personal benefit.\",\n",
        "    \"I expect this person to be guarded about their intentions.\",\n",
        "    \"I suspect this person would use others to fulfill their needs.\",\n",
        "    \"I think this person values their own benefit over honesty.\",\n",
        "    \"I believe this person may mislead others intentionally.\",\n",
        "    \"I expect this person to engage in untrustworthy behavior.\",\n",
        "    \"I suspect that this person has a tendency toward dishonesty.\",\n",
        "    \"I think this person prizes personal gain more than truth.\",\n",
        "    \"I believe this person acts with a concealed motive.\",\n",
        "    \"I expect this person to put self-interest ahead of others.\",\n",
        "    \"I suspect that this person may not honor their promises.\",\n",
        "    \"I believe this person harbors secret judgments about others.\",\n",
        "    \"I suspect that this person is inclined to pursue personal advantage.\",\n",
        "    \"I think this person will likely act in a self-serving way.\",\n",
        "    \"I expect that this person will disregard fairness for personal gain.\",\n",
        "    \"I suspect that this person is predisposed to withhold trust.\",\n",
        "    \"I believe this person chooses manipulation over sincerity.\",\n",
        "    \"I think this person makes decisions with hidden advantages in mind.\",\n",
        "    \"I expect that this person will be unpredictable in honest matters.\",\n",
        "    \"I suspect that this person may twist facts for their benefit.\",\n",
        "    \"I believe this person is not capable of full honesty.\",\n",
        "    \"I think this person’s actions prove a lack of genuine concern for others.\"]"
      ],
      "metadata": {
        "id": "I0GUTBcY4CWh"
      },
      "execution_count": null,
      "outputs": []
    },
    {
      "cell_type": "code",
      "source": [
        "embeddings_raw = model_raw.encode(sentences, convert_to_numpy=True)\n",
        "from sklearn.metrics.pairwise import cosine_similarity\n",
        "import pandas as pd\n",
        "similarity_matrix_raw = cosine_similarity(embeddings_raw)"
      ],
      "metadata": {
        "id": "YyApWzFV4MGA"
      },
      "execution_count": null,
      "outputs": []
    },
    {
      "cell_type": "code",
      "source": [
        "# iteratively removing the first item in the pair if cosine similarity is larger than 0.8\n",
        "def drop_highly_similar(embeddings, thresh=0.8, verbose=False):\n",
        "    \"\"\"\n",
        "    Iteratively drop the first vector in any pair whose cosine similarity\n",
        "    exceeds `thresh`. Stops when all remaining pairs are ≤ `thresh`.\n",
        "\n",
        "    Parameters\n",
        "    ----------\n",
        "    embeddings : (n, dim) array-like\n",
        "        The embedding vectors.\n",
        "    thresh : float, optional (default = 0.8)\n",
        "        Similarity cut-off.\n",
        "    verbose : bool, optional\n",
        "        If True, prints which indices are removed at each iteration.\n",
        "\n",
        "    Returns\n",
        "    -------\n",
        "    np.ndarray\n",
        "        Filtered embeddings (order preserved for kept items).\n",
        "    list[int]\n",
        "        Original indices of the kept items.\n",
        "    \"\"\"\n",
        "    emb = np.asarray(embeddings)\n",
        "    keep = np.arange(len(emb))           # original indices still alive\n",
        "\n",
        "    while True:\n",
        "        sims = cosine_similarity(emb[keep])   # (m × m) matrix\n",
        "        sims[np.triu_indices_from(sims)] = 0  # zero out self + upper tri → look once\n",
        "\n",
        "        # find a pair (i,j) with similarity > thresh\n",
        "        i, j = np.where(sims > thresh)\n",
        "        if len(i) == 0:                      # nothing left to drop\n",
        "            break\n",
        "\n",
        "        first_to_drop = keep[np.min(i)]      # the lower index (first item)\n",
        "        if verbose:\n",
        "            print(f\"Dropping original row {first_to_drop} \"\n",
        "                  f\"(similarity {sims[i[0], j[0]]:.3f} with row {keep[j[0]]})\")\n",
        "        keep = keep[keep != first_to_drop]   # remove it and loop again\n",
        "\n",
        "    return embeddings[keep], keep.tolist()"
      ],
      "metadata": {
        "id": "Jlu9GKzA4SPt"
      },
      "execution_count": null,
      "outputs": []
    },
    {
      "cell_type": "code",
      "source": [
        "filtered_emb, kept_indices = drop_highly_similar(embeddings_raw,\n",
        "                          thresh=0.8,\n",
        "                          verbose=True)\n",
        "# pull out the surviving items -------------------------------\n",
        "filtered_items = [sentences[i] for i in kept_indices]   # texts is your original list\n",
        "print(filtered_items)                               # or do whatever you need"
      ],
      "metadata": {
        "id": "2HwXsbq66e47"
      },
      "execution_count": null,
      "outputs": []
    },
    {
      "cell_type": "markdown",
      "source": [
        "#Content Validation"
      ],
      "metadata": {
        "id": "3vqQv4S60qwv"
      }
    },
    {
      "cell_type": "markdown",
      "source": [
        "##GPT"
      ],
      "metadata": {
        "id": "xifoHbSGmz5k"
      }
    },
    {
      "cell_type": "code",
      "source": [
        "items_cognitive = [\n",
        "    \"I expect this person to hide important information.\",\n",
        "    \"I think this person may be deceitful.\",\n",
        "    \"I am convinced that this person is not reliable.\",\n",
        "    \"I believe this person is likely to have an ulterior motive.\",\n",
        "    \"I suspect that this person may act in a manipulative way.\",\n",
        "    \"I suspect that this person is driven by self-interest.\",\n",
        "    \"I think this person may take advantage of others.\",\n",
        "    \"I believe this person hides their true intentions.\",\n",
        "    \"I expect that this person will act against my interests.\",\n",
        "    \"I am convinced that this person prioritizes personal gain over fairness.\",\n",
        "    \"I believe this person might exploit my weaknesses.\",\n",
        "    \"I suspect that this person keeps secrets to harm others.\",\n",
        "    \"I think this person is likely to twist facts.\",\n",
        "    \"I expect that this person will not act with transparency.\",\n",
        "    \"I am convinced that this person has a hidden agenda.\",\n",
        "    \"I believe this person is not likely to be straightforward.\",\n",
        "    \"I suspect that this person may conceal their true aims.\",\n",
        "    \"I think this person will choose self-interest over loyalty.\",\n",
        "    \"I believe this person might deceive for personal benefit.\",\n",
        "    \"I expect this person to be guarded about their intentions.\",\n",
        "    \"I suspect this person would use others to fulfill their needs.\",\n",
        "    \"I think this person values their own benefit over honesty.\",\n",
        "    \"I believe this person may mislead others intentionally.\",\n",
        "    \"I expect this person to engage in untrustworthy behavior.\",\n",
        "    \"I suspect that this person has a tendency toward dishonesty.\",\n",
        "    \"I think this person prizes personal gain more than truth.\",\n",
        "    \"I believe this person acts with a concealed motive.\",\n",
        "    \"I expect this person to put self-interest ahead of others.\",\n",
        "    \"I suspect that this person may not honor their promises.\",\n",
        "    \"I believe this person harbors secret judgments about others.\",\n",
        "    \"I suspect that this person is inclined to pursue personal advantage.\",\n",
        "    \"I think this person will likely act in a self-serving way.\",\n",
        "    \"I expect that this person will disregard fairness for personal gain.\",\n",
        "    \"I suspect that this person is predisposed to withhold trust.\",\n",
        "    \"I believe this person chooses manipulation over sincerity.\",\n",
        "    \"I think this person makes decisions with hidden advantages in mind.\",\n",
        "    \"I expect that this person will be unpredictable in honest matters.\",\n",
        "    \"I suspect that this person may twist facts for their benefit.\",\n",
        "    \"I believe this person is not capable of full honesty.\",\n",
        "    \"I think this person’s actions prove a lack of genuine concern for others.\"\n",
        "]"
      ],
      "metadata": {
        "id": "FIyYuhOCIsb0"
      },
      "execution_count": null,
      "outputs": []
    },
    {
      "cell_type": "code",
      "source": [
        "items_behavioral = [\n",
        "    \"I avoid sharing personal details with this person.\",\n",
        "    \"I keep my distance from this person in important matters.\",\n",
        "    \"I choose not to rely on this person for help.\",\n",
        "    \"I cancel plans with this person when possible.\",\n",
        "    \"I refrain from involving this person in confidential issues.\",\n",
        "    \"I guard my secrets when dealing with this person.\",\n",
        "    \"I am careful about letting this person into my personal life.\",\n",
        "    \"I limit my interactions with this person.\",\n",
        "    \"I prefer to keep communication with this person brief.\",\n",
        "    \"I protect myself by avoiding deep connections with this person.\",\n",
        "    \"I hesitate to trust this person in important decisions.\",\n",
        "    \"I resist sharing my true feelings with this person.\",\n",
        "    \"I steer away from relying on this person in risky situations.\",\n",
        "    \"I choose to monitor my actions when I am around this person.\",\n",
        "    \"I take steps to avoid potential harm from this person.\",\n",
        "    \"I withhold support from this person when it might put me at risk.\",\n",
        "    \"I decide against disclosing personal struggles to this person.\",\n",
        "    \"I remain cautious when inviting this person into my circle.\",\n",
        "    \"I prefer to handle challenges on my own with this person present.\",\n",
        "    \"I limit plans that involve future interactions with this person.\",\n",
        "    \"I refuse to depend on this person for critical tasks.\",\n",
        "    \"I actively reduce the time I spend with this person.\",\n",
        "    \"I take care not to expose vulnerabilities near this person.\",\n",
        "    \"I choose safe options when this person is involved.\",\n",
        "    \"I avoid risky situations that include this person.\",\n",
        "    \"I keep my guard up when interacting with this person.\",\n",
        "    \"I refrain from sharing extra details around this person.\",\n",
        "    \"I show reluctance to work jointly with this person.\",\n",
        "    \"I prefer independent routines over teamwork with this person.\",\n",
        "    \"I suppress my natural openness when I am with this person.\",\n",
        "    \"I opt for minimal engagement when this person is present.\",\n",
        "    \"I hide personal opinions to protect myself around this person.\",\n",
        "    \"I keep my personal projects private from this person.\",\n",
        "    \"I carefully choose what to share when this person is involved.\",\n",
        "    \"I diminish my collaboration with this person when it is possible.\",\n",
        "    \"I favor solitary actions over joint efforts with this person.\",\n",
        "    \"I plan alternative routes to avoid activities with this person.\",\n",
        "    \"I choose self-reliance when this person is part of a task.\",\n",
        "    \"I opt out of group events that involve this person.\",\n",
        "    \"I isolate myself from opportunities that include this person.\"\n",
        "]"
      ],
      "metadata": {
        "id": "8IyJ999JIxei"
      },
      "execution_count": null,
      "outputs": []
    },
    {
      "cell_type": "code",
      "source": [
        "items_affective = [\n",
        "    \"I feel uneasy when interacting with this person.\",\n",
        "    \"I experience discomfort around this person.\",\n",
        "    \"I feel alarmed in the presence of this person.\",\n",
        "    \"I experience tension during our conversations.\",\n",
        "    \"I feel anxious at the thought of meeting this person.\",\n",
        "    \"I feel a constant sense of unease around this person.\",\n",
        "    \"I sense a deep worry when I am with this person.\",\n",
        "    \"I feel nervous about this persons actions.\",\n",
        "    \"I feel stress when I think about this person.\",\n",
        "    \"I experience a strong tension near this person.\",\n",
        "    \"I feel discomfort during my encounters with this person.\",\n",
        "    \"I become apprehensive when I see this person.\",\n",
        "    \"I feel nervous during conversations with this person.\",\n",
        "    \"I sense anxiety when I consider this person.\",\n",
        "    \"I feel a surge of apprehension when this person is near.\",\n",
        "    \"I experience unease when thinking about future meetings with this person.\",\n",
        "    \"I feel troubled by this persons presence.\",\n",
        "    \"I feel a strong worry when considering this person.\",\n",
        "    \"I feel unsettled when interacting with this person.\",\n",
        "    \"I sense a form of dread around this person.\",\n",
        "    \"I feel restless when I am around this person.\",\n",
        "    \"I experience a heightened state of alertness near this person.\",\n",
        "    \"I feel a surge of anxiety in this persons company.\",\n",
        "    \"I feel uneasy when I learn about this persons plans.\",\n",
        "    \"I sense a nervous energy when facing this person.\",\n",
        "    \"I feel disquiet when I am close to this person.\",\n",
        "    \"I experience distress when this person is present.\",\n",
        "    \"I feel a spike of nervousness during encounters with this person.\",\n",
        "    \"I sense a looming fear in my interactions with this person.\",\n",
        "    \"I feel jittery around this person.\",\n",
        "    \"I experience a quick surge of fear when I am with this person.\",\n",
        "    \"I feel a load of anxiety when expecting to meet this person.\",\n",
        "    \"I feel unsettled before meeting this person.\",\n",
        "    \"I experience distress when I consider being around this person.\",\n",
        "    \"I feel my heart race in the presence of this person.\",\n",
        "    \"I feel a consistent sense of worry when near this person.\",\n",
        "    \"I experience internal conflict when interacting with this person.\",\n",
        "    \"I feel a strong gut reaction of dislike when I think of this person.\",\n",
        "    \"I feel a palpable tension when this person enters the room.\",\n",
        "    \"I experience a rush of cautionary anxiety around this person.\"\n",
        "]\n"
      ],
      "metadata": {
        "id": "mFDn4JOrJTVh"
      },
      "execution_count": null,
      "outputs": []
    },
    {
      "cell_type": "code",
      "source": [
        "# IDT constructs\n",
        "# Construct 1 should be focal dimension; Construct 2 and 3 should be orbiting dimensions.\n",
        "Content_reivew_D1 = f'''Here are the construct definitions to use when evaluate items of each dimension:\n",
        "- Construct 1**Cognitive**: Rational beliefs or expectations about another party’s untrustworthiness, specifying in what respects and under which circumstances distrust may arise.\n",
        "- Construct 2**Behavioral**: The unwillingness or avoidance of future interactions or risk-taking actions based on these negative expectations and feelings toward the other person.\n",
        "- Construct 3**Affective**: Negative emotions directed at the distrusted person.'''\n",
        "\n",
        "Content_reivew_D2 = f'''Here are the construct definitions to use when evaluate items of each dimension:\n",
        "- Construct 1**Behavioral**: The unwillingness or avoidance of future interactions or risk-taking actions based on these negative expectations and feelings toward the other person.\n",
        "- Construct 2**Cognitive**: Rational beliefs or expectations about another party’s untrustworthiness, specifying in what respects and under which circumstances distrust may arise.\n",
        "- Construct 3**Affective**: Negative emotions directed at the distrusted person.'''\n",
        "\n",
        "Content_reivew_D3 = f'''Here are the construct definitions to use when evaluate items of each dimension:\n",
        "- Construct 1**Affective**: Negative emotions directed at the distrusted person.\n",
        "- Construct 2**Cognitive**: Rational beliefs or expectations about another party’s untrustworthiness, specifying in what respects and under which circumstances distrust may arise.\n",
        "- Construct 3**Behavioral**: The unwillingness or avoidance of future interactions or risk-taking actions based on these negative expectations and feelings toward the other person.'''"
      ],
      "metadata": {
        "id": "V4oha0wSJd5Y"
      },
      "execution_count": null,
      "outputs": []
    },
    {
      "cell_type": "code",
      "source": [
        "cv_prompt_formatted = []\n",
        "for i in range(len(items_cognitive)):\n",
        "# need to revise the definition and target items.\n",
        "  cv_prompt_formatted.append([\n",
        "    {\"role\": \"system\", \"content\": f'''**Role assignment**You are a content reviewer.\n",
        "      **task objective**Your task is to review a item and evaluate how they related to each construct.\n",
        "      **task instructions**\n",
        "      - You will be given three construct definitions for the items : {Content_reivew_D2}\n",
        "      - Assess the degree to which each item matches each of the three given construct definitions using a seven-point response scale, (1 = extremely bad; 2 = very bad; 3 = somewhat bad, 4 = adequate; 5 = somewhat good; 6 = very good; 7 = extremely good).\n",
        "      - You need to provide a score for each construct, so three scores for each item.\n",
        "      **Formatting Requirements**\n",
        "      - Seperate your ratings with coma, start a new line for each item, make sure you rate all 40 items.\n",
        "      - IMPORTANT: Only provide items, and ratings in your ouput, do not provide any other explanation.\n",
        "      **Evaluating targets**\n",
        "      Here is the item that you need to evaluate:\n",
        "      {items_behavioral[i]}.\n",
        "      '''},\n",
        "    {\"role\": \"user\", \"content\": \"provide your ratings, do not include the original item in your response, seperate the rating scores by coma\"}\n",
        "  ])"
      ],
      "metadata": {
        "id": "I9UNT6uY9IkY"
      },
      "execution_count": null,
      "outputs": []
    },
    {
      "cell_type": "code",
      "source": [
        "content_validation_prompt =f'''**Role assignment**You are a content reviewer.\n",
        "      **task objective**Your task is to review a item and evaluate how they related to each construct.\n",
        "      **task instructions**\n",
        "      - You will be given three construct definitions for the items : {Content_reivew_D2}\n",
        "      - Assess the degree to which each item matches each of the three given construct definitions using a seven-point response scale, (1 = extremely bad; 2 = very bad; 3 = somewhat bad, 4 = adequate; 5 = somewhat good; 6 = very good; 7 = extremely good).\n",
        "      - You need to provide a score for each construct, so three scores for each item.\n",
        "      **Formatting Requirements**\n",
        "      - Seperate your ratings with coma.\n",
        "      - IMPORTANT: Only provide items, and ratings in your ouput, do not provide any other explanation.\n",
        "      **Evaluating targets**\n",
        "      Here is the item that you need to evaluate:\n",
        "      {items_behavioral}.\n",
        "      '''"
      ],
      "metadata": {
        "id": "TZ0eo8Gvjnz7"
      },
      "execution_count": null,
      "outputs": []
    },
    {
      "cell_type": "code",
      "source": [
        "messages = [\n",
        "    {\"role\": \"system\", \"content\": content_validation_prompt},\n",
        "    {\"role\": \"user\", \"content\": \"provide your ratings along with each item\"}\n",
        "]"
      ],
      "metadata": {
        "id": "Bk_kkf4mhRij"
      },
      "execution_count": null,
      "outputs": []
    },
    {
      "cell_type": "code",
      "source": [
        "rating_scores = []\n",
        "for i in range(len(cv_prompt_formatted)):\n",
        "  # create gpt generated score\n",
        "  completion = client.chat.completions.create(\n",
        "    model='o3-mini',\n",
        "    # here is your prompt list\n",
        "    messages=cv_prompt_formatted[i],\n",
        "#    top_p=0,\n",
        "#    temperature=0,\n",
        "    seed = 123\n",
        "  )\n",
        "  rating_scores.append(completion.choices[0].message.content)"
      ],
      "metadata": {
        "id": "jjry2SK190tS"
      },
      "execution_count": null,
      "outputs": []
    },
    {
      "cell_type": "code",
      "source": [
        "rating_scores"
      ],
      "metadata": {
        "colab": {
          "base_uri": "https://localhost:8080/"
        },
        "id": "msUw4p7R-DP2",
        "outputId": "3b29ccd5-e66f-47c4-8db5-53f8fe7faeac"
      },
      "execution_count": null,
      "outputs": [
        {
          "output_type": "execute_result",
          "data": {
            "text/plain": [
              "['7,1,1',\n",
              " '6,1,1',\n",
              " '7,1,1',\n",
              " '6,2,1',\n",
              " '7,1,2',\n",
              " '7,2,2',\n",
              " '5,2,1',\n",
              " '7,2,2',\n",
              " '6,1,1',\n",
              " '7,1,1',\n",
              " '6,2,2',\n",
              " '6,2,2',\n",
              " '7,1,1',\n",
              " '7,1,1',\n",
              " '7,1,1',\n",
              " '7,2,2',\n",
              " '7,1,1',\n",
              " '7,1,1',\n",
              " '6,2,2',\n",
              " '7,2,1',\n",
              " '6,1,1',\n",
              " '5,2,1',\n",
              " '7,1,1',\n",
              " '7,1,1',\n",
              " '5,1,1',\n",
              " '7,1,1',\n",
              " '7,1,1',\n",
              " '7,1,1',\n",
              " '7,2,1',\n",
              " '6,2,2',\n",
              " '7,1,1',\n",
              " '7,2,2',\n",
              " '6,1,1',\n",
              " '7,1,2',\n",
              " '5,1,1',\n",
              " '7,1,1',\n",
              " '4,2,1',\n",
              " '7,1,1',\n",
              " '6,1,1',\n",
              " '7,2,1']"
            ]
          },
          "metadata": {},
          "execution_count": 18
        }
      ]
    },
    {
      "cell_type": "markdown",
      "source": [
        "##Llama 3.3"
      ],
      "metadata": {
        "id": "WfDvDFQym4vl"
      }
    },
    {
      "cell_type": "code",
      "source": [
        "pip install groq"
      ],
      "metadata": {
        "colab": {
          "base_uri": "https://localhost:8080/"
        },
        "id": "Iz5UnrGHQma3",
        "outputId": "87aa351c-536b-46c8-90c8-f161075007b5"
      },
      "execution_count": null,
      "outputs": [
        {
          "output_type": "stream",
          "name": "stdout",
          "text": [
            "Collecting groq\n",
            "  Downloading groq-0.18.0-py3-none-any.whl.metadata (14 kB)\n",
            "Requirement already satisfied: anyio<5,>=3.5.0 in /usr/local/lib/python3.11/dist-packages (from groq) (3.7.1)\n",
            "Requirement already satisfied: distro<2,>=1.7.0 in /usr/local/lib/python3.11/dist-packages (from groq) (1.9.0)\n",
            "Requirement already satisfied: httpx<1,>=0.23.0 in /usr/local/lib/python3.11/dist-packages (from groq) (0.28.1)\n",
            "Requirement already satisfied: pydantic<3,>=1.9.0 in /usr/local/lib/python3.11/dist-packages (from groq) (2.10.6)\n",
            "Requirement already satisfied: sniffio in /usr/local/lib/python3.11/dist-packages (from groq) (1.3.1)\n",
            "Requirement already satisfied: typing-extensions<5,>=4.10 in /usr/local/lib/python3.11/dist-packages (from groq) (4.12.2)\n",
            "Requirement already satisfied: idna>=2.8 in /usr/local/lib/python3.11/dist-packages (from anyio<5,>=3.5.0->groq) (3.10)\n",
            "Requirement already satisfied: certifi in /usr/local/lib/python3.11/dist-packages (from httpx<1,>=0.23.0->groq) (2025.1.31)\n",
            "Requirement already satisfied: httpcore==1.* in /usr/local/lib/python3.11/dist-packages (from httpx<1,>=0.23.0->groq) (1.0.7)\n",
            "Requirement already satisfied: h11<0.15,>=0.13 in /usr/local/lib/python3.11/dist-packages (from httpcore==1.*->httpx<1,>=0.23.0->groq) (0.14.0)\n",
            "Requirement already satisfied: annotated-types>=0.6.0 in /usr/local/lib/python3.11/dist-packages (from pydantic<3,>=1.9.0->groq) (0.7.0)\n",
            "Requirement already satisfied: pydantic-core==2.27.2 in /usr/local/lib/python3.11/dist-packages (from pydantic<3,>=1.9.0->groq) (2.27.2)\n",
            "Downloading groq-0.18.0-py3-none-any.whl (121 kB)\n",
            "\u001b[?25l   \u001b[90m━━━━━━━━━━━━━━━━━━━━━━━━━━━━━━━━━━━━━━━━\u001b[0m \u001b[32m0.0/121.9 kB\u001b[0m \u001b[31m?\u001b[0m eta \u001b[36m-:--:--\u001b[0m\r\u001b[2K   \u001b[90m━━━━━━━━━━━━━━━━━━━━━━━━━━━━━━━━━━━━━━━━\u001b[0m \u001b[32m121.9/121.9 kB\u001b[0m \u001b[31m3.4 MB/s\u001b[0m eta \u001b[36m0:00:00\u001b[0m\n",
            "\u001b[?25hInstalling collected packages: groq\n",
            "Successfully installed groq-0.18.0\n"
          ]
        }
      ]
    },
    {
      "cell_type": "code",
      "source": [
        "import os\n",
        "\n",
        "from groq import Groq\n",
        "\n",
        "client = Groq(\n",
        "    api_key=\"Your Groq API key\",\n",
        ")\n"
      ],
      "metadata": {
        "id": "tD0QHkckQNWa"
      },
      "execution_count": null,
      "outputs": []
    },
    {
      "cell_type": "code",
      "source": [
        "rating_scores = []\n",
        "for i in range(len(cv_prompt_formatted)):\n",
        "  # create gpt generated score\n",
        "  chat_completion = client.chat.completions.create(\n",
        "    model='llama-3.3-70b-versatile',\n",
        "    # here is your prompt list\n",
        "    messages=cv_prompt_formatted[i],\n",
        "#    top_p=0,\n",
        "#    temperature=0,\n",
        "    seed = 123\n",
        "  )\n",
        "  rating_scores.append(chat_completion.choices[0].message.content)"
      ],
      "metadata": {
        "id": "15QGAJ-BRBV7"
      },
      "execution_count": null,
      "outputs": []
    },
    {
      "cell_type": "code",
      "source": [
        "rating_scores"
      ],
      "metadata": {
        "colab": {
          "base_uri": "https://localhost:8080/"
        },
        "id": "IjHfwh2jRMY0",
        "outputId": "5afdc128-63b1-4beb-acf0-673e4c3c2f98"
      },
      "execution_count": null,
      "outputs": [
        {
          "output_type": "execute_result",
          "data": {
            "text/plain": [
              "['6, 2, 1',\n",
              " '6, 2, 5',\n",
              " '6, 5, 4',\n",
              " '6, 2, 3',\n",
              " '6, 2, 5',\n",
              " '6, 2, 3',\n",
              " '6, 2, 3',\n",
              " '6, 2, 3',\n",
              " '6, 2, 1',\n",
              " '6, 5, 4',\n",
              " '6, 5, 4',\n",
              " '6, 5, 5',\n",
              " '6, 2, 5',\n",
              " '6, 2, 1',\n",
              " '6, 2, 3',\n",
              " '6, 2, 3',\n",
              " '6, 2, 3',\n",
              " '6, 2, 1',\n",
              " '6, 2, 3',\n",
              " '6, 2, 3',\n",
              " '7, 5, 4',\n",
              " '6, 2, 3',\n",
              " '6, 2, 5',\n",
              " '6, 2, 3',\n",
              " '6, 2, 5',\n",
              " '6, 2, 5',\n",
              " '6, 2, 3',\n",
              " '6, 2, 3',\n",
              " '6, 5, 4',\n",
              " '6, 2, 5',\n",
              " '6, 2, 3',\n",
              " '6, 2, 3',\n",
              " '6, 2, 1',\n",
              " '6, 2, 3',\n",
              " '6, 5, 5',\n",
              " '6, 2, 3',\n",
              " '6, 2, 3',\n",
              " '6, 2, 3',\n",
              " '6, 2, 3',\n",
              " '6, 2, 5']"
            ]
          },
          "metadata": {},
          "execution_count": 29
        }
      ]
    },
    {
      "cell_type": "markdown",
      "source": [
        "##deepseek r1"
      ],
      "metadata": {
        "id": "amnyKjnVryo8"
      }
    },
    {
      "cell_type": "code",
      "source": [
        "!pip install transformers\n",
        "!pip install accelerate\n",
        "!pip install bitsandbytes\n",
        "!pip install torch"
      ],
      "metadata": {
        "colab": {
          "base_uri": "https://localhost:8080/"
        },
        "outputId": "8316a776-1cbc-4c6a-cc92-60e42b0ed93b",
        "id": "rxvkQ5IXtYIC"
      },
      "execution_count": null,
      "outputs": [
        {
          "output_type": "stream",
          "name": "stdout",
          "text": [
            "Requirement already satisfied: transformers in /usr/local/lib/python3.11/dist-packages (4.48.2)\n",
            "Requirement already satisfied: filelock in /usr/local/lib/python3.11/dist-packages (from transformers) (3.17.0)\n",
            "Requirement already satisfied: huggingface-hub<1.0,>=0.24.0 in /usr/local/lib/python3.11/dist-packages (from transformers) (0.28.1)\n",
            "Requirement already satisfied: numpy>=1.17 in /usr/local/lib/python3.11/dist-packages (from transformers) (1.26.4)\n",
            "Requirement already satisfied: packaging>=20.0 in /usr/local/lib/python3.11/dist-packages (from transformers) (24.2)\n",
            "Requirement already satisfied: pyyaml>=5.1 in /usr/local/lib/python3.11/dist-packages (from transformers) (6.0.2)\n",
            "Requirement already satisfied: regex!=2019.12.17 in /usr/local/lib/python3.11/dist-packages (from transformers) (2024.11.6)\n",
            "Requirement already satisfied: requests in /usr/local/lib/python3.11/dist-packages (from transformers) (2.32.3)\n",
            "Requirement already satisfied: tokenizers<0.22,>=0.21 in /usr/local/lib/python3.11/dist-packages (from transformers) (0.21.0)\n",
            "Requirement already satisfied: safetensors>=0.4.1 in /usr/local/lib/python3.11/dist-packages (from transformers) (0.5.2)\n",
            "Requirement already satisfied: tqdm>=4.27 in /usr/local/lib/python3.11/dist-packages (from transformers) (4.67.1)\n",
            "Requirement already satisfied: fsspec>=2023.5.0 in /usr/local/lib/python3.11/dist-packages (from huggingface-hub<1.0,>=0.24.0->transformers) (2024.10.0)\n",
            "Requirement already satisfied: typing-extensions>=3.7.4.3 in /usr/local/lib/python3.11/dist-packages (from huggingface-hub<1.0,>=0.24.0->transformers) (4.12.2)\n",
            "Requirement already satisfied: charset-normalizer<4,>=2 in /usr/local/lib/python3.11/dist-packages (from requests->transformers) (3.4.1)\n",
            "Requirement already satisfied: idna<4,>=2.5 in /usr/local/lib/python3.11/dist-packages (from requests->transformers) (3.10)\n",
            "Requirement already satisfied: urllib3<3,>=1.21.1 in /usr/local/lib/python3.11/dist-packages (from requests->transformers) (2.3.0)\n",
            "Requirement already satisfied: certifi>=2017.4.17 in /usr/local/lib/python3.11/dist-packages (from requests->transformers) (2025.1.31)\n",
            "Requirement already satisfied: accelerate in /usr/local/lib/python3.11/dist-packages (1.3.0)\n",
            "Requirement already satisfied: numpy<3.0.0,>=1.17 in /usr/local/lib/python3.11/dist-packages (from accelerate) (1.26.4)\n",
            "Requirement already satisfied: packaging>=20.0 in /usr/local/lib/python3.11/dist-packages (from accelerate) (24.2)\n",
            "Requirement already satisfied: psutil in /usr/local/lib/python3.11/dist-packages (from accelerate) (5.9.5)\n",
            "Requirement already satisfied: pyyaml in /usr/local/lib/python3.11/dist-packages (from accelerate) (6.0.2)\n",
            "Requirement already satisfied: torch>=2.0.0 in /usr/local/lib/python3.11/dist-packages (from accelerate) (2.5.1+cu124)\n",
            "Requirement already satisfied: huggingface-hub>=0.21.0 in /usr/local/lib/python3.11/dist-packages (from accelerate) (0.28.1)\n",
            "Requirement already satisfied: safetensors>=0.4.3 in /usr/local/lib/python3.11/dist-packages (from accelerate) (0.5.2)\n",
            "Requirement already satisfied: filelock in /usr/local/lib/python3.11/dist-packages (from huggingface-hub>=0.21.0->accelerate) (3.17.0)\n",
            "Requirement already satisfied: fsspec>=2023.5.0 in /usr/local/lib/python3.11/dist-packages (from huggingface-hub>=0.21.0->accelerate) (2024.10.0)\n",
            "Requirement already satisfied: requests in /usr/local/lib/python3.11/dist-packages (from huggingface-hub>=0.21.0->accelerate) (2.32.3)\n",
            "Requirement already satisfied: tqdm>=4.42.1 in /usr/local/lib/python3.11/dist-packages (from huggingface-hub>=0.21.0->accelerate) (4.67.1)\n",
            "Requirement already satisfied: typing-extensions>=3.7.4.3 in /usr/local/lib/python3.11/dist-packages (from huggingface-hub>=0.21.0->accelerate) (4.12.2)\n",
            "Requirement already satisfied: networkx in /usr/local/lib/python3.11/dist-packages (from torch>=2.0.0->accelerate) (3.4.2)\n",
            "Requirement already satisfied: jinja2 in /usr/local/lib/python3.11/dist-packages (from torch>=2.0.0->accelerate) (3.1.5)\n",
            "Collecting nvidia-cuda-nvrtc-cu12==12.4.127 (from torch>=2.0.0->accelerate)\n",
            "  Downloading nvidia_cuda_nvrtc_cu12-12.4.127-py3-none-manylinux2014_x86_64.whl.metadata (1.5 kB)\n",
            "Collecting nvidia-cuda-runtime-cu12==12.4.127 (from torch>=2.0.0->accelerate)\n",
            "  Downloading nvidia_cuda_runtime_cu12-12.4.127-py3-none-manylinux2014_x86_64.whl.metadata (1.5 kB)\n",
            "Collecting nvidia-cuda-cupti-cu12==12.4.127 (from torch>=2.0.0->accelerate)\n",
            "  Downloading nvidia_cuda_cupti_cu12-12.4.127-py3-none-manylinux2014_x86_64.whl.metadata (1.6 kB)\n",
            "Collecting nvidia-cudnn-cu12==9.1.0.70 (from torch>=2.0.0->accelerate)\n",
            "  Downloading nvidia_cudnn_cu12-9.1.0.70-py3-none-manylinux2014_x86_64.whl.metadata (1.6 kB)\n",
            "Collecting nvidia-cublas-cu12==12.4.5.8 (from torch>=2.0.0->accelerate)\n",
            "  Downloading nvidia_cublas_cu12-12.4.5.8-py3-none-manylinux2014_x86_64.whl.metadata (1.5 kB)\n",
            "Collecting nvidia-cufft-cu12==11.2.1.3 (from torch>=2.0.0->accelerate)\n",
            "  Downloading nvidia_cufft_cu12-11.2.1.3-py3-none-manylinux2014_x86_64.whl.metadata (1.5 kB)\n",
            "Collecting nvidia-curand-cu12==10.3.5.147 (from torch>=2.0.0->accelerate)\n",
            "  Downloading nvidia_curand_cu12-10.3.5.147-py3-none-manylinux2014_x86_64.whl.metadata (1.5 kB)\n",
            "Collecting nvidia-cusolver-cu12==11.6.1.9 (from torch>=2.0.0->accelerate)\n",
            "  Downloading nvidia_cusolver_cu12-11.6.1.9-py3-none-manylinux2014_x86_64.whl.metadata (1.6 kB)\n",
            "Collecting nvidia-cusparse-cu12==12.3.1.170 (from torch>=2.0.0->accelerate)\n",
            "  Downloading nvidia_cusparse_cu12-12.3.1.170-py3-none-manylinux2014_x86_64.whl.metadata (1.6 kB)\n",
            "Requirement already satisfied: nvidia-nccl-cu12==2.21.5 in /usr/local/lib/python3.11/dist-packages (from torch>=2.0.0->accelerate) (2.21.5)\n",
            "Requirement already satisfied: nvidia-nvtx-cu12==12.4.127 in /usr/local/lib/python3.11/dist-packages (from torch>=2.0.0->accelerate) (12.4.127)\n",
            "Collecting nvidia-nvjitlink-cu12==12.4.127 (from torch>=2.0.0->accelerate)\n",
            "  Downloading nvidia_nvjitlink_cu12-12.4.127-py3-none-manylinux2014_x86_64.whl.metadata (1.5 kB)\n",
            "Requirement already satisfied: triton==3.1.0 in /usr/local/lib/python3.11/dist-packages (from torch>=2.0.0->accelerate) (3.1.0)\n",
            "Requirement already satisfied: sympy==1.13.1 in /usr/local/lib/python3.11/dist-packages (from torch>=2.0.0->accelerate) (1.13.1)\n",
            "Requirement already satisfied: mpmath<1.4,>=1.1.0 in /usr/local/lib/python3.11/dist-packages (from sympy==1.13.1->torch>=2.0.0->accelerate) (1.3.0)\n",
            "Requirement already satisfied: MarkupSafe>=2.0 in /usr/local/lib/python3.11/dist-packages (from jinja2->torch>=2.0.0->accelerate) (3.0.2)\n",
            "Requirement already satisfied: charset-normalizer<4,>=2 in /usr/local/lib/python3.11/dist-packages (from requests->huggingface-hub>=0.21.0->accelerate) (3.4.1)\n",
            "Requirement already satisfied: idna<4,>=2.5 in /usr/local/lib/python3.11/dist-packages (from requests->huggingface-hub>=0.21.0->accelerate) (3.10)\n",
            "Requirement already satisfied: urllib3<3,>=1.21.1 in /usr/local/lib/python3.11/dist-packages (from requests->huggingface-hub>=0.21.0->accelerate) (2.3.0)\n",
            "Requirement already satisfied: certifi>=2017.4.17 in /usr/local/lib/python3.11/dist-packages (from requests->huggingface-hub>=0.21.0->accelerate) (2025.1.31)\n",
            "Downloading nvidia_cublas_cu12-12.4.5.8-py3-none-manylinux2014_x86_64.whl (363.4 MB)\n",
            "\u001b[2K   \u001b[90m━━━━━━━━━━━━━━━━━━━━━━━━━━━━━━━━━━━━━━━━\u001b[0m \u001b[32m363.4/363.4 MB\u001b[0m \u001b[31m3.1 MB/s\u001b[0m eta \u001b[36m0:00:00\u001b[0m\n",
            "\u001b[?25hDownloading nvidia_cuda_cupti_cu12-12.4.127-py3-none-manylinux2014_x86_64.whl (13.8 MB)\n",
            "\u001b[2K   \u001b[90m━━━━━━━━━━━━━━━━━━━━━━━━━━━━━━━━━━━━━━━━\u001b[0m \u001b[32m13.8/13.8 MB\u001b[0m \u001b[31m108.0 MB/s\u001b[0m eta \u001b[36m0:00:00\u001b[0m\n",
            "\u001b[?25hDownloading nvidia_cuda_nvrtc_cu12-12.4.127-py3-none-manylinux2014_x86_64.whl (24.6 MB)\n",
            "\u001b[2K   \u001b[90m━━━━━━━━━━━━━━━━━━━━━━━━━━━━━━━━━━━━━━━━\u001b[0m \u001b[32m24.6/24.6 MB\u001b[0m \u001b[31m83.5 MB/s\u001b[0m eta \u001b[36m0:00:00\u001b[0m\n",
            "\u001b[?25hDownloading nvidia_cuda_runtime_cu12-12.4.127-py3-none-manylinux2014_x86_64.whl (883 kB)\n",
            "\u001b[2K   \u001b[90m━━━━━━━━━━━━━━━━━━━━━━━━━━━━━━━━━━━━━━━━\u001b[0m \u001b[32m883.7/883.7 kB\u001b[0m \u001b[31m58.1 MB/s\u001b[0m eta \u001b[36m0:00:00\u001b[0m\n",
            "\u001b[?25hDownloading nvidia_cudnn_cu12-9.1.0.70-py3-none-manylinux2014_x86_64.whl (664.8 MB)\n",
            "\u001b[2K   \u001b[90m━━━━━━━━━━━━━━━━━━━━━━━━━━━━━━━━━━━━━━━━\u001b[0m \u001b[32m664.8/664.8 MB\u001b[0m \u001b[31m3.0 MB/s\u001b[0m eta \u001b[36m0:00:00\u001b[0m\n",
            "\u001b[?25hDownloading nvidia_cufft_cu12-11.2.1.3-py3-none-manylinux2014_x86_64.whl (211.5 MB)\n",
            "\u001b[2K   \u001b[90m━━━━━━━━━━━━━━━━━━━━━━━━━━━━━━━━━━━━━━━━\u001b[0m \u001b[32m211.5/211.5 MB\u001b[0m \u001b[31m5.6 MB/s\u001b[0m eta \u001b[36m0:00:00\u001b[0m\n",
            "\u001b[?25hDownloading nvidia_curand_cu12-10.3.5.147-py3-none-manylinux2014_x86_64.whl (56.3 MB)\n",
            "\u001b[2K   \u001b[90m━━━━━━━━━━━━━━━━━━━━━━━━━━━━━━━━━━━━━━━━\u001b[0m \u001b[32m56.3/56.3 MB\u001b[0m \u001b[31m14.5 MB/s\u001b[0m eta \u001b[36m0:00:00\u001b[0m\n",
            "\u001b[?25hDownloading nvidia_cusolver_cu12-11.6.1.9-py3-none-manylinux2014_x86_64.whl (127.9 MB)\n",
            "\u001b[2K   \u001b[90m━━━━━━━━━━━━━━━━━━━━━━━━━━━━━━━━━━━━━━━━\u001b[0m \u001b[32m127.9/127.9 MB\u001b[0m \u001b[31m7.5 MB/s\u001b[0m eta \u001b[36m0:00:00\u001b[0m\n",
            "\u001b[?25hDownloading nvidia_cusparse_cu12-12.3.1.170-py3-none-manylinux2014_x86_64.whl (207.5 MB)\n",
            "\u001b[2K   \u001b[90m━━━━━━━━━━━━━━━━━━━━━━━━━━━━━━━━━━━━━━━━\u001b[0m \u001b[32m207.5/207.5 MB\u001b[0m \u001b[31m4.8 MB/s\u001b[0m eta \u001b[36m0:00:00\u001b[0m\n",
            "\u001b[?25hDownloading nvidia_nvjitlink_cu12-12.4.127-py3-none-manylinux2014_x86_64.whl (21.1 MB)\n",
            "\u001b[2K   \u001b[90m━━━━━━━━━━━━━━━━━━━━━━━━━━━━━━━━━━━━━━━━\u001b[0m \u001b[32m21.1/21.1 MB\u001b[0m \u001b[31m61.9 MB/s\u001b[0m eta \u001b[36m0:00:00\u001b[0m\n",
            "\u001b[?25hInstalling collected packages: nvidia-nvjitlink-cu12, nvidia-curand-cu12, nvidia-cufft-cu12, nvidia-cuda-runtime-cu12, nvidia-cuda-nvrtc-cu12, nvidia-cuda-cupti-cu12, nvidia-cublas-cu12, nvidia-cusparse-cu12, nvidia-cudnn-cu12, nvidia-cusolver-cu12\n",
            "  Attempting uninstall: nvidia-nvjitlink-cu12\n",
            "    Found existing installation: nvidia-nvjitlink-cu12 12.5.82\n",
            "    Uninstalling nvidia-nvjitlink-cu12-12.5.82:\n",
            "      Successfully uninstalled nvidia-nvjitlink-cu12-12.5.82\n",
            "  Attempting uninstall: nvidia-curand-cu12\n",
            "    Found existing installation: nvidia-curand-cu12 10.3.6.82\n",
            "    Uninstalling nvidia-curand-cu12-10.3.6.82:\n",
            "      Successfully uninstalled nvidia-curand-cu12-10.3.6.82\n",
            "  Attempting uninstall: nvidia-cufft-cu12\n",
            "    Found existing installation: nvidia-cufft-cu12 11.2.3.61\n",
            "    Uninstalling nvidia-cufft-cu12-11.2.3.61:\n",
            "      Successfully uninstalled nvidia-cufft-cu12-11.2.3.61\n",
            "  Attempting uninstall: nvidia-cuda-runtime-cu12\n",
            "    Found existing installation: nvidia-cuda-runtime-cu12 12.5.82\n",
            "    Uninstalling nvidia-cuda-runtime-cu12-12.5.82:\n",
            "      Successfully uninstalled nvidia-cuda-runtime-cu12-12.5.82\n",
            "  Attempting uninstall: nvidia-cuda-nvrtc-cu12\n",
            "    Found existing installation: nvidia-cuda-nvrtc-cu12 12.5.82\n",
            "    Uninstalling nvidia-cuda-nvrtc-cu12-12.5.82:\n",
            "      Successfully uninstalled nvidia-cuda-nvrtc-cu12-12.5.82\n",
            "  Attempting uninstall: nvidia-cuda-cupti-cu12\n",
            "    Found existing installation: nvidia-cuda-cupti-cu12 12.5.82\n",
            "    Uninstalling nvidia-cuda-cupti-cu12-12.5.82:\n",
            "      Successfully uninstalled nvidia-cuda-cupti-cu12-12.5.82\n",
            "  Attempting uninstall: nvidia-cublas-cu12\n",
            "    Found existing installation: nvidia-cublas-cu12 12.5.3.2\n",
            "    Uninstalling nvidia-cublas-cu12-12.5.3.2:\n",
            "      Successfully uninstalled nvidia-cublas-cu12-12.5.3.2\n",
            "  Attempting uninstall: nvidia-cusparse-cu12\n",
            "    Found existing installation: nvidia-cusparse-cu12 12.5.1.3\n",
            "    Uninstalling nvidia-cusparse-cu12-12.5.1.3:\n",
            "      Successfully uninstalled nvidia-cusparse-cu12-12.5.1.3\n",
            "  Attempting uninstall: nvidia-cudnn-cu12\n",
            "    Found existing installation: nvidia-cudnn-cu12 9.3.0.75\n",
            "    Uninstalling nvidia-cudnn-cu12-9.3.0.75:\n",
            "      Successfully uninstalled nvidia-cudnn-cu12-9.3.0.75\n",
            "  Attempting uninstall: nvidia-cusolver-cu12\n",
            "    Found existing installation: nvidia-cusolver-cu12 11.6.3.83\n",
            "    Uninstalling nvidia-cusolver-cu12-11.6.3.83:\n",
            "      Successfully uninstalled nvidia-cusolver-cu12-11.6.3.83\n",
            "Successfully installed nvidia-cublas-cu12-12.4.5.8 nvidia-cuda-cupti-cu12-12.4.127 nvidia-cuda-nvrtc-cu12-12.4.127 nvidia-cuda-runtime-cu12-12.4.127 nvidia-cudnn-cu12-9.1.0.70 nvidia-cufft-cu12-11.2.1.3 nvidia-curand-cu12-10.3.5.147 nvidia-cusolver-cu12-11.6.1.9 nvidia-cusparse-cu12-12.3.1.170 nvidia-nvjitlink-cu12-12.4.127\n",
            "Collecting bitsandbytes\n",
            "  Downloading bitsandbytes-0.45.2-py3-none-manylinux_2_24_x86_64.whl.metadata (5.8 kB)\n",
            "Requirement already satisfied: torch<3,>=2.0 in /usr/local/lib/python3.11/dist-packages (from bitsandbytes) (2.5.1+cu124)\n",
            "Requirement already satisfied: numpy>=1.17 in /usr/local/lib/python3.11/dist-packages (from bitsandbytes) (1.26.4)\n",
            "Requirement already satisfied: filelock in /usr/local/lib/python3.11/dist-packages (from torch<3,>=2.0->bitsandbytes) (3.17.0)\n",
            "Requirement already satisfied: typing-extensions>=4.8.0 in /usr/local/lib/python3.11/dist-packages (from torch<3,>=2.0->bitsandbytes) (4.12.2)\n",
            "Requirement already satisfied: networkx in /usr/local/lib/python3.11/dist-packages (from torch<3,>=2.0->bitsandbytes) (3.4.2)\n",
            "Requirement already satisfied: jinja2 in /usr/local/lib/python3.11/dist-packages (from torch<3,>=2.0->bitsandbytes) (3.1.5)\n",
            "Requirement already satisfied: fsspec in /usr/local/lib/python3.11/dist-packages (from torch<3,>=2.0->bitsandbytes) (2024.10.0)\n",
            "Requirement already satisfied: nvidia-cuda-nvrtc-cu12==12.4.127 in /usr/local/lib/python3.11/dist-packages (from torch<3,>=2.0->bitsandbytes) (12.4.127)\n",
            "Requirement already satisfied: nvidia-cuda-runtime-cu12==12.4.127 in /usr/local/lib/python3.11/dist-packages (from torch<3,>=2.0->bitsandbytes) (12.4.127)\n",
            "Requirement already satisfied: nvidia-cuda-cupti-cu12==12.4.127 in /usr/local/lib/python3.11/dist-packages (from torch<3,>=2.0->bitsandbytes) (12.4.127)\n",
            "Requirement already satisfied: nvidia-cudnn-cu12==9.1.0.70 in /usr/local/lib/python3.11/dist-packages (from torch<3,>=2.0->bitsandbytes) (9.1.0.70)\n",
            "Requirement already satisfied: nvidia-cublas-cu12==12.4.5.8 in /usr/local/lib/python3.11/dist-packages (from torch<3,>=2.0->bitsandbytes) (12.4.5.8)\n",
            "Requirement already satisfied: nvidia-cufft-cu12==11.2.1.3 in /usr/local/lib/python3.11/dist-packages (from torch<3,>=2.0->bitsandbytes) (11.2.1.3)\n",
            "Requirement already satisfied: nvidia-curand-cu12==10.3.5.147 in /usr/local/lib/python3.11/dist-packages (from torch<3,>=2.0->bitsandbytes) (10.3.5.147)\n",
            "Requirement already satisfied: nvidia-cusolver-cu12==11.6.1.9 in /usr/local/lib/python3.11/dist-packages (from torch<3,>=2.0->bitsandbytes) (11.6.1.9)\n",
            "Requirement already satisfied: nvidia-cusparse-cu12==12.3.1.170 in /usr/local/lib/python3.11/dist-packages (from torch<3,>=2.0->bitsandbytes) (12.3.1.170)\n",
            "Requirement already satisfied: nvidia-nccl-cu12==2.21.5 in /usr/local/lib/python3.11/dist-packages (from torch<3,>=2.0->bitsandbytes) (2.21.5)\n",
            "Requirement already satisfied: nvidia-nvtx-cu12==12.4.127 in /usr/local/lib/python3.11/dist-packages (from torch<3,>=2.0->bitsandbytes) (12.4.127)\n",
            "Requirement already satisfied: nvidia-nvjitlink-cu12==12.4.127 in /usr/local/lib/python3.11/dist-packages (from torch<3,>=2.0->bitsandbytes) (12.4.127)\n",
            "Requirement already satisfied: triton==3.1.0 in /usr/local/lib/python3.11/dist-packages (from torch<3,>=2.0->bitsandbytes) (3.1.0)\n",
            "Requirement already satisfied: sympy==1.13.1 in /usr/local/lib/python3.11/dist-packages (from torch<3,>=2.0->bitsandbytes) (1.13.1)\n",
            "Requirement already satisfied: mpmath<1.4,>=1.1.0 in /usr/local/lib/python3.11/dist-packages (from sympy==1.13.1->torch<3,>=2.0->bitsandbytes) (1.3.0)\n",
            "Requirement already satisfied: MarkupSafe>=2.0 in /usr/local/lib/python3.11/dist-packages (from jinja2->torch<3,>=2.0->bitsandbytes) (3.0.2)\n",
            "Downloading bitsandbytes-0.45.2-py3-none-manylinux_2_24_x86_64.whl (69.7 MB)\n",
            "\u001b[2K   \u001b[90m━━━━━━━━━━━━━━━━━━━━━━━━━━━━━━━━━━━━━━━━\u001b[0m \u001b[32m69.7/69.7 MB\u001b[0m \u001b[31m11.1 MB/s\u001b[0m eta \u001b[36m0:00:00\u001b[0m\n",
            "\u001b[?25hInstalling collected packages: bitsandbytes\n",
            "Successfully installed bitsandbytes-0.45.2\n",
            "Requirement already satisfied: torch in /usr/local/lib/python3.11/dist-packages (2.5.1+cu124)\n",
            "Requirement already satisfied: filelock in /usr/local/lib/python3.11/dist-packages (from torch) (3.17.0)\n",
            "Requirement already satisfied: typing-extensions>=4.8.0 in /usr/local/lib/python3.11/dist-packages (from torch) (4.12.2)\n",
            "Requirement already satisfied: networkx in /usr/local/lib/python3.11/dist-packages (from torch) (3.4.2)\n",
            "Requirement already satisfied: jinja2 in /usr/local/lib/python3.11/dist-packages (from torch) (3.1.5)\n",
            "Requirement already satisfied: fsspec in /usr/local/lib/python3.11/dist-packages (from torch) (2024.10.0)\n",
            "Requirement already satisfied: nvidia-cuda-nvrtc-cu12==12.4.127 in /usr/local/lib/python3.11/dist-packages (from torch) (12.4.127)\n",
            "Requirement already satisfied: nvidia-cuda-runtime-cu12==12.4.127 in /usr/local/lib/python3.11/dist-packages (from torch) (12.4.127)\n",
            "Requirement already satisfied: nvidia-cuda-cupti-cu12==12.4.127 in /usr/local/lib/python3.11/dist-packages (from torch) (12.4.127)\n",
            "Requirement already satisfied: nvidia-cudnn-cu12==9.1.0.70 in /usr/local/lib/python3.11/dist-packages (from torch) (9.1.0.70)\n",
            "Requirement already satisfied: nvidia-cublas-cu12==12.4.5.8 in /usr/local/lib/python3.11/dist-packages (from torch) (12.4.5.8)\n",
            "Requirement already satisfied: nvidia-cufft-cu12==11.2.1.3 in /usr/local/lib/python3.11/dist-packages (from torch) (11.2.1.3)\n",
            "Requirement already satisfied: nvidia-curand-cu12==10.3.5.147 in /usr/local/lib/python3.11/dist-packages (from torch) (10.3.5.147)\n",
            "Requirement already satisfied: nvidia-cusolver-cu12==11.6.1.9 in /usr/local/lib/python3.11/dist-packages (from torch) (11.6.1.9)\n",
            "Requirement already satisfied: nvidia-cusparse-cu12==12.3.1.170 in /usr/local/lib/python3.11/dist-packages (from torch) (12.3.1.170)\n",
            "Requirement already satisfied: nvidia-nccl-cu12==2.21.5 in /usr/local/lib/python3.11/dist-packages (from torch) (2.21.5)\n",
            "Requirement already satisfied: nvidia-nvtx-cu12==12.4.127 in /usr/local/lib/python3.11/dist-packages (from torch) (12.4.127)\n",
            "Requirement already satisfied: nvidia-nvjitlink-cu12==12.4.127 in /usr/local/lib/python3.11/dist-packages (from torch) (12.4.127)\n",
            "Requirement already satisfied: triton==3.1.0 in /usr/local/lib/python3.11/dist-packages (from torch) (3.1.0)\n",
            "Requirement already satisfied: sympy==1.13.1 in /usr/local/lib/python3.11/dist-packages (from torch) (1.13.1)\n",
            "Requirement already satisfied: mpmath<1.4,>=1.1.0 in /usr/local/lib/python3.11/dist-packages (from sympy==1.13.1->torch) (1.3.0)\n",
            "Requirement already satisfied: MarkupSafe>=2.0 in /usr/local/lib/python3.11/dist-packages (from jinja2->torch) (3.0.2)\n"
          ]
        }
      ]
    },
    {
      "cell_type": "code",
      "source": [
        "# login to your huggingface account\n",
        "!huggingface-cli login"
      ],
      "metadata": {
        "colab": {
          "base_uri": "https://localhost:8080/"
        },
        "outputId": "4b1afca5-b62f-4e7a-d808-1d9733139db4",
        "id": "Wj7suVXxtYIC"
      },
      "execution_count": null,
      "outputs": [
        {
          "output_type": "stream",
          "name": "stdout",
          "text": [
            "\n",
            "    _|    _|  _|    _|    _|_|_|    _|_|_|  _|_|_|  _|      _|    _|_|_|      _|_|_|_|    _|_|      _|_|_|  _|_|_|_|\n",
            "    _|    _|  _|    _|  _|        _|          _|    _|_|    _|  _|            _|        _|    _|  _|        _|\n",
            "    _|_|_|_|  _|    _|  _|  _|_|  _|  _|_|    _|    _|  _|  _|  _|  _|_|      _|_|_|    _|_|_|_|  _|        _|_|_|\n",
            "    _|    _|  _|    _|  _|    _|  _|    _|    _|    _|    _|_|  _|    _|      _|        _|    _|  _|        _|\n",
            "    _|    _|    _|_|      _|_|_|    _|_|_|  _|_|_|  _|      _|    _|_|_|      _|        _|    _|    _|_|_|  _|_|_|_|\n",
            "\n",
            "    To log in, `huggingface_hub` requires a token generated from https://huggingface.co/settings/tokens .\n",
            "Enter your token (input will not be visible): \n",
            "Add token as git credential? (Y/n) Y\n",
            "Token is valid (permission: write).\n",
            "The token `NLI` has been saved to /root/.cache/huggingface/stored_tokens\n",
            "\u001b[1m\u001b[31mCannot authenticate through git-credential as no helper is defined on your machine.\n",
            "You might have to re-authenticate when pushing to the Hugging Face Hub.\n",
            "Run the following command in your terminal in case you want to set the 'store' credential helper as default.\n",
            "\n",
            "git config --global credential.helper store\n",
            "\n",
            "Read https://git-scm.com/book/en/v2/Git-Tools-Credential-Storage for more details.\u001b[0m\n",
            "Token has not been saved to git credential helper.\n",
            "Your token has been saved to /root/.cache/huggingface/token\n",
            "Login successful.\n",
            "The current active token is: `NLI`\n"
          ]
        }
      ]
    },
    {
      "cell_type": "code",
      "source": [
        "import torch\n",
        "from transformers import AutoTokenizer, AutoModelForCausalLM, BitsAndBytesConfig, pipeline"
      ],
      "metadata": {
        "id": "Pi3x5-i5tYIC"
      },
      "execution_count": null,
      "outputs": []
    },
    {
      "cell_type": "code",
      "source": [
        "model_id = \"deepseek-ai/DeepSeek-R1-Distill-Llama-8B\"\n",
        "\n",
        "bnb_config = BitsAndBytesConfig(\n",
        "    load_in_4bit=True,\n",
        "    bnb_4bit_use_double_quant=True,\n",
        "    bnb_4bit_quant_type=\"nf4\",\n",
        "    bnb_4bit_compute_dtype=torch.bfloat16\n",
        ")\n",
        "\n",
        "tokenizer = AutoTokenizer.from_pretrained(model_id)\n",
        "tokenizer.pad_token = tokenizer.eos_token\n",
        "model = AutoModelForCausalLM.from_pretrained(model_id, quantization_config=bnb_config, device_map=\"cuda\")\n",
        "#model = AutoModelForCausalLM.from_pretrained(model_id, device_map=\"cuda\")"
      ],
      "metadata": {
        "colab": {
          "base_uri": "https://localhost:8080/",
          "height": 412,
          "referenced_widgets": [
            "009200f5e8fc4488811ca2c0cbb5af44",
            "f7e066dac90b4f169ab34ba984735691",
            "9d4df07ba29c415e8f2ee967316b0bb2",
            "f2df8c6b4b3b49758ad1c3ed147beac3",
            "54d62d034fb5416f81ce96ac3c74fc6d",
            "6aeefac21e6748269a3da704f2c22062",
            "0af608a6a0af42d981c65692158243de",
            "9561dc76e78546bfb74c28cdfcfefb5d",
            "e6e933affcdb46c9942544c42edd0306",
            "e3d3820c1bc64aa79f290ff8ee2ce621",
            "bebcb58d1c2d4cf6a1f93aacd049f02d",
            "59c51d53b13d44c3bd7f299193b92c7c",
            "f5a382917bde4e5789fd7a69960d38d7",
            "2ab9793d3e8946d89dc27e9ba63b8525",
            "f97e881c4e424ad7b0f16cf2d60a30e1",
            "88ca66d178b54f179bff787b8d2da088",
            "daa0d9ce50ff4c7b9cf19618d67b2f6d",
            "2398f81af392490bb56f3a0928fc4aaf",
            "ba2df8ca80754a16ac98fcaf1e2aefef",
            "54c3e1e8a2984ec5beebda90e77af13b",
            "8de2522154ec4161973bce827805180d",
            "5716314482c14532b6812c3502cf7a7f",
            "ba004a87d2b542939f65ef4732feb778",
            "59471301de6a4e3c99c9a231ac674b24",
            "a169a2baa06045389ee817732d8ba922",
            "828e0f29175e4f23aa697d950f0cad0b",
            "4c7a960e828f46d99ede84b7b471538e",
            "ba413a2e7cec4aa0a59329f6d6524e11",
            "e958e439120c4342896eefac59e87808",
            "e8bbc565111a453ea4b97f375bcb16f4",
            "df4f3002549e42f28970b41bb9c5646a",
            "81568de0482d4e0f80b407af5544ae5f",
            "3b3260a2370345bdbfdd6305cca180ad",
            "6a7a5635d8fc4e3e854c1bad04d5fab0",
            "a222467367344853a6c6a89b7d6e93d4",
            "71f347b6f3034021b2fd00ce0c545115",
            "075e10da7a0d4087b55c1a30600a8e02",
            "e1d23d3798c04a469adbd3fd1ffc930c",
            "ee530dbe48d1404092f063244c96c55a",
            "f5db35911a9f45bca891d3869b2305cf",
            "c99cfedb2e56488c827dea1c5c480503",
            "3716f745b25c49c68f0dc879e0ae69b1",
            "71073e137eba45ecaa8d7784ceab3ac8",
            "e03c053ae3b5460b9c07edbbc547c510",
            "a374ce0cc73e47e09aa34a84fd3d2ccb",
            "c2a51c3003244609ab20ef618d82567a",
            "a75057c3e96e40148a04731b5474e94a",
            "1e9bdb1d2d594d009b947f0ca7c94acc",
            "6646e5fbf7864b438ccf33a0b906964b",
            "a3b4b23e59834a378d68463eb96de11b",
            "b3eeb9fffd7e4424810ae772e59e4b95",
            "1c6dc77de4984322a92e0e94d0265c69",
            "540edb8e60534fff9bdf64936c1c4b13",
            "3fc551f4f91e4f4487a1a03d5cf08e42",
            "3a3fa880558942f8baf9e162dea46b7c",
            "ad279cc77a54438c91af97768b6a56f7",
            "9c5bc7c2e97341dca0baf4427012530c",
            "c5352c430c304779abe5e7283f1c835c",
            "c8e6d026c7e341a5ae16f85ff057d10b",
            "e4b4be8e79814803b228e5c6a7426ddb",
            "e7a3a47598414fc2900f53c67e1866e2",
            "9eda8655d2b84446a0fa57b74a0fa79f",
            "e71f9136caad4b8ca509ab0b668d5fc3",
            "2bb42a32eeff4036a9ba87f6bbff526d",
            "f4f6c9975eaa42bb85e17280440d84f2",
            "18c055947b454c87b9d25a8fafe9b559",
            "901bc4261ef54c47bee583372191009c",
            "8f901c5cc4c14fc1a941d9e284beb6a5",
            "3b1436733bd04ca7b33cc052b7a4fde7",
            "f0fb9b12f1634929be473345982fe0cd",
            "b9a0aab0130b4d949a7288cc03c397b2",
            "c81407a7207f4b5dba3f25458e12f1c9",
            "40a5a2e5cfa840e8bca365582e74a784",
            "c6493867e7da4310bee37991a7e302d6",
            "aadb779d77ba46d7af3140854d9b215b",
            "484fb02f532c4217b8cba86f82353bf9",
            "f0b40122ce76465dad134df74e6c018f",
            "110ee19ad6af44839a42e32547651a14",
            "2158e11aafc741d5b1c96a2b865f3c10",
            "f40f44e10b9d4966bfc5210a5cf9f99c",
            "892de0997fc249f0b8c0f2f6807649f2",
            "0c27aee677b64507813d1b596e83b0e6",
            "cc8626c515ee4f87897e51c70e754e4e",
            "4bc7efb96ee04ca4ab838b222236c5ca",
            "baec212a518a4209905d1d1a3f9ad2a1",
            "22a7e3ef3d6f498ea425727abc817693",
            "6c6d25f15d634ec8ba62e8ec66536270",
            "53d12e001e4b491ab261fe5640fee0c9",
            "75c1951dbab34e6ba87c9adf6e6df9d5",
            "d83e7b1314b34473b2017fca77e9e851",
            "9a2ceeb3e7cf40d791c504ec8a2d88b8",
            "b8c0e4b2fd694179a0ecb3fde1acf373",
            "d7bc78d0a71c4ebfb2ec2a40547db50b",
            "1e9c210e6f6f4884bfe79d50471febff",
            "e6c0a72c363f410fae744a05eb4e4ad0",
            "9f181084c62a4086bcb2c3305ebbcbf5",
            "1cd67eceb4514e7fb3362d43969f7044",
            "c51858657d074e46a89d10ff9b0f2e77",
            "95430799e2a64c418d7cfd898a661f14"
          ]
        },
        "outputId": "395bef97-eae8-4ade-d27b-edfe7d32de2b",
        "id": "v_yt0HeKtYIC"
      },
      "execution_count": null,
      "outputs": [
        {
          "output_type": "stream",
          "name": "stderr",
          "text": [
            "/usr/local/lib/python3.11/dist-packages/huggingface_hub/utils/_auth.py:94: UserWarning: \n",
            "The secret `HF_TOKEN` does not exist in your Colab secrets.\n",
            "To authenticate with the Hugging Face Hub, create a token in your settings tab (https://huggingface.co/settings/tokens), set it as secret in your Google Colab and restart your session.\n",
            "You will be able to reuse this secret in all of your notebooks.\n",
            "Please note that authentication is recommended but still optional to access public models or datasets.\n",
            "  warnings.warn(\n"
          ]
        },
        {
          "output_type": "display_data",
          "data": {
            "text/plain": [
              "tokenizer_config.json:   0%|          | 0.00/3.07k [00:00<?, ?B/s]"
            ],
            "application/vnd.jupyter.widget-view+json": {
              "version_major": 2,
              "version_minor": 0,
              "model_id": "009200f5e8fc4488811ca2c0cbb5af44"
            }
          },
          "metadata": {}
        },
        {
          "output_type": "display_data",
          "data": {
            "text/plain": [
              "tokenizer.json:   0%|          | 0.00/9.08M [00:00<?, ?B/s]"
            ],
            "application/vnd.jupyter.widget-view+json": {
              "version_major": 2,
              "version_minor": 0,
              "model_id": "59c51d53b13d44c3bd7f299193b92c7c"
            }
          },
          "metadata": {}
        },
        {
          "output_type": "display_data",
          "data": {
            "text/plain": [
              "config.json:   0%|          | 0.00/826 [00:00<?, ?B/s]"
            ],
            "application/vnd.jupyter.widget-view+json": {
              "version_major": 2,
              "version_minor": 0,
              "model_id": "ba004a87d2b542939f65ef4732feb778"
            }
          },
          "metadata": {}
        },
        {
          "output_type": "display_data",
          "data": {
            "text/plain": [
              "model.safetensors.index.json:   0%|          | 0.00/24.2k [00:00<?, ?B/s]"
            ],
            "application/vnd.jupyter.widget-view+json": {
              "version_major": 2,
              "version_minor": 0,
              "model_id": "6a7a5635d8fc4e3e854c1bad04d5fab0"
            }
          },
          "metadata": {}
        },
        {
          "output_type": "display_data",
          "data": {
            "text/plain": [
              "Downloading shards:   0%|          | 0/2 [00:00<?, ?it/s]"
            ],
            "application/vnd.jupyter.widget-view+json": {
              "version_major": 2,
              "version_minor": 0,
              "model_id": "a374ce0cc73e47e09aa34a84fd3d2ccb"
            }
          },
          "metadata": {}
        },
        {
          "output_type": "display_data",
          "data": {
            "text/plain": [
              "model-00001-of-000002.safetensors:   0%|          | 0.00/8.67G [00:00<?, ?B/s]"
            ],
            "application/vnd.jupyter.widget-view+json": {
              "version_major": 2,
              "version_minor": 0,
              "model_id": "ad279cc77a54438c91af97768b6a56f7"
            }
          },
          "metadata": {}
        },
        {
          "output_type": "display_data",
          "data": {
            "text/plain": [
              "model-00002-of-000002.safetensors:   0%|          | 0.00/7.39G [00:00<?, ?B/s]"
            ],
            "application/vnd.jupyter.widget-view+json": {
              "version_major": 2,
              "version_minor": 0,
              "model_id": "901bc4261ef54c47bee583372191009c"
            }
          },
          "metadata": {}
        },
        {
          "output_type": "display_data",
          "data": {
            "text/plain": [
              "Loading checkpoint shards:   0%|          | 0/2 [00:00<?, ?it/s]"
            ],
            "application/vnd.jupyter.widget-view+json": {
              "version_major": 2,
              "version_minor": 0,
              "model_id": "110ee19ad6af44839a42e32547651a14"
            }
          },
          "metadata": {}
        },
        {
          "output_type": "display_data",
          "data": {
            "text/plain": [
              "generation_config.json:   0%|          | 0.00/181 [00:00<?, ?B/s]"
            ],
            "application/vnd.jupyter.widget-view+json": {
              "version_major": 2,
              "version_minor": 0,
              "model_id": "75c1951dbab34e6ba87c9adf6e6df9d5"
            }
          },
          "metadata": {}
        }
      ]
    },
    {
      "cell_type": "code",
      "source": [
        "import transformers\n",
        "test_generator = transformers.pipeline(\n",
        "    model=model,\n",
        "    tokenizer=tokenizer,\n",
        "    return_full_text=False,\n",
        "    max_new_tokens=4096,\n",
        "    device_map = \"cuda\",\n",
        "    task=\"text-generation\")"
      ],
      "metadata": {
        "colab": {
          "base_uri": "https://localhost:8080/"
        },
        "outputId": "11250cf2-a4cc-4aa2-deb5-c8c55960481d",
        "id": "0_YVLhs_tYID"
      },
      "execution_count": null,
      "outputs": [
        {
          "output_type": "stream",
          "name": "stderr",
          "text": [
            "Device set to use cuda\n"
          ]
        }
      ]
    },
    {
      "cell_type": "code",
      "source": [
        "# create a function to generate responses\n",
        "def get_response(prompt):\n",
        "  response = test_generator(prompt)\n",
        "  text = response[0][\"generated_text\"]\n",
        "  return text"
      ],
      "metadata": {
        "id": "i_mLLZKmtYID"
      },
      "execution_count": null,
      "outputs": []
    },
    {
      "cell_type": "code",
      "source": [
        "response_all = []\n",
        "for i in range(len(cv_prompt_formatted)):\n",
        "  response = get_response(cv_prompt_formatted[i])\n",
        "  response_all.append(response.split(\"</think>\")[-1].strip())\n",
        "  # create gpt generated score"
      ],
      "metadata": {
        "id": "CchDlA3hfqqM"
      },
      "execution_count": null,
      "outputs": []
    },
    {
      "cell_type": "code",
      "source": [
        "response_all"
      ],
      "metadata": {
        "colab": {
          "base_uri": "https://localhost:8080/"
        },
        "outputId": "1e7b31e4-057b-4366-868e-42d5371ffd7a",
        "id": "wIwQtzABtYIE"
      },
      "execution_count": null,
      "outputs": [
        {
          "output_type": "execute_result",
          "data": {
            "text/plain": [
              "['7,6,4',\n",
              " '7,4,3',\n",
              " '7,3,3',\n",
              " '7,3,2',\n",
              " '6,4,4',\n",
              " '6,4,3',\n",
              " '5,5,3',\n",
              " '7,3,2',\n",
              " '7,3,1',\n",
              " '7,5,4',\n",
              " '7,4,3',\n",
              " '7,6,5',\n",
              " '7,5,3',\n",
              " '7,4,3',\n",
              " '5,3,3',\n",
              " '5,4,3',\n",
              " '7,4,3',\n",
              " '6,6,4',\n",
              " '7,4,3',\n",
              " 'Cognitive: 5\\nBehavioral: 5\\nAffective: 4',\n",
              " '6,5,4',\n",
              " '7,5,3',\n",
              " '7,3,1',\n",
              " '7,5,3',\n",
              " '7,5,3',\n",
              " '7,4,3',\n",
              " '7,4,3',\n",
              " '5,6,3',\n",
              " '7,5,4',\n",
              " '7,5,3',\n",
              " '7,5,3',\n",
              " '7,5,3',\n",
              " '7,6,4',\n",
              " '6,6,4',\n",
              " '7,5,3',\n",
              " '7,1,1',\n",
              " '7,5,5',\n",
              " '7,3,2',\n",
              " '7,4,4',\n",
              " '3,5,6']"
            ]
          },
          "metadata": {},
          "execution_count": 20
        }
      ]
    },
    {
      "cell_type": "code",
      "source": [
        "scores_extract = []\n",
        "for i in range(len(response_all)):\n",
        "  content_after_think = response_all[i].split(\"</think>\")[-1].strip()\n",
        "  scores_extract.append(content_after_think)\n",
        "\n",
        "print(scores_extract)"
      ],
      "metadata": {
        "colab": {
          "base_uri": "https://localhost:8080/"
        },
        "id": "Ud1lF4a5ug2-",
        "outputId": "7ec5c216-43a8-41c1-f939-5ea496cca84e"
      },
      "execution_count": null,
      "outputs": [
        {
          "output_type": "stream",
          "name": "stdout",
          "text": [
            "['6,5,5', '5,4,4', '7,4,3', '7,6,4', '6,5,4', '6,6,6', '7,7,5', '6,5,4', '6,4,5', '7,7,6', '7,6,4', '7,7,5', '7,6,4', '7,6,4', '7,6,4', '7,4,5', '7,7,5', '7,5,4', '7,4,4', '6,4,5', '6,5,4', '7,5,5', '5,5,3', '7,6,4', '7,7,4', '7,5,4', '7,6,5', '6,7,5', '7,5,4', '7,4,5', '7,5,6', '6,7,4', '7,7,5', '7,5,6', '5,5,5', '6,3,5', '7,7,5', '7,6,4', '7,4,4', '7,6,5']\n"
          ]
        }
      ]
    },
    {
      "cell_type": "markdown",
      "source": [
        "## Gemini"
      ],
      "metadata": {
        "id": "vPBjijmMp-CT"
      }
    },
    {
      "cell_type": "code",
      "source": [
        "!pip install -q -U google-generativeai"
      ],
      "metadata": {
        "id": "Jf2FSGdeqAsJ"
      },
      "execution_count": null,
      "outputs": []
    },
    {
      "cell_type": "code",
      "source": [
        "# Import the Python SDK\n",
        "import google.generativeai as genai\n",
        "# Used to securely store your API key\n",
        "from google.colab import userdata\n",
        "\n",
        "genai.configure(api_key='Your Gemini API key')"
      ],
      "metadata": {
        "id": "D-_lbC_JqDZa"
      },
      "execution_count": null,
      "outputs": []
    },
    {
      "cell_type": "code",
      "source": [
        "model = genai.GenerativeModel('gemini-2.0-flash')"
      ],
      "metadata": {
        "id": "IKKY49P7qFMc"
      },
      "execution_count": null,
      "outputs": []
    },
    {
      "cell_type": "code",
      "source": [
        "cv_prompt_gemini = []\n",
        "for i in range(len(items_cognitive)):\n",
        "\n",
        "  cv_prompt_gemini.append([\n",
        "    f\"\"\"**Role assignment**You are a content reviewer.\n",
        "      **task objective**Your task is to review a item and evaluate how they related to each construct.\n",
        "      **task instructions**\n",
        "      - You will be given three construct definitions for the items : {Content_reivew_D3}\n",
        "      - Assess the degree to which each item matches each of the three given construct definitions using a seven-point response scale, (1 = extremely bad; 2 = very bad; 3 = somewhat bad, 4 = adequate; 5 = somewhat good; 6 = very good; 7 = extremely good).\n",
        "      - You need to provide a score for each construct, so three scores for each item.\n",
        "      **Formatting Requirements**\n",
        "      - Seperate your ratings with coma.\n",
        "      - IMPORTANT: Only provide items, and ratings in your ouput, do not provide any other explanation.\n",
        "      **Evaluating targets**\n",
        "      Here is the item that you need to evaluate:\n",
        "      {items_affective[i]}.\n",
        "      \"\"\"])"
      ],
      "metadata": {
        "id": "wYUVM8ym0mBS"
      },
      "execution_count": null,
      "outputs": []
    },
    {
      "cell_type": "code",
      "source": [
        "response_all = []\n",
        "# you may need to adjust the range here due to the request limit you have on Gemini\n",
        "for i in range(0,40):\n",
        "  response = model.generate_content(cv_prompt_gemini[i])\n",
        "  response_all.append(response.text)\n",
        "  # create gpt generated score"
      ],
      "metadata": {
        "id": "-Bo-NJNk0ZeU"
      },
      "execution_count": null,
      "outputs": []
    },
    {
      "cell_type": "code",
      "source": [
        "response_all"
      ],
      "metadata": {
        "colab": {
          "base_uri": "https://localhost:8080/"
        },
        "id": "u7F2kByb1Nke",
        "outputId": "c5c89359-1b25-4a9f-d440-fc847a56d7e3"
      },
      "execution_count": null,
      "outputs": [
        {
          "output_type": "execute_result",
          "data": {
            "text/plain": [
              "['7, 1, 1\\n',\n",
              " '7, 1, 1\\n',\n",
              " '7, 2, 2\\n',\n",
              " '7, 1, 1\\n',\n",
              " '1, 1, 1\\n',\n",
              " '7, 2, 2\\n',\n",
              " '7, 1, 1\\n',\n",
              " '7, 1, 1\\n',\n",
              " '7, 1, 1\\n',\n",
              " '7, 1, 1\\n']"
            ]
          },
          "metadata": {},
          "execution_count": 35
        }
      ]
    },
    {
      "cell_type": "markdown",
      "source": [
        "#Get embeddings and EFA"
      ],
      "metadata": {
        "id": "Dy3BCEEu0tCV"
      }
    },
    {
      "cell_type": "markdown",
      "source": [
        "model tuning process is in a different file, the fine-tuned model for this construct is \"zihoo/all-MiniLM-L6-v2-IDT-multirank\""
      ],
      "metadata": {
        "id": "c5JBx0QT7M0_"
      }
    },
    {
      "cell_type": "code",
      "execution_count": null,
      "metadata": {
        "id": "vS4sa1VS_eNf"
      },
      "outputs": [],
      "source": [
        "!pip install -U sentence-transformers"
      ]
    },
    {
      "cell_type": "code",
      "source": [
        "from google.colab import drive\n",
        "drive.mount('/content/drive')"
      ],
      "metadata": {
        "id": "0h0BSzwaZVjw"
      },
      "execution_count": null,
      "outputs": []
    },
    {
      "cell_type": "code",
      "source": [
        "from sentence_transformers import SentenceTransformer\n",
        "\n",
        "# Load the original model and fine-tuned SBERT model\n",
        "model_raw = SentenceTransformer(\"all-MiniLM-L6-v2\") # original SBERT\n",
        "model_ft = SentenceTransformer(\"zihoo/all-MiniLM-L6-v2-IDT-multirank\") # Fine-tuned SBERT\n"
      ],
      "metadata": {
        "id": "H4KEN7Xum4JK"
      },
      "execution_count": null,
      "outputs": []
    },
    {
      "cell_type": "code",
      "source": [
        "# you can also read the item statements from a csv file\n",
        "sentences = [\n",
        "    \"I feel uncomfortable around this person.\",\n",
        "    \"I worry about future interactions with this person.\",\n",
        "    \"I feel tense when I am with this person.\",\n",
        "    \"I experience anxiety when interacting with this person.\",\n",
        "    \"It is stressful to interact with this person.\",\n",
        "    \"This person would engage in damaging and harmful behavior to pursue his/her own interest.\",\n",
        "    \"This person would behave in a deceptive and fraudulent way.\",\n",
        "    \"Based on past experience, I cannot rely on this person with complete confidence.\",\n",
        "    \"I am suspicious of the way this person will act in the future.\",\n",
        "    \"This person would use me for his/her own benefits.\",\n",
        "    \"I find it necessary to be cautious with this person.\",\n",
        "    \"I want to make sure this person has no power or effect on anything I work on.\",\n",
        "    \"I will protect myself from being taken advantage of by this person.\",\n",
        "    \"I want to distance myself from this person.\",\n",
        "    \"I will not count on this person for important things.\"]"
      ],
      "metadata": {
        "id": "YeRo88v7mSJv"
      },
      "execution_count": null,
      "outputs": []
    },
    {
      "cell_type": "code",
      "source": [
        "embeddings_raw = model_raw.encode(sentences, convert_to_numpy=True)\n",
        "embeddings_ft = model_ft.encode(sentences, convert_to_numpy=True)"
      ],
      "metadata": {
        "id": "bamm2rQ4m_LV"
      },
      "execution_count": null,
      "outputs": []
    },
    {
      "cell_type": "code",
      "source": [
        "from sklearn.metrics.pairwise import cosine_similarity\n",
        "import pandas as pd\n",
        "# 4. Compute cosine similarity matrix\n",
        "similarity_matrix_raw = cosine_similarity(embeddings_raw)\n",
        "similarity_matrix_ft = cosine_similarity(embeddings_ft)\n",
        "# similarity_matrix shape: (num_sentences, num_sentences)\n",
        "\n",
        "# 5. Convert the matrix to a DataFrame for easy saving\n",
        "df_sim_raw = pd.DataFrame(similarity_matrix_raw)\n",
        "df_sim_ft = pd.DataFrame(similarity_matrix_ft)\n",
        "# (Optional) Add row and column labels for clarity\n",
        "df_sim_raw.index = [f\"Sentence_{i}\" for i in range(len(sentences))]\n",
        "df_sim_raw.columns = [f\"Sentence_{i}\" for i in range(len(sentences))]\n",
        "\n",
        "df_sim_ft.index = [f\"Sentence_{i}\" for i in range(len(sentences))]\n",
        "df_sim_ft.columns = [f\"Sentence_{i}\" for i in range(len(sentences))]\n",
        "# 6. Save to CSV (optional)\n",
        "#df_sim_raw.to_csv(\"/content/drive/MyDrive/dissertation/Sbert finetune/data/WM/sim_originalitem_raw.csv\", index=True)\n",
        "#df_sim_ft.to_csv(\"/content/drive/MyDrive/dissertation/Sbert finetune/data/WM/sim_originalitem_ft.csv\", index=True)"
      ],
      "metadata": {
        "id": "jdJw3yn3pY2_"
      },
      "execution_count": null,
      "outputs": []
    },
    {
      "cell_type": "code",
      "source": [
        "!pip install factor_analyzer"
      ],
      "metadata": {
        "id": "WrMpvF4RsVW2"
      },
      "execution_count": null,
      "outputs": []
    },
    {
      "cell_type": "code",
      "source": [
        "import pandas as pd\n",
        "from factor_analyzer import FactorAnalyzer"
      ],
      "metadata": {
        "id": "83xpLzfDuR2T"
      },
      "execution_count": null,
      "outputs": []
    },
    {
      "cell_type": "code",
      "source": [
        "#scree plot\n",
        "df_raw = df_sim_raw\n",
        "fa_test = FactorAnalyzer(n_factors=df_raw.shape[1], rotation=None)\n",
        "fa_test.fit(df_raw)\n",
        "ev, v = fa_test.get_eigenvalues()\n",
        "print(\"Eigenvalues:\\n\", ev)\n",
        "\n",
        "# (Optional) Plot the eigenvalues to visualize the scree plot\n",
        "import matplotlib.pyplot as plt\n",
        "\n",
        "plt.scatter(range(1, df_raw.shape[1]+1), ev)\n",
        "plt.plot(range(1, df_raw.shape[1]+1), ev)\n",
        "plt.title(\"Scree Plot\")\n",
        "plt.xlabel(\"Factor\")\n",
        "plt.ylabel(\"Eigenvalue\")\n",
        "plt.grid()\n",
        "plt.show()"
      ],
      "metadata": {
        "id": "WsclYcZavras"
      },
      "execution_count": null,
      "outputs": []
    },
    {
      "cell_type": "code",
      "source": [
        "#scree plot\n",
        "df_ft = df_sim_ft\n",
        "fa_test = FactorAnalyzer(n_factors=df_ft.shape[1], rotation=None)\n",
        "fa_test.fit(df_ft)\n",
        "ev, v = fa_test.get_eigenvalues()\n",
        "print(\"Eigenvalues:\\n\", ev)\n",
        "\n",
        "# (Optional) Plot the eigenvalues to visualize the scree plot\n",
        "import matplotlib.pyplot as plt\n",
        "\n",
        "plt.scatter(range(1, df_ft.shape[1]+1), ev)\n",
        "plt.plot(range(1, df_ft.shape[1]+1), ev)\n",
        "plt.title(\"Scree Plot\")\n",
        "plt.xlabel(\"Factor\")\n",
        "plt.ylabel(\"Eigenvalue\")\n",
        "plt.grid()\n",
        "plt.show()"
      ],
      "metadata": {
        "id": "xFnttDI_Uz4s"
      },
      "execution_count": null,
      "outputs": []
    },
    {
      "cell_type": "code",
      "source": [
        "# raw model\n",
        "fa = FactorAnalyzer(is_corr_matrix = True, n_factors=3, rotation=\"oblimin\")\n",
        "fa.fit(df_raw)\n",
        "\n",
        "loadings = fa.loadings_.round(2)\n",
        "print(\"Factor loadings:\\n\", loadings)\n",
        "\n",
        "variance_info = fa.get_factor_variance()\n",
        "print(\"Variance explained by each factor:\\n\", variance_info)"
      ],
      "metadata": {
        "id": "ee7UWNzcU5oI"
      },
      "execution_count": null,
      "outputs": []
    },
    {
      "cell_type": "code",
      "source": [
        "# fine-tuned model\n",
        "fa = FactorAnalyzer(n_factors=3, is_corr_matrix=True, rotation=\"oblimin\")\n",
        "fa.fit(df_mean)\n",
        "\n",
        "loadings = fa.loadings_.round(2)\n",
        "print(\"Factor loadings:\\n\", loadings)\n",
        "\n",
        "variance_info = fa.get_factor_variance()\n",
        "print(\"Variance explained by each factor:\\n\", variance_info)"
      ],
      "metadata": {
        "id": "UO2S-Y2zvAu0"
      },
      "execution_count": null,
      "outputs": []
    }
  ]
}